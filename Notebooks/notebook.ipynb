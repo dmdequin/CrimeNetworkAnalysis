{
 "cells": [
  {
   "cell_type": "markdown",
   "id": "union-dynamics",
   "metadata": {},
   "source": [
    "# Network Analysis Project\n",
    "## Crime Network Analysis\n",
    "Professor: Michele Coscia\n",
    "\n",
    "This notebook contains all of the code developed for the Network Analysis Course at ITU. We will be using...**finish**\n",
    "\n",
    "**Add Description**\n",
    "\n",
    "Group 10:  \n",
    "Carl August Wismer ([cwis@itu.dk](mailto:cwis@itu.dk))  <br>\n",
    "Crisanna Cornish ([ccor@itu.dk](mailto:ccor@itu.dk))  <br>\n",
    "Danielle Dequin ([ddeq@itu.dk](mailto:ddeq@itu.dk))  <br>\n",
    "Maria Do Carmo Madeira Santos Silva Passos de Sousa ([mdom@itu.dk](mailto:mdom@itu.dk))  <br>\n",
    "Moneeca Abru Iftikhar Latif ([abml@itu.dk](mailto:abml@itu.dk))  <br>\n",
    "Sabrina Fonseca Pereira ([sabf@itu.dk](mailto:sabf@itu.dk))  <br>\n",
    "\n",
    "Created: 27-09-2021  \n",
    "Last Modified: 02-10-2021"
   ]
  },
  {
   "cell_type": "markdown",
   "id": "opponent-triumph",
   "metadata": {},
   "source": [
    "# Data Source\n",
    "\n",
    "The data are a network of associations among suspects, victims, and/or witnesses involved in crimes in St. Louis in the 1990s. Data are derived from police records, via snowball sampling from five initial homicides. Left nodes are people, right nodes are crime events, and edges connect people to particular crimes events they were associated with. Metadata includes names, genders, and roles (suspects, victims, and/or witnesses).\n",
    "\n",
    "This is an undirected, unweighted, bipartite network with 1380 nodes and 1476 edges.\n",
    "\n",
    "Data can be downloaded [here](http://konect.cc/networks/moreno_crime/) or [here](https://networks.skewed.de/net/crime)."
   ]
  },
  {
   "cell_type": "markdown",
   "id": "therapeutic-radiation",
   "metadata": {},
   "source": [
    "# Imports"
   ]
  },
  {
   "cell_type": "code",
   "execution_count": 1,
   "id": "variable-stevens",
   "metadata": {},
   "outputs": [],
   "source": [
    "import numpy as np\n",
    "import networkx as nx\n",
    "from networkx.algorithms import bipartite\n",
    "import matplotlib.pyplot as plt\n",
    "from collections import Counter\n",
    "import pandas as pd\n",
    "from scipy.stats import linregress\n",
    "from scipy.optimize import curve_fit\n",
    "import powerlaw as pl"
   ]
  },
  {
   "cell_type": "markdown",
   "id": "sacred-brake",
   "metadata": {},
   "source": [
    "# PATHS"
   ]
  },
  {
   "cell_type": "code",
   "execution_count": 2,
   "id": "competitive-jersey",
   "metadata": {},
   "outputs": [],
   "source": [
    "DATA = '../Data/out.moreno_crime_crime'\n",
    "ROLE = '../Data/rel.moreno_crime_crime.person.role'\n",
    "NAME = '../Data/ent.moreno_crime_crime.person.name'\n",
    "SEX =  '../Data/ent.moreno_crime_crime.person.sex'"
   ]
  },
  {
   "cell_type": "markdown",
   "id": "surface-dress",
   "metadata": {},
   "source": [
    "# Constants"
   ]
  },
  {
   "cell_type": "markdown",
   "id": "tired-suggestion",
   "metadata": {},
   "source": [
    "# Functions"
   ]
  },
  {
   "cell_type": "markdown",
   "id": "wrong-delay",
   "metadata": {},
   "source": [
    "# Load Data"
   ]
  },
  {
   "cell_type": "code",
   "execution_count": 3,
   "id": "bronze-vanilla",
   "metadata": {},
   "outputs": [],
   "source": [
    "with open(DATA) as f:\n",
    "    data = f.read().splitlines()\n",
    "    \n",
    "with open(ROLE) as f:\n",
    "    role = f.read().splitlines()\n",
    "    \n",
    "with open(NAME) as f:\n",
    "    name = f.read().splitlines()\n",
    "    \n",
    "with open(SEX) as f:\n",
    "    sex = f.read().splitlines()\n",
    "    \n",
    "for i in range(len(data)):\n",
    "    data[i] = 'p' + data[i] # adds 'p' to the People nodes to differentiate them"
   ]
  },
  {
   "cell_type": "code",
   "execution_count": 4,
   "id": "magnetic-mentor",
   "metadata": {},
   "outputs": [
    {
     "name": "stdout",
     "output_type": "stream",
     "text": [
      "1380 1476\n"
     ]
    }
   ],
   "source": [
    "B = nx.read_edgelist(data) # read edgelist in\n",
    "print(len(B.nodes()), len(B.edges())) # sanity check (1380, 1476)"
   ]
  },
  {
   "cell_type": "code",
   "execution_count": 5,
   "id": "theoretical-mountain",
   "metadata": {},
   "outputs": [
    {
     "name": "stdout",
     "output_type": "stream",
     "text": [
      "There are 829 unique people and 551 unique crime events.\n"
     ]
    }
   ],
   "source": [
    "graph = np.loadtxt(DATA, dtype=str)\n",
    "a = np.unique(graph[:,0]) # people nodes\n",
    "b = np.unique(graph[:,1]) # crime nodes\n",
    "a = ['p' + a for a in a] # add string to differentiate\n",
    "\n",
    "print(f\"There are {len(a)} unique people and {len(b)} unique crime events.\")"
   ]
  },
  {
   "cell_type": "markdown",
   "id": "removed-crack",
   "metadata": {},
   "source": [
    "## Create Graph"
   ]
  },
  {
   "cell_type": "code",
   "execution_count": 46,
   "id": "turkish-substitute",
   "metadata": {},
   "outputs": [],
   "source": [
    "G = nx.Graph()\n",
    "\n",
    "# add nodes\n",
    "for j in range(len(a)):\n",
    "    G.add_node(a[j], bipartite=0, data=True, name=name[j], sex=sex[j]) #Add attributes name and sex\n",
    "\n",
    "G.add_nodes_from(b, bipartite=1, data=True)\n",
    "\n",
    "# add edges\n",
    "i = 0\n",
    "for edge in B.edges():\n",
    "    G.add_edge(edge[0], edge[1], role= [role[i]]) # why role is in a list?\n",
    "    i+=1"
   ]
  },
  {
   "cell_type": "code",
   "execution_count": 7,
   "id": "strong-charles",
   "metadata": {},
   "outputs": [
    {
     "name": "stdout",
     "output_type": "stream",
     "text": [
      "Num. of nodes: 1380 \n",
      "Num. of edges: 1476 \n",
      "Is bipartite? True \n",
      "Is connected? False\n"
     ]
    }
   ],
   "source": [
    "# sanity check\n",
    "print(\n",
    "    'Num. of nodes: {} \\nNum. of edges: {} \\nIs bipartite? {} \\nIs connected? {}'.format(\n",
    "        G.number_of_nodes(), \n",
    "        G.number_of_edges(), \n",
    "        nx.is_bipartite(G),\n",
    "        nx.is_connected(G)\n",
    "        )\n",
    "    )"
   ]
  },
  {
   "cell_type": "markdown",
   "id": "caring-northern",
   "metadata": {},
   "source": [
    "From the [official Networkx docs](https://networkx.org/documentation/stable/reference/algorithms/bipartite.html):\n",
    "\n",
    "Many algorithms of the bipartite module of NetworkX require, as an argument, a container with all the nodes that belong to one set, in addition to the bipartite graph B. The functions in the bipartite package do not check that the node set is actually correct nor that the input graph is actually bipartite. If B is connected, you can find the two node sets using a two-coloring algorithm:\n",
    "\n",
    "```py\n",
    ">>> nx.is_connected(B)\n",
    "True\n",
    ">>> bottom_nodes, top_nodes = bipartite.sets(B)\n",
    "```\n",
    "However, if the input graph is not connected, there are more than one possible colorations. This is the reason why we require the user to pass a container with all nodes of one bipartite node set as an argument to most bipartite functions. In the face of ambiguity, we refuse the temptation to guess and raise an AmbiguousSolution Exception if the input graph for bipartite.sets is disconnected.\n",
    "\n",
    "Using the bipartite node attribute, you can easily get the two node sets:"
   ]
  },
  {
   "cell_type": "code",
   "execution_count": 8,
   "id": "dramatic-image",
   "metadata": {},
   "outputs": [],
   "source": [
    "top_nodes = {n for n, d in G.nodes(data=True) if d[\"bipartite\"] == 0} # people\n",
    "bottom_nodes = set(G) - top_nodes # crimes"
   ]
  },
  {
   "cell_type": "markdown",
   "id": "final-suspect",
   "metadata": {},
   "source": [
    "## Adding metadata to nodes"
   ]
  },
  {
   "cell_type": "code",
   "execution_count": 9,
   "id": "endless-mitchell",
   "metadata": {},
   "outputs": [
    {
     "name": "stdout",
     "output_type": "stream",
     "text": [
      "AbelDennis\n",
      "1\n"
     ]
    }
   ],
   "source": [
    "print(nx.get_node_attributes(G, 'name')['p1']) # check name of person 'p1' = 'AbelDennis'\n",
    "print(nx.get_node_attributes(G, 'sex')['p1']) # check sex of person 'p1' = '1'"
   ]
  },
  {
   "cell_type": "code",
   "execution_count": 10,
   "id": "placed-memorabilia",
   "metadata": {},
   "outputs": [
    {
     "data": {
      "text/plain": [
       "['Suspect']"
      ]
     },
     "execution_count": 10,
     "metadata": {},
     "output_type": "execute_result"
    }
   ],
   "source": [
    "nx.get_edge_attributes(G, 'role')['p1', '1']\n",
    "# check role of edge between person p1 and crime 1 = 'Suspect'"
   ]
  },
  {
   "cell_type": "markdown",
   "id": "killing-people",
   "metadata": {},
   "source": [
    "# Exploratory Data Analysis"
   ]
  },
  {
   "cell_type": "markdown",
   "id": "bright-premiere",
   "metadata": {},
   "source": [
    "## Graph stats"
   ]
  },
  {
   "cell_type": "code",
   "execution_count": 11,
   "id": "crucial-punch",
   "metadata": {},
   "outputs": [
    {
     "name": "stdout",
     "output_type": "stream",
     "text": [
      "Density: 0.0032313219302988975 \n",
      "Avarage clustering: 0.42747513026061823\n"
     ]
    }
   ],
   "source": [
    "print(\n",
    "    'Density: {} \\nAvarage clustering: {}'.format(\n",
    "        bipartite.density(G, bottom_nodes), \n",
    "        bipartite.average_clustering(G)\n",
    "        )\n",
    "    )"
   ]
  },
  {
   "cell_type": "code",
   "execution_count": 12,
   "id": "passive-midwest",
   "metadata": {},
   "outputs": [
    {
     "data": {
      "text/plain": [
       "0.4274751302606178"
      ]
     },
     "execution_count": 12,
     "metadata": {},
     "output_type": "execute_result"
    }
   ],
   "source": [
    "cluster = bipartite.clustering(B)\n",
    "sum(cluster.values())/len(cluster.values())"
   ]
  },
  {
   "cell_type": "markdown",
   "id": "alpha-mason",
   "metadata": {},
   "source": [
    "## Nodes stats"
   ]
  },
  {
   "cell_type": "code",
   "execution_count": 13,
   "id": "abandoned-writer",
   "metadata": {},
   "outputs": [],
   "source": [
    "# dicts with stats for each node\n",
    "clustering = bipartite.clustering(G)\n",
    "betweenness_centrality = bipartite.betweenness_centrality(G, top_nodes)\n",
    "closeness_centrality = bipartite.closeness_centrality(G, top_nodes)"
   ]
  },
  {
   "cell_type": "code",
   "execution_count": 14,
   "id": "integral-bloom",
   "metadata": {},
   "outputs": [],
   "source": [
    "global_clustering = bipartite.robins_alexander_clustering(G)\n",
    "avg_clustering = bipartite.average_clustering(G, top_nodes)"
   ]
  },
  {
   "cell_type": "code",
   "execution_count": 15,
   "id": "aging-portuguese",
   "metadata": {},
   "outputs": [],
   "source": [
    "# Average Degree"
   ]
  },
  {
   "cell_type": "code",
   "execution_count": 16,
   "id": "deluxe-compromise",
   "metadata": {},
   "outputs": [],
   "source": [
    "# Average Left Degree"
   ]
  },
  {
   "cell_type": "code",
   "execution_count": 17,
   "id": "active-pierre",
   "metadata": {},
   "outputs": [],
   "source": [
    "# Average Right Degree"
   ]
  },
  {
   "cell_type": "code",
   "execution_count": 18,
   "id": "smart-piano",
   "metadata": {},
   "outputs": [
    {
     "name": "stdout",
     "output_type": "stream",
     "text": [
      "p815 25\n"
     ]
    }
   ],
   "source": [
    "# People node with the most neighbors (Max left degree)\n",
    "node_neighbors = {n: len(set(G.neighbors(n))) for n in top_nodes}\n",
    "maxnode = max(node_neighbors, key = node_neighbors.get)\n",
    "print(maxnode, node_neighbors[maxnode])"
   ]
  },
  {
   "cell_type": "code",
   "execution_count": 19,
   "id": "corrected-ranch",
   "metadata": {},
   "outputs": [
    {
     "name": "stdout",
     "output_type": "stream",
     "text": [
      "110 18\n"
     ]
    }
   ],
   "source": [
    "# Crime node with the most neighbors (Max right degree)\n",
    "node_neighbors = {n: len(set(G.neighbors(n))) for n in bottom_nodes}\n",
    "maxnode = max(node_neighbors, key = node_neighbors.get)\n",
    "print(maxnode, node_neighbors[maxnode])"
   ]
  },
  {
   "cell_type": "markdown",
   "id": "seeing-conservative",
   "metadata": {},
   "source": [
    "## Graph components"
   ]
  },
  {
   "cell_type": "code",
   "execution_count": 20,
   "id": "competent-reducing",
   "metadata": {},
   "outputs": [],
   "source": [
    "# components in the graph sorted in descendent order\n",
    "Gcc = sorted(nx.connected_components(G), key=len, reverse=True)\n",
    "# selecting the biggest component\n",
    "G0 = G.subgraph(Gcc[0])"
   ]
  },
  {
   "cell_type": "code",
   "execution_count": 21,
   "id": "nutritional-finance",
   "metadata": {},
   "outputs": [
    {
     "data": {
      "text/plain": [
       "'Number of nodes for each components [1263, 30, 18, 13, 9, 7, 6, 5, 4, 3, 3, 3, 2, 2, 2, 2, 2, 2, 2, 2] and number of components 20'"
      ]
     },
     "execution_count": 21,
     "metadata": {},
     "output_type": "execute_result"
    }
   ],
   "source": [
    "# Number of nodes for each component and number of components\n",
    "comp_list = []\n",
    "for comp in Gcc:\n",
    "    comp_len = len(comp)\n",
    "    comp_list.append(comp_len)\n",
    "\n",
    "f'Number of nodes for each components {comp_list} and number of components {len(comp_list)}'"
   ]
  },
  {
   "cell_type": "code",
   "execution_count": 22,
   "id": "sweet-radar",
   "metadata": {},
   "outputs": [
    {
     "data": {
      "image/png": "[encoded data removed]",
      "text/plain": [
       "<Figure size 432x288 with 1 Axes>"
      ]
     },
     "metadata": {},
     "output_type": "display_data"
    }
   ],
   "source": [
    "# plot only biggest component\n",
    "pos = nx.spring_layout(G0)\n",
    "posB = nx.bipartite_layout(G0, top_nodes)\n",
    "biggest_comp_graph = nx.draw(G0,pos,node_size=10)"
   ]
  },
  {
   "cell_type": "code",
   "execution_count": 23,
   "id": "iraqi-geometry",
   "metadata": {},
   "outputs": [
    {
     "data": {
      "image/png": "[encoded data removed]",
      "text/plain": [
       "<Figure size 432x288 with 1 Axes>"
      ]
     },
     "metadata": {},
     "output_type": "display_data"
    }
   ],
   "source": [
    "# Biggest component bipartite plot\n",
    "biggest_comp_graph = nx.draw(G0,posB,node_size=10)"
   ]
  },
  {
   "cell_type": "markdown",
   "id": "explicit-explosion",
   "metadata": {},
   "source": [
    "## Plots"
   ]
  },
  {
   "cell_type": "code",
   "execution_count": 24,
   "id": "juvenile-domain",
   "metadata": {},
   "outputs": [
    {
     "data": {
      "image/png": "[encoded data removed]",
      "text/plain": [
       "<Figure size 432x288 with 1 Axes>"
      ]
     },
     "metadata": {
      "needs_background": "light"
     },
     "output_type": "display_data"
    }
   ],
   "source": [
    "e_p = []\n",
    "e_c = []\n",
    "for k in G.nodes():\n",
    "    if G.nodes[k][\"bipartite\"] == 0:\n",
    "        e_p.append(len(G.edges(k)))\n",
    "    else:\n",
    "        e_c.append(len(G.edges(k)))\n",
    "\n",
    "e_cc = Counter(e_c)\n",
    "plt.scatter(e_cc.keys(), e_cc.values())\n",
    "plt.title('number of people involved in each crime')\n",
    "plt.xlabel('Number of people')\n",
    "plt.ylabel('Count');"
   ]
  },
  {
   "cell_type": "code",
   "execution_count": 25,
   "id": "capable-lightweight",
   "metadata": {},
   "outputs": [
    {
     "data": {
      "image/png": "[encoded data removed]",
      "text/plain": [
       "<Figure size 432x288 with 1 Axes>"
      ]
     },
     "metadata": {
      "needs_background": "light"
     },
     "output_type": "display_data"
    }
   ],
   "source": [
    "e_pc = Counter(e_p)\n",
    "plt.scatter(e_pc.keys(), e_pc.values())\n",
    "plt.title('number of crimes each person has any involvement in')\n",
    "plt.xlabel('Number of crimes')\n",
    "plt.ylabel('Count');"
   ]
  },
  {
   "cell_type": "code",
   "execution_count": 26,
   "id": "absent-picking",
   "metadata": {},
   "outputs": [
    {
     "data": {
      "image/png": "[encoded data removed]",
      "text/plain": [
       "<Figure size 432x288 with 1 Axes>"
      ]
     },
     "metadata": {},
     "output_type": "display_data"
    }
   ],
   "source": [
    "P = bipartite.weighted_projected_graph(G, top_nodes)\n",
    "nx.draw(P, node_size=20)"
   ]
  },
  {
   "cell_type": "code",
   "execution_count": 27,
   "id": "active-policy",
   "metadata": {},
   "outputs": [
    {
     "data": {
      "image/png": "[encoded data removed]",
      "text/plain": [
       "<Figure size 432x288 with 1 Axes>"
      ]
     },
     "metadata": {},
     "output_type": "display_data"
    }
   ],
   "source": [
    "C = bipartite.weighted_projected_graph(G, bottom_nodes)\n",
    "nx.draw(C, node_size=20)"
   ]
  },
  {
   "cell_type": "markdown",
   "id": "virtual-indie",
   "metadata": {},
   "source": [
    "#### Non-square adjacency matrix, and stocastic matrix"
   ]
  },
  {
   "cell_type": "code",
   "execution_count": 28,
   "id": "constitutional-woman",
   "metadata": {},
   "outputs": [
    {
     "name": "stdout",
     "output_type": "stream",
     "text": [
      "(829, 551)\n"
     ]
    }
   ],
   "source": [
    "# Non-square adjacency matrix\n",
    "adjmat = nx.algorithms.bipartite.matrix.biadjacency_matrix(G, top_nodes)\n",
    "print(adjmat.shape)"
   ]
  },
  {
   "cell_type": "code",
   "execution_count": 29,
   "id": "mineral-range",
   "metadata": {},
   "outputs": [],
   "source": [
    "# Project along smaller axis\n",
    "if adjmat.shape[0] == 551:\n",
    "    adjmat_proj = adjmat.dot(adjmat.T)\n",
    "else:\n",
    "    adjmat_proj = adjmat.T.dot(adjmat)"
   ]
  },
  {
   "cell_type": "code",
   "execution_count": 30,
   "id": "collaborative-pocket",
   "metadata": {},
   "outputs": [
    {
     "name": "stdout",
     "output_type": "stream",
     "text": [
      "(551, 551)\n"
     ]
    }
   ],
   "source": [
    "# Make stocastic\n",
    "adjmat_proj_stoc = adjmat_proj / adjmat_proj.sum(axis = 1)\n",
    "print(adjmat_proj_stoc.shape)"
   ]
  },
  {
   "cell_type": "markdown",
   "id": "located-couple",
   "metadata": {},
   "source": [
    "#### Degree distribution in the network"
   ]
  },
  {
   "cell_type": "code",
   "execution_count": 31,
   "id": "awful-attack",
   "metadata": {},
   "outputs": [],
   "source": [
    "dd = Counter(dict(G.degree).values())\n",
    "dd = pd.DataFrame(list(dd.items()), columns = (\"Degree (d)\", \"Frequency\")).sort_values(by = \"Degree (d)\")"
   ]
  },
  {
   "cell_type": "code",
   "execution_count": 32,
   "id": "gentle-gallery",
   "metadata": {},
   "outputs": [
    {
     "data": {
      "image/png": "[encoded data removed]",
      "text/plain": [
       "<Figure size 432x288 with 1 Axes>"
      ]
     },
     "metadata": {
      "needs_background": "light"
     },
     "output_type": "display_data"
    }
   ],
   "source": [
    "dd.plot(kind = \"scatter\", x = \"Degree (d)\", y = \"Frequency\", color = \"#e41a1c\")\n",
    "#plt.savefig(\"../Report/degree_distribution.png\")\n",
    "plt.show()"
   ]
  },
  {
   "cell_type": "code",
   "execution_count": 33,
   "id": "elegant-environment",
   "metadata": {},
   "outputs": [
    {
     "data": {
      "image/png": "[encoded data removed]",
      "text/plain": [
       "<Figure size 432x288 with 1 Axes>"
      ]
     },
     "metadata": {
      "needs_background": "light"
     },
     "output_type": "display_data"
    }
   ],
   "source": [
    "# Loglog scale of the degree distribution\n",
    "dd.plot(kind = \"scatter\", x = \"Degree (d)\", y = \"Frequency\", color = \"#e41a1c\", loglog = True)\n",
    "#plt.savefig(\"../Report/degree_distribution_loglog.png\")\n",
    "plt.show()"
   ]
  },
  {
   "cell_type": "markdown",
   "id": "talented-theme",
   "metadata": {},
   "source": [
    "#### Cumulative Distribution Function"
   ]
  },
  {
   "cell_type": "code",
   "execution_count": 34,
   "id": "outside-tower",
   "metadata": {},
   "outputs": [],
   "source": [
    "# Degree distribution\n",
    "ccdf = dd.sort_values(by = \"Degree (d)\", ascending = False)\n",
    "ccdf[\"cumsum\"] = ccdf[\"Frequency\"].cumsum()\n",
    "ccdf[\"ccdf: P(X>=d)\"] = ccdf[\"cumsum\"] / ccdf[\"Frequency\"].sum()\n",
    "ccdf = ccdf[[\"Degree (d)\", \"ccdf: P(X>=d)\"]].sort_values(by = \"Degree (d)\")"
   ]
  },
  {
   "cell_type": "code",
   "execution_count": 35,
   "id": "twenty-farming",
   "metadata": {},
   "outputs": [
    {
     "data": {
      "image/png": "[encoded data removed]",
      "text/plain": [
       "<Figure size 432x288 with 1 Axes>"
      ]
     },
     "metadata": {
      "needs_background": "light"
     },
     "output_type": "display_data"
    }
   ],
   "source": [
    "ccdf.plot(kind = \"line\", x = \"Degree (d)\", y = \"ccdf: P(X>=d)\", color = \"#e41a1c\", loglog = True)\n",
    "#plt.savefig(\"../Report/degree_distribution_ccdf.png\")\n",
    "plt.show()"
   ]
  },
  {
   "cell_type": "markdown",
   "id": "reasonable-audit",
   "metadata": {},
   "source": [
    "#### Fit CCDF to PowerLaw"
   ]
  },
  {
   "cell_type": "code",
   "execution_count": 36,
   "id": "announced-complement",
   "metadata": {},
   "outputs": [
    {
     "name": "stdout",
     "output_type": "stream",
     "text": [
      "CCDF Fit: 2.4953 x ^ -2.2984 (R2 = 0.9663, p = 0.0000)\n"
     ]
    }
   ],
   "source": [
    "logcdf = np.log10(ccdf[[\"Degree (d)\", \"ccdf: P(X>=d)\"]])\n",
    "slope, log10intercept, r_value, p_value, std_err = linregress(logcdf[\"Degree (d)\"], logcdf[\"ccdf: P(X>=d)\"])\n",
    "print(\"CCDF Fit: %1.4f x ^ %1.4f (R2 = %1.4f, p = %1.4f)\" % (10 ** log10intercept, slope, r_value ** 2, p_value))"
   ]
  },
  {
   "cell_type": "code",
   "execution_count": 37,
   "id": "desperate-melbourne",
   "metadata": {},
   "outputs": [
    {
     "name": "stdout",
     "output_type": "stream",
     "text": [
      "Powerlaw CCDF Fit: 11.5112 x ^ -1.4393 (k_min = 18)\n"
     ]
    },
    {
     "name": "stderr",
     "output_type": "stream",
     "text": [
      "Calculating best minimal value for power law fit\n",
      "C:\\Users\\carmo\\anaconda3\\lib\\site-packages\\powerlaw.py:699: RuntimeWarning: invalid value encountered in true_divide\n",
      "  (CDF_diff**2) /\n"
     ]
    }
   ],
   "source": [
    "results = pl.Fit(ccdf[\"ccdf: P(X>=d)\"])\n",
    "k_min = ccdf[ccdf[\"ccdf: P(X>=d)\"] == results.power_law.xmin][\"Degree (d)\"]\n",
    "print(\"Powerlaw CCDF Fit: %1.4f x ^ -%1.4f (k_min = %d)\" % (10 ** results.power_law.Kappa, results.power_law.alpha, k_min))"
   ]
  },
  {
   "cell_type": "code",
   "execution_count": 38,
   "id": "photographic-equipment",
   "metadata": {},
   "outputs": [
    {
     "data": {
      "text/plain": [
       "<matplotlib.axes._subplots.AxesSubplot at 0x202fe479400>"
      ]
     },
     "execution_count": 38,
     "metadata": {},
     "output_type": "execute_result"
    },
    {
     "data": {
      "image/png": "[encoded data removed]",
      "text/plain": [
       "<Figure size 432x288 with 1 Axes>"
      ]
     },
     "metadata": {
      "needs_background": "light"
     },
     "output_type": "display_data"
    }
   ],
   "source": [
    "# Plot the best fit.\n",
    "ccdf[\"fit\"] = (10 ** results.power_law.Kappa) * (ccdf[\"Degree (d)\"] ** -results.power_law.alpha)\n",
    "ax = plt.gca()\n",
    "ccdf.plot(kind = \"line\", x = \"Degree (d)\", y = \"ccdf: P(X>=d)\", color = \"#e41a1c\", loglog = True, ax = ax)\n",
    "ccdf.plot(kind = \"line\", x = \"Degree (d)\", y = \"fit\", color = \"#377eb8\", loglog = True, ax = ax)\n",
    "#plt.savefig(\"../Report/ccdf_fit.png\")"
   ]
  },
  {
   "cell_type": "markdown",
   "id": "choice-warning",
   "metadata": {},
   "source": [
    "#### More Powerlaw Stuff"
   ]
  },
  {
   "cell_type": "code",
   "execution_count": 39,
   "id": "undefined-relaxation",
   "metadata": {},
   "outputs": [],
   "source": [
    "def f(x, a, l):\n",
    "    return (x ** a) * np.exp(-l * x) \n",
    "\n",
    "def log_f(x, a, l):\n",
    "    return np.log10(f(x, a, l))"
   ]
  },
  {
   "cell_type": "code",
   "execution_count": 40,
   "id": "apart-jamaica",
   "metadata": {},
   "outputs": [],
   "source": [
    "popt, pcov = curve_fit(log_f, ccdf[\"Degree (d)\"], np.log10(ccdf[\"ccdf: P(X>=d)\"]), p0 = (1, 1))\n",
    "ccdf[\"fit\"] = ccdf.apply(lambda x: f(x[\"Degree (d)\"], popt[0], popt[1]), axis = 1)"
   ]
  },
  {
   "cell_type": "code",
   "execution_count": 41,
   "id": "comprehensive-herald",
   "metadata": {},
   "outputs": [
    {
     "data": {
      "image/png": "[encoded data removed]",
      "text/plain": [
       "<Figure size 432x288 with 1 Axes>"
      ]
     },
     "metadata": {
      "needs_background": "light"
     },
     "output_type": "display_data"
    }
   ],
   "source": [
    "ax = plt.gca()\n",
    "ccdf.plot(kind = \"line\", x = \"Degree (d)\", y = \"ccdf: P(X>=d)\", color = \"#e41a1c\", loglog = True, ax = ax)\n",
    "ccdf.plot(kind = \"line\", x = \"Degree (d)\", y = \"fit\", color = \"#377eb8\", loglog = True, ax = ax)\n",
    "#plt.savefig(\"../Report/ccdf_fit.png\")\n",
    "plt.show()"
   ]
  },
  {
   "cell_type": "markdown",
   "id": "living-albert",
   "metadata": {},
   "source": [
    "# Projections\n",
    " Projections of suspect graph  \n",
    " From the BCC extracted only the suspect edges and created a new graph that is not connected but still bipartite. From there projected onto people nodes.\n",
    "- [ ] Figure out how to keep crime name as edge attribute"
   ]
  },
  {
   "cell_type": "markdown",
   "id": "engaged-occasions",
   "metadata": {},
   "source": [
    "## Extract suspect edges\n",
    "Created a new graph with only suspects to do further analysis (try projections)."
   ]
  },
  {
   "cell_type": "code",
   "execution_count": 44,
   "metadata": {},
   "outputs": [
    {
     "data": {
      "text/plain": [
       "{('p1', '1'): ['Suspect'],\n",
       " ('p1', '2'): ['Victim'],\n",
       " ('p1', '3'): ['Victim'],\n",
       " ('p1', '4'): ['Suspect'],\n",
       " ('p10', '32'): ['Suspect'],\n",
       " ('p10', '33'): ['Witness'],\n",
       " ('p10', '34'): ['Victim'],\n",
       " ('p10', '35'): ['Suspect'],\n",
       " ('p10', '36'): ['Suspect'],\n",
       " ('p10', '37'): ['Victim'],\n",
       " ('p10', '38'): ['Victim Suspect'],\n",
       " ('p10', '39'): ['Victim'],\n",
       " ('p100', '155'): ['Suspect'],\n",
       " ('p101', '70'): ['Witness'],\n",
       " ('p101', '155'): ['Suspect'],\n",
       " ('p102', '156'): ['Victim'],\n",
       " ('p103', '157'): ['Witness'],\n",
       " ('p105', '160'): ['Witness'],\n",
       " ('p106', '58'): ['Suspect'],\n",
       " ('p106', '157'): ['Suspect'],\n",
       " ('p106', '161'): ['Suspect'],\n",
       " ('p107', '162'): ['Witness'],\n",
       " ('p108', '163'): ['Suspect'],\n",
       " ('p108', '164'): ['Suspect'],\n",
       " ('p108', '165'): ['Victim'],\n",
       " ('p108', '166'): ['Suspect'],\n",
       " ('p108', '167'): ['Suspect'],\n",
       " ('p108', '168'): ['Suspect'],\n",
       " ('p109', '165'): ['Witness'],\n",
       " ('p11', '31'): ['Suspect'],\n",
       " ('p110', '169'): ['Victim'],\n",
       " ('p111', '169'): ['Suspect'],\n",
       " ('p112', '90'): ['Witness'],\n",
       " ('p112', '170'): ['Suspect'],\n",
       " ('p112', '171'): ['Witness'],\n",
       " ('p112', '172'): ['Victim'],\n",
       " ('p113', '80'): ['Suspect'],\n",
       " ('p114', '28'): ['Suspect'],\n",
       " ('p114', '95'): ['Victim'],\n",
       " ('p115', '173'): ['Victim'],\n",
       " ('p115', '174'): ['Victim'],\n",
       " ('p115', '175'): ['Suspect'],\n",
       " ('p115', '176'): ['Suspect'],\n",
       " ('p115', '177'): ['Victim'],\n",
       " ('p115', '178'): ['Suspect'],\n",
       " ('p115', '179'): ['Suspect'],\n",
       " ('p115', '180'): ['Victim'],\n",
       " ('p115', '181'): ['Witness'],\n",
       " ('p116', '88'): ['Victim'],\n",
       " ('p117', '182'): ['Witness'],\n",
       " ('p117', '183'): ['Suspect'],\n",
       " ('p118', '184'): ['Witness'],\n",
       " ('p119', '184'): ['Victim'],\n",
       " ('p119', '185'): ['Victim'],\n",
       " ('p12', '40'): ['Victim'],\n",
       " ('p12', '41'): ['Victim'],\n",
       " ('p12', '42'): ['Witness'],\n",
       " ('p120', '186'): ['Victim'],\n",
       " ('p121', '65'): ['Victim'],\n",
       " ('p122', '187'): ['Suspect'],\n",
       " ('p123', '188'): ['Suspect'],\n",
       " ('p124', '189'): ['Suspect'],\n",
       " ('p125', '190'): ['Victim'],\n",
       " ('p126', '191'): ['Victim'],\n",
       " ('p128', '110'): ['Suspect'],\n",
       " ('p128', '193'): ['Victim'],\n",
       " ('p128', '194'): ['Victim'],\n",
       " ('p128', '195'): ['Suspect'],\n",
       " ('p128', '196'): ['Suspect'],\n",
       " ('p128', '197'): ['Witness'],\n",
       " ('p129', '186'): ['Suspect'],\n",
       " ('p129', '193'): ['Witness'],\n",
       " ('p129', '198'): ['Suspect'],\n",
       " ('p129', '199'): ['Witness'],\n",
       " ('p129', '200'): ['Victim'],\n",
       " ('p13', '42'): ['Victim'],\n",
       " ('p130', '36'): ['Witness'],\n",
       " ('p131', '189'): ['Victim'],\n",
       " ('p131', '201'): ['Victim'],\n",
       " ('p131', '202'): ['Suspect'],\n",
       " ('p131', '203'): ['Suspect'],\n",
       " ('p132', '182'): ['Suspect'],\n",
       " ('p133', '204'): ['Witness'],\n",
       " ('p134', '204'): ['Victim'],\n",
       " ('p136', '206'): ['Suspect'],\n",
       " ('p137', '207'): ['Victim'],\n",
       " ('p138', '208'): ['Victim'],\n",
       " ('p139', '38'): ['Suspect'],\n",
       " ('p14', '42'): ['Suspect'],\n",
       " ('p142', '210'): ['Victim'],\n",
       " ('p143', '130'): ['Victim'],\n",
       " ('p144', '211'): ['Suspect'],\n",
       " ('p147', '218'): ['Suspect'],\n",
       " ('p148', '219'): ['Suspect'],\n",
       " ('p149', '153'): ['Suspect'],\n",
       " ('p15', '43'): ['Suspect'],\n",
       " ('p150', '187'): ['Suspect'],\n",
       " ('p151', '172'): ['Victim'],\n",
       " ('p152', '139'): ['Victim'],\n",
       " ('p152', '189'): ['Witness'],\n",
       " ('p152', '220'): ['Victim'],\n",
       " ('p154', '39'): ['Witness'],\n",
       " ('p155', '199'): ['Victim'],\n",
       " ('p155', '200'): ['Victim'],\n",
       " ('p155', '222'): ['Victim'],\n",
       " ('p155', '223'): ['Victim'],\n",
       " ('p155', '224'): ['Suspect'],\n",
       " ('p156', '56'): ['Suspect'],\n",
       " ('p159', '101'): ['Victim'],\n",
       " ('p159', '207'): ['Victim'],\n",
       " ('p159', '226'): ['Witness'],\n",
       " ('p159', '227'): ['Suspect'],\n",
       " ('p159', '228'): ['Witness'],\n",
       " ('p159', '229'): ['Suspect'],\n",
       " ('p159', '230'): ['Suspect'],\n",
       " ('p16', '44'): ['Victim'],\n",
       " ('p160', '207'): ['Suspect'],\n",
       " ('p161', '147'): ['Suspect'],\n",
       " ('p162', '39'): ['Suspect'],\n",
       " ('p162', '231'): ['Suspect'],\n",
       " ('p164', '232'): ['Suspect'],\n",
       " ('p165', '111'): ['Suspect'],\n",
       " ('p166', '116'): ['Suspect'],\n",
       " ('p167', '39'): ['Suspect'],\n",
       " ('p167', '233'): ['Victim'],\n",
       " ('p168', '234'): ['Suspect'],\n",
       " ('p169', '235'): ['Suspect'],\n",
       " ('p17', '45'): ['Victim'],\n",
       " ('p17', '46'): ['Suspect'],\n",
       " ('p17', '47'): ['Witness'],\n",
       " ('p17', '48'): ['Suspect'],\n",
       " ('p17', '49'): ['Witness'],\n",
       " ('p170', '161'): ['Victim'],\n",
       " ('p171', '102'): ['Victim'],\n",
       " ('p171', '236'): ['Suspect'],\n",
       " ('p173', '238'): ['Suspect'],\n",
       " ('p174', '222'): ['Suspect'],\n",
       " ('p174', '223'): ['Suspect'],\n",
       " ('p174', '239'): ['Suspect'],\n",
       " ('p174', '240'): ['Witness'],\n",
       " ('p175', '228'): ['Suspect'],\n",
       " ('p176', '151'): ['Witness'],\n",
       " ('p177', '56'): ['Victim'],\n",
       " ('p178', '43'): ['Suspect'],\n",
       " ('p179', '241'): ['Victim'],\n",
       " ('p18', '50'): ['Suspect'],\n",
       " ('p180', '165'): ['Victim'],\n",
       " ('p181', '242'): ['Suspect'],\n",
       " ('p183', '243'): ['Victim'],\n",
       " ('p184', '72'): ['Witness'],\n",
       " ('p184', '232'): ['Suspect'],\n",
       " ('p185', '43'): ['Suspect'],\n",
       " ('p186', '22'): ['Victim'],\n",
       " ('p188', '244'): ['Suspect'],\n",
       " ('p189', '245'): ['Suspect'],\n",
       " ('p19', '51'): ['Victim Suspect'],\n",
       " ('p190', '126'): ['Victim'],\n",
       " ('p190', '246'): ['Victim'],\n",
       " ('p190', '247'): ['Victim Suspect'],\n",
       " ('p190', '248'): ['Suspect'],\n",
       " ('p190', '249'): ['Victim'],\n",
       " ('p190', '250'): ['Victim'],\n",
       " ('p191', '57'): ['Victim'],\n",
       " ('p192', '251'): ['Suspect'],\n",
       " ('p193', '252'): ['Victim'],\n",
       " ('p194', '253'): ['Witness'],\n",
       " ('p195', '60'): ['Victim'],\n",
       " ('p196', '60'): ['Suspect'],\n",
       " ('p197', '254'): ['Victim'],\n",
       " ('p199', '255'): ['Suspect'],\n",
       " ('p199', '256'): ['Witness'],\n",
       " ('p2', '5'): ['Suspect'],\n",
       " ('p2', '6'): ['Suspect'],\n",
       " ('p2', '7'): ['Suspect'],\n",
       " ('p2', '8'): ['Suspect'],\n",
       " ('p2', '9'): ['Suspect'],\n",
       " ('p2', '10'): ['Witness'],\n",
       " ('p2', '11'): ['Suspect'],\n",
       " ('p2', '12'): ['Suspect'],\n",
       " ('p2', '13'): ['Suspect'],\n",
       " ('p2', '14'): ['Suspect'],\n",
       " ('p2', '15'): ['Victim'],\n",
       " ('p2', '16'): ['Suspect'],\n",
       " ('p2', '17'): ['Suspect'],\n",
       " ('p2', '18'): ['Suspect'],\n",
       " ('p2', '19'): ['Victim'],\n",
       " ('p2', '20'): ['Suspect'],\n",
       " ('p2', '21'): ['Suspect'],\n",
       " ('p2', '22'): ['Suspect'],\n",
       " ('p2', '23'): ['Suspect'],\n",
       " ('p2', '24'): ['Suspect'],\n",
       " ('p2', '25'): ['Victim'],\n",
       " ('p2', '26'): ['Victim'],\n",
       " ('p20', '51'): ['Suspect'],\n",
       " ('p200', '72'): ['Victim'],\n",
       " ('p201', '257'): ['Suspect'],\n",
       " ('p202', '140'): ['Witness'],\n",
       " ('p202', '218'): ['Suspect'],\n",
       " ('p202', '245'): ['Suspect'],\n",
       " ('p203', '258'): ['Suspect'],\n",
       " ('p204', '259'): ['Victim'],\n",
       " ('p205', '98'): ['Suspect'],\n",
       " ('p207', '260'): ['Victim'],\n",
       " ('p208', '155'): ['Suspect'],\n",
       " ('p209', '261'): ['Suspect'],\n",
       " ('p21', '52'): ['Witness'],\n",
       " ('p21', '53'): ['Victim'],\n",
       " ('p211', '14'): ['Victim'],\n",
       " ('p212', '238'): ['Victim Suspect'],\n",
       " ('p213', '262'): ['Suspect'],\n",
       " ('p214', '27'): ['Witness'],\n",
       " ('p214', '238'): ['Victim'],\n",
       " ('p214', '263'): ['Suspect'],\n",
       " ('p214', '264'): ['Victim'],\n",
       " ('p214', '265'): ['Victim'],\n",
       " ('p214', '266'): ['Suspect'],\n",
       " ('p214', '267'): ['Victim'],\n",
       " ('p215', '268'): ['Victim'],\n",
       " ('p216', '264'): ['Witness'],\n",
       " ('p216', '267'): ['Suspect'],\n",
       " ('p216', '268'): ['Suspect'],\n",
       " ('p217', '269'): ['Suspect'],\n",
       " ('p218', '270'): ['Suspect'],\n",
       " ('p219', '153'): ['Suspect'],\n",
       " ('p219', '270'): ['Victim'],\n",
       " ('p219', '271'): ['Suspect'],\n",
       " ('p22', '54'): ['Witness'],\n",
       " ('p220', '119'): ['Suspect'],\n",
       " ('p220', '272'): ['Suspect'],\n",
       " ('p220', '273'): ['Witness'],\n",
       " ('p220', '274'): ['Victim'],\n",
       " ('p220', '275'): ['Victim'],\n",
       " ('p220', '276'): ['Victim'],\n",
       " ('p220', '277'): ['Victim'],\n",
       " ('p220', '278'): ['Suspect'],\n",
       " ('p220', '279'): ['Victim'],\n",
       " ('p220', '280'): ['Suspect'],\n",
       " ('p220', '281'): ['Suspect'],\n",
       " ('p220', '282'): ['Victim'],\n",
       " ('p220', '283'): ['Victim'],\n",
       " ('p220', '284'): ['Suspect'],\n",
       " ('p220', '285'): ['Witness'],\n",
       " ('p220', '286'): ['Victim'],\n",
       " ('p220', '287'): ['Victim'],\n",
       " ('p221', '81'): ['Victim Suspect'],\n",
       " ('p221', '288'): ['Victim'],\n",
       " ('p221', '289'): ['Witness'],\n",
       " ('p221', '290'): ['Victim'],\n",
       " ('p222', '291'): ['Suspect'],\n",
       " ('p223', '6'): ['Suspect'],\n",
       " ('p224', '39'): ['Victim'],\n",
       " ('p225', '32'): ['Suspect'],\n",
       " ('p225', '39'): ['Witness'],\n",
       " ('p225', '292'): ['Victim'],\n",
       " ('p226', '293'): ['Suspect'],\n",
       " ('p227', '294'): ['Victim'],\n",
       " ('p228', '295'): ['Suspect'],\n",
       " ('p229', '296'): ['Victim'],\n",
       " ('p23', '55'): ['Victim'],\n",
       " ('p231', '297'): ['Suspect'],\n",
       " ('p232', '297'): ['Victim'],\n",
       " ('p233', '116'): ['Suspect'],\n",
       " ('p234', '97'): ['Suspect'],\n",
       " ('p235', '97'): ['Witness'],\n",
       " ('p237', '299'): ['Victim'],\n",
       " ('p238', '300'): ['Suspect'],\n",
       " ('p239', '78'): ['Victim'],\n",
       " ('p24', '56'): ['Suspect'],\n",
       " ('p242', '138'): ['Witness'],\n",
       " ('p242', '284'): ['Victim'],\n",
       " ('p242', '303'): ['Suspect'],\n",
       " ('p242', '304'): ['Victim'],\n",
       " ('p242', '305'): ['Victim'],\n",
       " ('p243', '173'): ['Suspect'],\n",
       " ('p243', '306'): ['Suspect'],\n",
       " ('p244', '75'): ['Suspect'],\n",
       " ('p244', '155'): ['Suspect'],\n",
       " ('p245', '307'): ['Suspect'],\n",
       " ('p245', '308'): ['Victim'],\n",
       " ('p245', '309'): ['Suspect'],\n",
       " ('p246', '112'): ['Victim'],\n",
       " ('p247', '232'): ['Suspect'],\n",
       " ('p247', '310'): ['Victim'],\n",
       " ('p248', '311'): ['Suspect'],\n",
       " ('p249', '204'): ['Suspect'],\n",
       " ('p249', '312'): ['Suspect'],\n",
       " ('p25', '56'): ['Suspect'],\n",
       " ('p250', '43'): ['Suspect'],\n",
       " ('p253', '313'): ['Victim'],\n",
       " ('p253', '314'): ['Suspect'],\n",
       " ('p254', '271'): ['Suspect'],\n",
       " ('p255', '138'): ['Victim'],\n",
       " ('p256', '161'): ['Victim'],\n",
       " ('p257', '315'): ['Suspect'],\n",
       " ('p258', '316'): ['Victim'],\n",
       " ('p259', '317'): ['Victim'],\n",
       " ('p26', '57'): ['Victim'],\n",
       " ('p261', '318'): ['Victim'],\n",
       " ('p262', '114'): ['Witness'],\n",
       " ('p263', '319'): ['Suspect'],\n",
       " ('p264', '263'): ['Suspect'],\n",
       " ('p264', '282'): ['Suspect'],\n",
       " ('p265', '320'): ['Suspect'],\n",
       " ('p267', '322'): ['Suspect'],\n",
       " ('p267', '323'): ['Victim'],\n",
       " ('p268', '324'): ['Suspect'],\n",
       " ('p269', '146'): ['Victim'],\n",
       " ('p269', '240'): ['Suspect'],\n",
       " ('p27', '58'): ['Suspect'],\n",
       " ('p270', '206'): ['Victim'],\n",
       " ('p272', '47'): ['Suspect'],\n",
       " ('p273', '326'): ['Victim'],\n",
       " ('p274', '46'): ['Victim'],\n",
       " ('p275', '111'): ['Witness'],\n",
       " ('p277', '47'): ['Suspect'],\n",
       " ('p277', '296'): ['Witness'],\n",
       " ('p277', '327'): ['Victim'],\n",
       " ('p277', '328'): ['Witness'],\n",
       " ('p277', '329'): ['Suspect'],\n",
       " ('p277', '330'): ['Victim'],\n",
       " ('p277', '331'): ['Victim'],\n",
       " ('p278', '95'): ['Witness'],\n",
       " ('p279', '166'): ['Suspect'],\n",
       " ('p28', '59'): ['Victim'],\n",
       " ('p280', '332'): ['Witness'],\n",
       " ('p281', '63'): ['Witness'],\n",
       " ('p282', '33'): ['Victim'],\n",
       " ('p283', '251'): ['Suspect'],\n",
       " ('p283', '333'): ['Suspect'],\n",
       " ('p284', '101'): ['Victim Suspect'],\n",
       " ('p284', '229'): ['Suspect'],\n",
       " ('p285', '36'): ['Victim'],\n",
       " ('p286', '24'): ['Suspect'],\n",
       " ('p287', '24'): ['Suspect'],\n",
       " ('p288', '334'): ['Victim'],\n",
       " ('p289', '36'): ['Suspect'],\n",
       " ('p29', '60'): ['Suspect'],\n",
       " ('p291', '46'): ['Victim'],\n",
       " ('p291', '77'): ['Suspect'],\n",
       " ('p291', '334'): ['Victim'],\n",
       " ('p291', '335'): ['Suspect'],\n",
       " ('p291', '336'): ['Victim'],\n",
       " ('p291', '337'): ['Witness'],\n",
       " ('p291', '338'): ['Victim'],\n",
       " ('p292', '339'): ['Suspect'],\n",
       " ('p293', '340'): ['Victim'],\n",
       " ('p294', '248'): ['Suspect'],\n",
       " ('p294', '257'): ['Suspect'],\n",
       " ('p295', '175'): ['Suspect'],\n",
       " ('p296', '341'): ['Suspect'],\n",
       " ('p297', '107'): ['Suspect'],\n",
       " ('p297', '341'): ['Suspect'],\n",
       " ('p298', '341'): ['Suspect'],\n",
       " ('p299', '30'): ['Suspect'],\n",
       " ('p299', '77'): ['Suspect'],\n",
       " ('p3', '27'): ['Victim'],\n",
       " ('p30', '61'): ['Suspect'],\n",
       " ('p300', '26'): ['Witness'],\n",
       " ('p301', '255'): ['Suspect'],\n",
       " ('p302', '50'): ['Witness'],\n",
       " ('p303', '104'): ['Suspect'],\n",
       " ('p303', '107'): ['Suspect'],\n",
       " ('p303', '108'): ['Suspect'],\n",
       " ('p304', '23'): ['Victim'],\n",
       " ('p304', '78'): ['Suspect'],\n",
       " ('p304', '314'): ['Victim'],\n",
       " ('p304', '342'): ['Suspect'],\n",
       " ('p305', '14'): ['Victim'],\n",
       " ('p305', '313'): ['Victim'],\n",
       " ('p306', '43'): ['Suspect'],\n",
       " ('p307', '181'): ['Victim'],\n",
       " ('p308', '343'): ['Victim'],\n",
       " ('p309', '17'): ['Suspect'],\n",
       " ('p310', '344'): ['Suspect'],\n",
       " ('p311', '161'): ['Victim'],\n",
       " ('p312', '345'): ['Suspect'],\n",
       " ('p313', '169'): ['Suspect'],\n",
       " ('p313', '346'): ['Suspect'],\n",
       " ('p314', '343'): ['Suspect'],\n",
       " ('p315', '347'): ['Victim'],\n",
       " ('p315', '348'): ['Suspect'],\n",
       " ('p316', '71'): ['Suspect'],\n",
       " ('p318', '293'): ['Suspect'],\n",
       " ('p319', '82'): ['Witness'],\n",
       " ('p32', '63'): ['Suspect'],\n",
       " ('p320', '11'): ['Victim Suspect'],\n",
       " ('p322', '332'): ['Victim'],\n",
       " ('p323', '349'): ['Witness'],\n",
       " ('p324', '300'): ['Victim Suspect'],\n",
       " ('p326', '65'): ['Victim'],\n",
       " ('p326', '67'): ['Suspect'],\n",
       " ('p327', '269'): ['Suspect'],\n",
       " ('p328', '69'): ['Victim'],\n",
       " ('p329', '248'): ['Suspect'],\n",
       " ('p33', '8'): ['Victim'],\n",
       " ('p33', '10'): ['Victim'],\n",
       " ('p330', '136'): ['Suspect'],\n",
       " ('p331', '39'): ['Suspect'],\n",
       " ('p331', '258'): ['Suspect'],\n",
       " ('p332', '39'): ['Suspect'],\n",
       " ('p333', '117'): ['Victim Suspect'],\n",
       " ('p333', '351'): ['Suspect'],\n",
       " ('p333', '352'): ['Suspect'],\n",
       " ('p333', '353'): ['Victim'],\n",
       " ('p334', '241'): ['Victim'],\n",
       " ('p334', '322'): ['Victim'],\n",
       " ('p335', '40'): ['Suspect'],\n",
       " ('p335', '151'): ['Victim'],\n",
       " ('p336', '4'): ['Suspect'],\n",
       " ('p336', '40'): ['Witness'],\n",
       " ('p336', '46'): ['Victim'],\n",
       " ('p336', '322'): ['Witness'],\n",
       " ('p336', '354'): ['Suspect'],\n",
       " ('p336', '355'): ['Suspect'],\n",
       " ('p336', '356'): ['Victim'],\n",
       " ('p336', '357'): ['Victim'],\n",
       " ('p336', '358'): ['Victim'],\n",
       " ('p337', '67'): ['Suspect'],\n",
       " ('p338', '14'): ['Victim'],\n",
       " ('p338', '25'): ['Suspect'],\n",
       " ('p339', '161'): ['Victim'],\n",
       " ('p34', '64'): ['Suspect'],\n",
       " ('p340', '161'): ['Victim'],\n",
       " ('p341', '359'): ['Suspect'],\n",
       " ('p342', '360'): ['Witness'],\n",
       " ('p343', '39'): ['Suspect'],\n",
       " ('p343', '111'): ['Witness'],\n",
       " ('p343', '300'): ['Suspect'],\n",
       " ('p343', '361'): ['Victim'],\n",
       " ('p344', '315'): ['Suspect'],\n",
       " ('p344', '362'): ['Witness'],\n",
       " ('p344', '363'): ['Victim'],\n",
       " ('p344', '364'): ['Suspect'],\n",
       " ('p344', '365'): ['Victim'],\n",
       " ('p345', '340'): ['Suspect'],\n",
       " ('p345', '366'): ['Victim'],\n",
       " ('p345', '367'): ['Witness'],\n",
       " ('p345', '368'): ['Suspect'],\n",
       " ('p346', '95'): ['Suspect'],\n",
       " ('p347', '52'): ['Suspect'],\n",
       " ('p348', '68'): ['Victim'],\n",
       " ('p349', '290'): ['Suspect'],\n",
       " ('p35', '63'): ['Victim'],\n",
       " ('p350', '369'): ['Suspect'],\n",
       " ('p353', '374'): ['Suspect'],\n",
       " ('p354', '375'): ['Witness'],\n",
       " ('p354', '376'): ['Suspect'],\n",
       " ('p355', '162'): ['Suspect'],\n",
       " ('p356', '14'): ['Victim'],\n",
       " ('p356', '23'): ['Victim'],\n",
       " ('p356', '79'): ['Victim'],\n",
       " ('p356', '80'): ['Victim'],\n",
       " ('p356', '162'): ['Suspect'],\n",
       " ('p356', '187'): ['Victim'],\n",
       " ('p356', '206'): ['Witness'],\n",
       " ('p356', '377'): ['Suspect'],\n",
       " ('p356', '378'): ['Suspect'],\n",
       " ('p356', '379'): ['Suspect'],\n",
       " ('p356', '380'): ['Victim'],\n",
       " ('p357', '266'): ['Victim'],\n",
       " ('p357', '381'): ['Victim'],\n",
       " ('p359', '279'): ['Victim'],\n",
       " ('p36', '65'): ['Victim Suspect'],\n",
       " ('p360', '24'): ['Suspect'],\n",
       " ('p361', '14'): ['Victim'],\n",
       " ('p361', '19'): ['Victim'],\n",
       " ('p362', '115'): ['Suspect'],\n",
       " ('p362', '220'): ['Victim'],\n",
       " ('p362', '319'): ['Victim'],\n",
       " ('p363', '61'): ['Suspect'],\n",
       " ('p363', '109'): ['Suspect'],\n",
       " ('p363', '382'): ['Victim'],\n",
       " ('p365', '43'): ['Suspect'],\n",
       " ('p365', '383'): ['Victim'],\n",
       " ('p366', '36'): ['Victim'],\n",
       " ('p367', '251'): ['Suspect'],\n",
       " ('p368', '87'): ['Suspect'],\n",
       " ('p369', '211'): ['Suspect'],\n",
       " ('p37', '65'): ['Victim'],\n",
       " ('p37', '66'): ['Victim'],\n",
       " ('p37', '67'): ['Witness'],\n",
       " ('p37', '68'): ['Victim'],\n",
       " ('p37', '69'): ['Suspect'],\n",
       " ('p37', '70'): ['Victim Suspect'],\n",
       " ('p37', '71'): ['Suspect'],\n",
       " ('p37', '72'): ['Suspect'],\n",
       " ('p370', '211'): ['Victim'],\n",
       " ('p370', '384'): ['Victim'],\n",
       " ('p370', '385'): ['Victim'],\n",
       " ('p371', '386'): ['Victim'],\n",
       " ('p371', '387'): ['Suspect'],\n",
       " ('p373', '388'): ['Witness'],\n",
       " ('p374', '33'): ['Victim'],\n",
       " ('p375', '282'): ['Victim'],\n",
       " ('p376', '60'): ['Suspect'],\n",
       " ('p377', '88'): ['Victim'],\n",
       " ('p378', '263'): ['Suspect'],\n",
       " ('p379', '389'): ['Witness'],\n",
       " ('p38', '73'): ['Suspect'],\n",
       " ('p380', '390'): ['Suspect'],\n",
       " ('p384', '83'): ['Victim'],\n",
       " ('p384', '154'): ['Victim'],\n",
       " ('p384', '262'): ['Suspect'],\n",
       " ('p384', '269'): ['Suspect'],\n",
       " ('p384', '343'): ['Suspect'],\n",
       " ('p384', '353'): ['Victim'],\n",
       " ('p386', '161'): ['Victim'],\n",
       " ('p387', '236'): ['Suspect'],\n",
       " ('p388', '395'): ['Victim'],\n",
       " ('p389', '181'): ['Victim'],\n",
       " ('p39', '22'): ['Suspect'],\n",
       " ('p390', '396'): ['Witness'],\n",
       " ('p391', '206'): ['Victim'],\n",
       " ('p392', '277'): ['Victim'],\n",
       " ('p392', '397'): ['Victim'],\n",
       " ('p392', '398'): ['Suspect'],\n",
       " ('p393', '397'): ['Suspect'],\n",
       " ('p394', '399'): ['Victim'],\n",
       " ('p395', '400'): ['Victim'],\n",
       " ('p396', '93'): ['Suspect'],\n",
       " ('p396', '110'): ['Suspect'],\n",
       " ('p396', '188'): ['Victim'],\n",
       " ('p396', '401'): ['Suspect'],\n",
       " ('p396', '402'): ['Witness'],\n",
       " ('p397', '153'): ['Victim'],\n",
       " ('p397', '188'): ['Suspect'],\n",
       " ('p397', '332'): ['Victim'],\n",
       " ('p397', '403'): ['Witness'],\n",
       " ('p398', '138'): ['Suspect'],\n",
       " ('p398', '304'): ['Victim'],\n",
       " ('p399', '232'): ['Suspect'],\n",
       " ('p4', '24'): ['Suspect'],\n",
       " ('p40', '74'): ['Suspect'],\n",
       " ('p40', '75'): ['Suspect'],\n",
       " ('p400', '46'): ['Suspect'],\n",
       " ('p400', '404'): ['Witness'],\n",
       " ('p401', '24'): ['Suspect'],\n",
       " ('p402', '405'): ['Suspect'],\n",
       " ('p403', '406'): ['Suspect'],\n",
       " ('p404', '51'): ['Victim'],\n",
       " ('p404', '55'): ['Victim'],\n",
       " ('p404', '73'): ['Victim'],\n",
       " ('p404', '169'): ['Suspect'],\n",
       " ('p404', '189'): ['Witness'],\n",
       " ('p404', '405'): ['Victim'],\n",
       " ('p404', '406'): ['Suspect'],\n",
       " ('p404', '407'): ['Victim'],\n",
       " ('p404', '408'): ['Victim'],\n",
       " ('p404', '409'): ['Suspect'],\n",
       " ('p405', '55'): ['Victim'],\n",
       " ('p405', '169'): ['Victim'],\n",
       " ('p405', '410'): ['Suspect'],\n",
       " ('p405', '411'): ['Suspect'],\n",
       " ('p406', '120'): ['Suspect'],\n",
       " ('p406', '189'): ['Victim'],\n",
       " ('p406', '318'): ['Witness'],\n",
       " ('p407', '51'): ['Suspect'],\n",
       " ('p408', '153'): ['Suspect'],\n",
       " ('p409', '95'): ['Victim'],\n",
       " ('p41', '75'): ['Suspect'],\n",
       " ('p41', '76'): ['Suspect'],\n",
       " ('p410', '274'): ['Suspect'],\n",
       " ('p410', '369'): ['Suspect'],\n",
       " ('p410', '412'): ['Victim'],\n",
       " ('p410', '413'): ['Suspect'],\n",
       " ('p411', '414'): ['Suspect'],\n",
       " ('p411', '415'): ['Suspect'],\n",
       " ('p411', '416'): ['Suspect'],\n",
       " ('p412', '104'): ['Suspect'],\n",
       " ('p412', '106'): ['Suspect'],\n",
       " ('p413', '95'): ['Victim'],\n",
       " ('p413', '218'): ['Suspect'],\n",
       " ('p413', '383'): ['Victim'],\n",
       " ('p413', '417'): ['Suspect'],\n",
       " ('p413', '418'): ['Victim'],\n",
       " ('p413', '419'): ['Victim'],\n",
       " ('p414', '320'): ['Victim'],\n",
       " ('p414', '339'): ['Witness'],\n",
       " ('p414', '349'): ['Victim'],\n",
       " ('p414', '388'): ['Victim'],\n",
       " ('p414', '420'): ['Witness'],\n",
       " ('p414', '421'): ['Suspect'],\n",
       " ('p414', '422'): ['Victim'],\n",
       " ('p415', '407'): ['Victim'],\n",
       " ('p415', '408'): ['Suspect'],\n",
       " ('p416', '290'): ['Suspect'],\n",
       " ('p417', '61'): ['Suspect'],\n",
       " ('p418', '79'): ['Witness'],\n",
       " ('p418', '187'): ['Victim'],\n",
       " ('p419', '44'): ['Victim'],\n",
       " ('p42', '30'): ['Victim'],\n",
       " ('p420', '423'): ['Suspect'],\n",
       " ('p420', '424'): ['Victim Suspect'],\n",
       " ('p421', '425'): ['Suspect'],\n",
       " ('p422', '425'): ['Suspect'],\n",
       " ('p423', '425'): ['Suspect'],\n",
       " ('p424', '47'): ['Victim'],\n",
       " ('p424', '81'): ['Witness'],\n",
       " ('p425', '43'): ['Suspect'],\n",
       " ('p425', '59'): ['Suspect'],\n",
       " ('p425', '94'): ['Victim'],\n",
       " ('p425', '95'): ['Witness'],\n",
       " ('p425', '96'): ['Victim'],\n",
       " ('p425', '110'): ['Victim'],\n",
       " ('p425', '218'): ['Suspect'],\n",
       " ('p425', '235'): ['Suspect'],\n",
       " ('p425', '317'): ['Victim'],\n",
       " ('p425', '417'): ['Victim'],\n",
       " ('p425', '419'): ['Victim'],\n",
       " ('p425', '426'): ['Witness'],\n",
       " ('p425', '427'): ['Witness'],\n",
       " ('p425', '428'): ['Suspect'],\n",
       " ('p425', '429'): ['Suspect'],\n",
       " ('p425', '430'): ['Suspect'],\n",
       " ('p425', '431'): ['Suspect'],\n",
       " ('p425', '432'): ['Suspect'],\n",
       " ('p426', '398'): ['Victim'],\n",
       " ('p427', '294'): ['Victim'],\n",
       " ('p428', '433'): ['Witness'],\n",
       " ('p429', '434'): ['Suspect'],\n",
       " ('p43', '77'): ['Suspect'],\n",
       " ('p430', '435'): ['Suspect'],\n",
       " ('p431', '257'): ['Victim'],\n",
       " ('p432', '33'): ['Victim Suspect'],\n",
       " ('p433', '80'): ['Victim'],\n",
       " ('p434', '436'): ['Victim'],\n",
       " ('p435', '39'): ['Victim'],\n",
       " ('p435', '437'): ['Victim'],\n",
       " ('p436', '161'): ['Witness'],\n",
       " ('p437', '405'): ['Suspect'],\n",
       " ('p437', '406'): ['Suspect'],\n",
       " ('p438', '87'): ['Suspect'],\n",
       " ('p439', '14'): ['Victim'],\n",
       " ('p439', '263'): ['Victim'],\n",
       " ('p439', '432'): ['Suspect'],\n",
       " ('p44', '78'): ['Witness'],\n",
       " ('p440', '181'): ['Witness'],\n",
       " ('p441', '185'): ['Suspect'],\n",
       " ('p441', '433'): ['Suspect'],\n",
       " ('p442', '438'): ['Victim'],\n",
       " ('p444', '78'): ['Victim'],\n",
       " ('p445', '78'): ['Suspect'],\n",
       " ('p446', '78'): ['Victim'],\n",
       " ('p447', '94'): ['Victim'],\n",
       " ('p448', '241'): ['Witness'],\n",
       " ('p449', '21'): ['Victim'],\n",
       " ('p449', '95'): ['Suspect'],\n",
       " ('p45', '79'): ['Victim'],\n",
       " ('p45', '80'): ['Victim'],\n",
       " ('p450', '439'): ['Witness'],\n",
       " ('p451', '114'): ['Victim'],\n",
       " ('p452', '117'): ['Victim'],\n",
       " ('p452', '440'): ['Victim'],\n",
       " ('p452', '441'): ['Victim'],\n",
       " ('p453', '442'): ['Suspect'],\n",
       " ('p454', '390'): ['Victim'],\n",
       " ('p454', '442'): ['Suspect'],\n",
       " ('p455', '442'): ['Suspect'],\n",
       " ('p456', '67'): ['Victim'],\n",
       " ('p457', '181'): ['Suspect'],\n",
       " ('p458', '443'): ['Victim'],\n",
       " ('p459', '77'): ['Suspect'],\n",
       " ('p46', '81'): ['Suspect'],\n",
       " ('p46', '82'): ['Victim'],\n",
       " ('p460', '413'): ['Suspect'],\n",
       " ('p461', '388'): ['Victim'],\n",
       " ('p465', '251'): ['Suspect'],\n",
       " ('p466', '54'): ['Suspect'],\n",
       " ('p466', '242'): ['Victim'],\n",
       " ('p466', '309'): ['Suspect'],\n",
       " ('p467', '29'): ['Suspect'],\n",
       " ('p468', '112'): ['Victim'],\n",
       " ('p469', '262'): ['Suspect'],\n",
       " ('p47', '83'): ['Witness'],\n",
       " ('p470', '44'): ['Victim'],\n",
       " ('p470', '249'): ['Victim'],\n",
       " ('p471', '22'): ['Victim'],\n",
       " ('p472', '189'): ['Victim'],\n",
       " ('p472', '444'): ['Victim'],\n",
       " ('p472', '445'): ['Suspect'],\n",
       " ('p473', '153'): ['Witness'],\n",
       " ('p474', '117'): ['Victim'],\n",
       " ('p474', '219'): ['Suspect'],\n",
       " ('p474', '389'): ['Suspect'],\n",
       " ('p474', '446'): ['Victim'],\n",
       " ('p474', '447'): ['Victim Suspect'],\n",
       " ('p474', '448'): ['Victim'],\n",
       " ('p474', '449'): ['Victim'],\n",
       " ('p474', '450'): ['Victim'],\n",
       " ('p474', '451'): ['Suspect'],\n",
       " ('p475', '14'): ['Suspect'],\n",
       " ('p476', '405'): ['Suspect'],\n",
       " ('p476', '410'): ['Suspect'],\n",
       " ('p477', '153'): ['Victim Suspect'],\n",
       " ('p478', '243'): ['Victim'],\n",
       " ('p479', '161'): ['Suspect'],\n",
       " ('p48', '24'): ['Victim'],\n",
       " ('p48', '84'): ['Suspect'],\n",
       " ('p480', '30'): ['Suspect'],\n",
       " ('p481', '262'): ['Victim'],\n",
       " ('p481', '388'): ['Victim'],\n",
       " ('p482', '435'): ['Witness'],\n",
       " ('p483', '339'): ['Witness'],\n",
       " ('p484', '153'): ['Victim'],\n",
       " ('p485', '452'): ['Victim Suspect'],\n",
       " ('p486', '29'): ['Victim'],\n",
       " ('p487', '153'): ['Victim'],\n",
       " ('p488', '447'): ['Suspect'],\n",
       " ('p489', '190'): ['Victim'],\n",
       " ('p49', '85'): ['Victim'],\n",
       " ('p490', '432'): ['Suspect'],\n",
       " ('p490', '453'): ['Victim'],\n",
       " ('p491', '451'): ['Victim'],\n",
       " ('p492', '451'): ['Witness'],\n",
       " ('p493', '50'): ['Victim'],\n",
       " ('p495', '13'): ['Suspect'],\n",
       " ('p496', '112'): ['Victim'],\n",
       " ('p497', '28'): ['Suspect'],\n",
       " ('p497', '43'): ['Victim'],\n",
       " ('p497', '95'): ['Victim'],\n",
       " ('p497', '210'): ['Victim'],\n",
       " ('p497', '287'): ['Victim'],\n",
       " ('p497', '383'): ['Witness'],\n",
       " ('p497', '454'): ['Witness'],\n",
       " ('p497', '455'): ['Victim'],\n",
       " ('p497', '456'): ['Victim'],\n",
       " ('p498', '14'): ['Witness'],\n",
       " ('p499', '19'): ['Victim'],\n",
       " ('p5', '19'): ['Suspect'],\n",
       " ('p500', '457'): ['Suspect'],\n",
       " ('p501', '458'): ['Victim'],\n",
       " ('p502', '457'): ['Victim'],\n",
       " ('p502', '458'): ['Suspect'],\n",
       " ('p502', '459'): ['Suspect'],\n",
       " ('p502', '460'): ['Victim'],\n",
       " ('p502', '461'): ['Witness'],\n",
       " ('p503', '344'): ['Victim'],\n",
       " ('p504', '115'): ['Suspect'],\n",
       " ('p505', '116'): ['Suspect'],\n",
       " ('p507', '356'): ['Victim'],\n",
       " ('p508', '382'): ['Victim'],\n",
       " ('p509', '361'): ['Suspect'],\n",
       " ('p51', '87'): ['Suspect'],\n",
       " ('p51', '88'): ['Suspect'],\n",
       " ('p51', '89'): ['Suspect'],\n",
       " ('p51', '90'): ['Victim'],\n",
       " ('p51', '91'): ['Victim'],\n",
       " ('p51', '92'): ['Victim Suspect'],\n",
       " ('p510', '445'): ['Victim'],\n",
       " ('p511', '90'): ['Suspect'],\n",
       " ('p511', '172'): ['Victim'],\n",
       " ('p514', '45'): ['Suspect'],\n",
       " ('p514', '46'): ['Suspect'],\n",
       " ('p514', '48'): ['Suspect'],\n",
       " ('p514', '49'): ['Suspect'],\n",
       " ('p514', '320'): ['Suspect'],\n",
       " ('p514', '384'): ['Suspect'],\n",
       " ('p514', '466'): ['Victim'],\n",
       " ('p514', '467'): ['Victim'],\n",
       " ('p514', '468'): ['Suspect'],\n",
       " ('p514', '469'): ['Victim Suspect'],\n",
       " ('p514', '470'): ['Victim'],\n",
       " ('p515', '125'): ['Suspect'],\n",
       " ('p515', '299'): ['Victim'],\n",
       " ('p515', '471'): ['Victim'],\n",
       " ('p515', '472'): ['Victim'],\n",
       " ('p516', '435'): ['Victim'],\n",
       " ('p517', '97'): ['Suspect'],\n",
       " ('p519', '361'): ['Suspect'],\n",
       " ('p52', '93'): ['Victim'],\n",
       " ('p520', '36'): ['Victim'],\n",
       " ('p521', '473'): ['Victim'],\n",
       " ('p522', '155'): ['Suspect'],\n",
       " ('p523', '72'): ['Victim'],\n",
       " ('p524', '295'): ['Suspect'],\n",
       " ('p524', '469'): ['Victim'],\n",
       " ('p525', '61'): ['Suspect'],\n",
       " ('p526', '206'): ['Witness'],\n",
       " ('p527', '61'): ['Suspect'],\n",
       " ('p528', '26'): ['Suspect'],\n",
       " ('p53', '94'): ['Victim'],\n",
       " ('p530', '442'): ['Suspect'],\n",
       " ('p531', '110'): ['Victim'],\n",
       " ('p531', '194'): ['Suspect'],\n",
       " ('p531', '195'): ['Suspect'],\n",
       " ('p531', '196'): ['Suspect'],\n",
       " ('p531', '197'): ['Witness'],\n",
       " ('p531', '401'): ['Suspect'],\n",
       " ('p531', '402'): ['Suspect'],\n",
       " ('p531', '474'): ['Suspect'],\n",
       " ('p531', '475'): ['Suspect'],\n",
       " ('p531', '476'): ['Suspect'],\n",
       " ('p533', '110'): ['Victim'],\n",
       " ('p533', '196'): ['Victim'],\n",
       " ('p533', '198'): ['Victim'],\n",
       " ('p533', '360'): ['Victim'],\n",
       " ('p533', '461'): ['Suspect'],\n",
       " ('p533', '479'): ['Suspect'],\n",
       " ('p534', '480'): ['Victim'],\n",
       " ('p535', '481'): ['Victim'],\n",
       " ('p536', '47'): ['Victim Suspect'],\n",
       " ('p536', '53'): ['Victim'],\n",
       " ('p536', '204'): ['Suspect'],\n",
       " ('p536', '208'): ['Suspect'],\n",
       " ('p536', '482'): ['Witness'],\n",
       " ('p538', '297'): ['Suspect'],\n",
       " ('p539', '80'): ['Victim'],\n",
       " ('p54', '94'): ['Victim'],\n",
       " ('p54', '95'): ['Suspect'],\n",
       " ('p54', '96'): ['Suspect'],\n",
       " ('p54', '97'): ['Victim'],\n",
       " ('p542', '78'): ['Witness'],\n",
       " ('p543', '284'): ['Victim'],\n",
       " ('p543', '484'): ['Witness'],\n",
       " ('p543', '485'): ['Witness'],\n",
       " ('p544', '36'): ['Victim'],\n",
       " ('p545', '36'): ['Witness'],\n",
       " ('p547', '296'): ['Victim Suspect'],\n",
       " ('p548', '486'): ['Witness'],\n",
       " ('p549', '31'): ['Victim'],\n",
       " ('p549', '52'): ['Victim'],\n",
       " ('p549', '60'): ['Suspect'],\n",
       " ('p549', '121'): ['Suspect'],\n",
       " ('p549', '436'): ['Victim Suspect'],\n",
       " ('p549', '486'): ['Victim'],\n",
       " ('p549', '487'): ['Victim Suspect'],\n",
       " ('p55', '79'): ['Victim'],\n",
       " ('p550', '91'): ['Victim'],\n",
       " ('p551', '452'): ['Suspect'],\n",
       " ('p552', '245'): ['Victim Suspect'],\n",
       " ('p553', '219'): ['Suspect'],\n",
       " ('p554', '202'): ['Suspect'],\n",
       " ('p556', '42'): ['Suspect'],\n",
       " ('p557', '29'): ['Witness'],\n",
       " ('p559', '290'): ['Victim'],\n",
       " ('p56', '34'): ['Witness'],\n",
       " ('p56', '98'): ['Witness'],\n",
       " ('p56', '99'): ['Suspect'],\n",
       " ('p56', '100'): ['Witness'],\n",
       " ('p56', '101'): ['Victim'],\n",
       " ('p56', '102'): ['Victim'],\n",
       " ('p56', '103'): ['Suspect'],\n",
       " ('p56', '104'): ['Victim'],\n",
       " ('p56', '105'): ['Suspect'],\n",
       " ('p56', '106'): ['Suspect'],\n",
       " ('p56', '107'): ['Witness'],\n",
       " ('p56', '108'): ['Suspect'],\n",
       " ('p56', '109'): ['Victim'],\n",
       " ('p56', '110'): ['Victim'],\n",
       " ('p560', '318'): ['Suspect'],\n",
       " ('p561', '488'): ['Victim'],\n",
       " ('p561', '489'): ['Victim'],\n",
       " ('p562', '153'): ['Suspect'],\n",
       " ('p563', '14'): ['Suspect'],\n",
       " ('p563', '480'): ['Suspect'],\n",
       " ('p564', '480'): ['Victim'],\n",
       " ('p565', '272'): ['Victim'],\n",
       " ('p566', '43'): ['Victim'],\n",
       " ('p567', '82'): ['Victim'],\n",
       " ('p567', '395'): ['Suspect'],\n",
       " ('p567', '490'): ['Suspect'],\n",
       " ('p568', '35'): ['Victim'],\n",
       " ('p568', '37'): ['Victim'],\n",
       " ('p569', '50'): ['Witness'],\n",
       " ('p57', '50'): ['Victim'],\n",
       " ('p57', '104'): ['Suspect'],\n",
       " ('p57', '108'): ['Suspect'],\n",
       " ('p570', '41'): ['Victim'],\n",
       " ('p571', '67'): ['Suspect'],\n",
       " ('p572', '110'): ['Victim'],\n",
       " ('p572', '360'): ['Suspect'],\n",
       " ('p572', '460'): ['Witness'],\n",
       " ('p572', '461'): ['Victim'],\n",
       " ('p572', '479'): ['Suspect'],\n",
       " ('p572', '491'): ['Suspect'],\n",
       " ('p572', '492'): ['Victim'],\n",
       " ('p573', '441'): ['Suspect'],\n",
       " ('p574', '459'): ['Victim Suspect'],\n",
       " ('p575', '438'): ['Suspect'],\n",
       " ('p576', '206'): ['Suspect'],\n",
       " ('p577', '191'): ['Suspect'],\n",
       " ('p577', '259'): ['Suspect'],\n",
       " ('p577', '438'): ['Suspect'],\n",
       " ('p577', '443'): ['Witness'],\n",
       " ('p577', '467'): ['Suspect'],\n",
       " ('p578', '23'): ['Suspect'],\n",
       " ('p579', '242'): ['Victim'],\n",
       " ('p58', '50'): ['Victim'],\n",
       " ('p58', '108'): ['Suspect'],\n",
       " ('p580', '60'): ['Suspect'],\n",
       " ('p581', '493'): ['Witness'],\n",
       " ('p582', '35'): ['Victim'],\n",
       " ('p583', '494'): ['Witness'],\n",
       " ('p584', '119'): ['Suspect'],\n",
       " ('p584', '374'): ['Suspect'],\n",
       " ('p584', '425'): ['Victim Suspect'],\n",
       " ('p585', '246'): ['Victim'],\n",
       " ('p586', '379'): ['Suspect'],\n",
       " ('p587', '26'): ['Suspect'],\n",
       " ('p588', '227'): ['Victim'],\n",
       " ('p589', '187'): ['Suspect'],\n",
       " ('p59', '110'): ['Suspect'],\n",
       " ('p590', '187'): ['Suspect'],\n",
       " ('p591', '176'): ['Suspect'],\n",
       " ('p592', '252'): ['Victim'],\n",
       " ('p592', '253'): ['Victim Suspect'],\n",
       " ('p592', '351'): ['Suspect'],\n",
       " ('p592', '352'): ['Suspect'],\n",
       " ('p592', '353'): ['Suspect'],\n",
       " ('p592', '495'): ['Suspect'],\n",
       " ('p592', '496'): ['Victim'],\n",
       " ('p592', '497'): ['Victim'],\n",
       " ('p592', '498'): ['Witness'],\n",
       " ('p593', '166'): ['Victim'],\n",
       " ('p594', '344'): ['Witness'],\n",
       " ('p595', '28'): ['Victim'],\n",
       " ('p596', '499'): ['Witness'],\n",
       " ('p597', '238'): ['Victim'],\n",
       " ('p599', '435'): ['Suspect'],\n",
       " ('p6', '28'): ['Victim'],\n",
       " ('p60', '111'): ['Witness'],\n",
       " ('p600', '244'): ['Suspect'],\n",
       " ('p600', '307'): ['Suspect'],\n",
       " ('p600', '500'): ['Suspect'],\n",
       " ('p600', '501'): ['Victim'],\n",
       " ('p601', '438'): ['Victim'],\n",
       " ('p602', '173'): ['Suspect'],\n",
       " ('p603', '19'): ['Victim Suspect'],\n",
       " ('p604', '114'): ['Victim'],\n",
       " ('p605', '437'): ['Victim'],\n",
       " ('p606', '43'): ['Victim'],\n",
       " ('p607', '56'): ['Victim'],\n",
       " ('p608', '13'): ['Witness'],\n",
       " ('p609', '122'): ['Victim Suspect'],\n",
       " ('p61', '112'): ['Victim'],\n",
       " ('p610', '189'): ['Victim'],\n",
       " ('p611', '296'): ['Suspect'],\n",
       " ('p612', '293'): ['Victim'],\n",
       " ('p613', '59'): ['Witness'],\n",
       " ('p613', '419'): ['Victim'],\n",
       " ('p613', '480'): ['Victim'],\n",
       " ('p614', '97'): ['Victim'],\n",
       " ('p615', '294'): ['Suspect'],\n",
       " ('p617', '290'): ['Suspect'],\n",
       " ('p618', '262'): ['Suspect'],\n",
       " ('p619', '257'): ['Victim'],\n",
       " ('p62', '64'): ['Victim'],\n",
       " ('p62', '113'): ['Suspect'],\n",
       " ('p62', '114'): ['Victim'],\n",
       " ('p62', '115'): ['Victim'],\n",
       " ('p62', '116'): ['Victim'],\n",
       " ('p62', '117'): ['Suspect'],\n",
       " ('p620', '19'): ['Suspect'],\n",
       " ('p621', '136'): ['Suspect'],\n",
       " ('p622', '502'): ['Suspect'],\n",
       " ('p623', '290'): ['Suspect'],\n",
       " ('p624', '503'): ['Victim'],\n",
       " ('p625', '138'): ['Suspect'],\n",
       " ('p626', '236'): ['Suspect'],\n",
       " ('p628', '379'): ['Suspect'],\n",
       " ('p629', '206'): ['Suspect'],\n",
       " ('p63', '118'): ['Suspect'],\n",
       " ('p630', '187'): ['Suspect'],\n",
       " ('p631', '87'): ['Suspect'],\n",
       " ('p632', '82'): ['Victim'],\n",
       " ('p633', '174'): ['Suspect'],\n",
       " ('p633', '177'): ['Suspect'],\n",
       " ('p634', '177'): ['Suspect'],\n",
       " ('p634', '291'): ['Victim'],\n",
       " ('p635', '505'): ['Suspect'],\n",
       " ('p636', '63'): ['Suspect'],\n",
       " ('p636', '124'): ['Suspect'],\n",
       " ('p636', '506'): ['Victim'],\n",
       " ('p637', '95'): ['Suspect'],\n",
       " ('p637', '303'): ['Suspect'],\n",
       " ('p638', '57'): ['Victim'],\n",
       " ('p639', '87'): ['Victim Suspect'],\n",
       " ('p64', '119'): ['Suspect'],\n",
       " ('p640', '245'): ['Suspect'],\n",
       " ('p641', '107'): ['Victim'],\n",
       " ('p642', '344'): ['Victim'],\n",
       " ('p642', '434'): ['Victim'],\n",
       " ('p642', '505'): ['Suspect'],\n",
       " ('p642', '507'): ['Suspect'],\n",
       " ('p642', '508'): ['Victim'],\n",
       " ('p643', '413'): ['Suspect'],\n",
       " ('p644', '83'): ['Witness'],\n",
       " ('p646', '413'): ['Witness'],\n",
       " ('p647', '28'): ['Suspect'],\n",
       " ('p648', '29'): ['Victim'],\n",
       " ('p649', '94'): ['Victim'],\n",
       " ('p649', '502'): ['Suspect'],\n",
       " ('p65', '120'): ['Suspect'],\n",
       " ('p650', '308'): ['Victim'],\n",
       " ('p651', '87'): ['Victim'],\n",
       " ('p652', '174'): ['Suspect'],\n",
       " ('p652', '292'): ['Witness'],\n",
       " ('p653', '271'): ['Suspect'],\n",
       " ('p654', '332'): ['Suspect'],\n",
       " ('p655', '413'): ['Suspect'],\n",
       " ...}"
      ]
     },
     "execution_count": 44,
     "metadata": {},
     "output_type": "execute_result"
    }
   ],
   "source": [
    "nx.get_edge_attributes(G0, 'role')"
   ]
  },
  {
   "cell_type": "code",
   "execution_count": 45,
   "metadata": {},
   "outputs": [
    {
     "name": "stdout",
     "output_type": "stream",
     "text": [
      "[('p1', '1'), ('p1', '4'), ('p10', '32'), ('p10', '35'), ('p10', '36'), ('p100', '155'), ('p101', '155'), ('p106', '58'), ('p106', '157'), ('p106', '161'), ('p108', '163'), ('p108', '164'), ('p108', '166'), ('p108', '167'), ('p108', '168'), ('p11', '31'), ('p111', '169'), ('p112', '170'), ('p113', '80'), ('p114', '28'), ('p115', '175'), ('p115', '176'), ('p115', '178'), ('p115', '179'), ('p117', '183'), ('p122', '187'), ('p123', '188'), ('p124', '189'), ('p128', '110'), ('p128', '195'), ('p128', '196'), ('p129', '186'), ('p129', '198'), ('p131', '202'), ('p131', '203'), ('p132', '182'), ('p136', '206'), ('p139', '38'), ('p14', '42'), ('p144', '211'), ('p147', '218'), ('p148', '219'), ('p149', '153'), ('p15', '43'), ('p150', '187'), ('p155', '224'), ('p156', '56'), ('p159', '227'), ('p159', '229'), ('p159', '230'), ('p160', '207'), ('p161', '147'), ('p162', '39'), ('p162', '231'), ('p164', '232'), ('p165', '111'), ('p166', '116'), ('p167', '39'), ('p168', '234'), ('p169', '235'), ('p17', '46'), ('p17', '48'), ('p171', '236'), ('p173', '238'), ('p174', '222'), ('p174', '223'), ('p174', '239'), ('p175', '228'), ('p178', '43'), ('p18', '50'), ('p181', '242'), ('p184', '232'), ('p185', '43'), ('p188', '244'), ('p189', '245'), ('p190', '248'), ('p192', '251'), ('p196', '60'), ('p199', '255'), ('p2', '5'), ('p2', '6'), ('p2', '7'), ('p2', '8'), ('p2', '9'), ('p2', '11'), ('p2', '12'), ('p2', '13'), ('p2', '14'), ('p2', '16'), ('p2', '17'), ('p2', '18'), ('p2', '20'), ('p2', '21'), ('p2', '22'), ('p2', '23'), ('p2', '24'), ('p20', '51'), ('p201', '257'), ('p202', '218'), ('p202', '245'), ('p203', '258'), ('p205', '98'), ('p208', '155'), ('p209', '261'), ('p213', '262'), ('p214', '263'), ('p214', '266'), ('p216', '267'), ('p216', '268'), ('p217', '269'), ('p218', '270'), ('p219', '153'), ('p219', '271'), ('p220', '119'), ('p220', '272'), ('p220', '278'), ('p220', '280'), ('p220', '281'), ('p220', '284'), ('p222', '291'), ('p223', '6'), ('p225', '32'), ('p226', '293'), ('p228', '295'), ('p231', '297'), ('p233', '116'), ('p234', '97'), ('p238', '300'), ('p24', '56'), ('p242', '303'), ('p243', '173'), ('p243', '306'), ('p244', '75'), ('p244', '155'), ('p245', '307'), ('p245', '309'), ('p247', '232'), ('p248', '311'), ('p249', '204'), ('p249', '312'), ('p25', '56'), ('p250', '43'), ('p253', '314'), ('p254', '271'), ('p257', '315'), ('p263', '319'), ('p264', '263'), ('p264', '282'), ('p265', '320'), ('p267', '322'), ('p268', '324'), ('p269', '240'), ('p27', '58'), ('p272', '47'), ('p277', '47'), ('p277', '329'), ('p279', '166'), ('p283', '251'), ('p283', '333'), ('p284', '229'), ('p286', '24'), ('p287', '24'), ('p289', '36'), ('p29', '60'), ('p291', '77'), ('p291', '335'), ('p292', '339'), ('p294', '248'), ('p294', '257'), ('p295', '175'), ('p296', '341'), ('p297', '107'), ('p297', '341'), ('p298', '341'), ('p299', '30'), ('p299', '77'), ('p30', '61'), ('p301', '255'), ('p303', '104'), ('p303', '107'), ('p303', '108'), ('p304', '78'), ('p304', '342'), ('p306', '43'), ('p309', '17'), ('p310', '344'), ('p312', '345'), ('p313', '169'), ('p313', '346'), ('p314', '343'), ('p315', '348'), ('p316', '71'), ('p318', '293'), ('p32', '63'), ('p326', '67'), ('p327', '269'), ('p329', '248'), ('p330', '136'), ('p331', '39'), ('p331', '258'), ('p332', '39'), ('p333', '351'), ('p333', '352'), ('p335', '40'), ('p336', '4'), ('p336', '354'), ('p336', '355'), ('p337', '67'), ('p338', '25'), ('p34', '64'), ('p341', '359'), ('p343', '39'), ('p343', '300'), ('p344', '315'), ('p344', '364'), ('p345', '340'), ('p345', '368'), ('p346', '95'), ('p347', '52'), ('p349', '290'), ('p350', '369'), ('p353', '374'), ('p354', '376'), ('p355', '162'), ('p356', '162'), ('p356', '377'), ('p356', '378'), ('p356', '379'), ('p360', '24'), ('p362', '115'), ('p363', '61'), ('p363', '109'), ('p365', '43'), ('p367', '251'), ('p368', '87'), ('p369', '211'), ('p37', '69'), ('p37', '71'), ('p37', '72'), ('p371', '387'), ('p376', '60'), ('p378', '263'), ('p38', '73'), ('p380', '390'), ('p384', '262'), ('p384', '269'), ('p384', '343'), ('p387', '236'), ('p39', '22'), ('p392', '398'), ('p393', '397'), ('p396', '93'), ('p396', '110'), ('p396', '401'), ('p397', '188'), ('p398', '138'), ('p399', '232'), ('p4', '24'), ('p40', '74'), ('p40', '75'), ('p400', '46'), ('p401', '24'), ('p402', '405'), ('p403', '406'), ('p404', '169'), ('p404', '406'), ('p404', '409'), ('p405', '410'), ('p405', '411'), ('p406', '120'), ('p407', '51'), ('p408', '153'), ('p41', '75'), ('p41', '76'), ('p410', '274'), ('p410', '369'), ('p410', '413'), ('p411', '414'), ('p411', '415'), ('p411', '416'), ('p412', '104'), ('p412', '106'), ('p413', '218'), ('p413', '417'), ('p414', '421'), ('p415', '408'), ('p416', '290'), ('p417', '61'), ('p420', '423'), ('p421', '425'), ('p422', '425'), ('p423', '425'), ('p425', '43'), ('p425', '59'), ('p425', '218'), ('p425', '235'), ('p425', '428'), ('p425', '429'), ('p425', '430'), ('p425', '431'), ('p425', '432'), ('p429', '434'), ('p43', '77'), ('p430', '435'), ('p437', '405'), ('p437', '406'), ('p438', '87'), ('p439', '432'), ('p441', '185'), ('p441', '433'), ('p445', '78'), ('p449', '95'), ('p453', '442'), ('p454', '442'), ('p455', '442'), ('p457', '181'), ('p459', '77'), ('p46', '81'), ('p460', '413'), ('p465', '251'), ('p466', '54'), ('p466', '309'), ('p467', '29'), ('p469', '262'), ('p472', '445'), ('p474', '219'), ('p474', '389'), ('p474', '451'), ('p475', '14'), ('p476', '405'), ('p476', '410'), ('p479', '161'), ('p48', '84'), ('p480', '30'), ('p488', '447'), ('p490', '432'), ('p495', '13'), ('p497', '28'), ('p5', '19'), ('p500', '457'), ('p502', '458'), ('p502', '459'), ('p504', '115'), ('p505', '116'), ('p509', '361'), ('p51', '87'), ('p51', '88'), ('p51', '89'), ('p511', '90'), ('p514', '45'), ('p514', '46'), ('p514', '48'), ('p514', '49'), ('p514', '320'), ('p514', '384'), ('p514', '468'), ('p515', '125'), ('p517', '97'), ('p519', '361'), ('p522', '155'), ('p524', '295'), ('p525', '61'), ('p527', '61'), ('p528', '26'), ('p530', '442'), ('p531', '194'), ('p531', '195'), ('p531', '196'), ('p531', '401'), ('p531', '402'), ('p531', '474'), ('p531', '475'), ('p531', '476'), ('p533', '461'), ('p533', '479'), ('p536', '204'), ('p536', '208'), ('p538', '297'), ('p54', '95'), ('p54', '96'), ('p549', '60'), ('p549', '121'), ('p551', '452'), ('p553', '219'), ('p554', '202'), ('p556', '42'), ('p56', '99'), ('p56', '103'), ('p56', '105'), ('p56', '106'), ('p56', '108'), ('p560', '318'), ('p562', '153'), ('p563', '14'), ('p563', '480'), ('p567', '395'), ('p567', '490'), ('p57', '104'), ('p57', '108'), ('p571', '67'), ('p572', '360'), ('p572', '479'), ('p572', '491'), ('p573', '441'), ('p575', '438'), ('p576', '206'), ('p577', '191'), ('p577', '259'), ('p577', '438'), ('p577', '467'), ('p578', '23'), ('p58', '108'), ('p580', '60'), ('p584', '119'), ('p584', '374'), ('p586', '379'), ('p587', '26'), ('p589', '187'), ('p59', '110'), ('p590', '187'), ('p591', '176'), ('p592', '351'), ('p592', '352'), ('p592', '353'), ('p592', '495'), ('p599', '435'), ('p600', '244'), ('p600', '307'), ('p600', '500'), ('p602', '173'), ('p611', '296'), ('p615', '294'), ('p617', '290'), ('p618', '262'), ('p62', '113'), ('p62', '117'), ('p620', '19'), ('p621', '136'), ('p622', '502'), ('p623', '290'), ('p625', '138'), ('p626', '236'), ('p628', '379'), ('p629', '206'), ('p63', '118'), ('p630', '187'), ('p631', '87'), ('p633', '174'), ('p633', '177'), ('p634', '177'), ('p635', '505'), ('p636', '63'), ('p636', '124'), ('p637', '95'), ('p637', '303'), ('p64', '119'), ('p640', '245'), ('p642', '505'), ('p642', '507'), ('p643', '413'), ('p647', '28'), ('p649', '502'), ('p65', '120'), ('p652', '174'), ('p653', '271'), ('p654', '332'), ('p655', '413'), ('p656', '453'), ('p658', '234'), ('p659', '141'), ('p659', '142'), ('p659', '234'), ('p659', '442'), ('p66', '36'), ('p661', '14'), ('p663', '400'), ('p663', '511'), ('p663', '512'), ('p664', '513'), ('p665', '14'), ('p666', '280'), ('p666', '480'), ('p667', '487'), ('p669', '187'), ('p67', '12'), ('p67', '15'), ('p67', '16'), ('p67', '20'), ('p678', '262'), ('p68', '121'), ('p680', '515'), ('p681', '309'), ('p681', '514'), ('p685', '516'), ('p686', '413'), ('p686', '516'), ('p690', '23'), ('p690', '183'), ('p690', '519'), ('p692', '520'), ('p693', '99'), ('p694', '2'), ('p695', '95'), ('p695', '110'), ('p695', '260'), ('p695', '376'), ('p695', '418'), ('p695', '424'), ('p695', '521'), ('p695', '522'), ('p695', '523'), ('p696', '508'), ('p696', '524'), ('p696', '526'), ('p696', '527'), ('p70', '35'), ('p701', '97'), ('p702', '528'), ('p704', '405'), ('p705', '529'), ('p706', '530'), ('p708', '530'), ('p710', '11'), ('p711', '60'), ('p714', '41'), ('p715', '59'), ('p715', '85'), ('p715', '110'), ('p715', '432'), ('p715', '531'), ('p715', '533'), ('p716', '5'), ('p717', '320'), ('p719', '112'), ('p719', '435'), ('p720', '435'), ('p723', '530'), ('p723', '534'), ('p724', '444'), ('p725', '287'), ('p729', '261'), ('p729', '263'), ('p729', '432'), ('p729', '535'), ('p73', '43'), ('p733', '315'), ('p735', '300'), ('p736', '399'), ('p738', '203'), ('p739', '416'), ('p74', '91'), ('p74', '110'), ('p74', '122'), ('p74', '123'), ('p74', '124'), ('p740', '251'), ('p740', '416'), ('p742', '290'), ('p744', '309'), ('p744', '515'), ('p745', '514'), ('p746', '156'), ('p746', '254'), ('p749', '227'), ('p750', '324'), ('p751', '271'), ('p754', '313'), ('p758', '536'), ('p758', '537'), ('p759', '155'), ('p763', '77'), ('p764', '517'), ('p765', '468'), ('p766', '349'), ('p767', '135'), ('p767', '494'), ('p768', '19'), ('p770', '87'), ('p773', '11'), ('p774', '110'), ('p776', '58'), ('p778', '110'), ('p779', '439'), ('p780', '262'), ('p781', '24'), ('p782', '14'), ('p783', '31'), ('p785', '53'), ('p788', '173'), ('p788', '259'), ('p788', '541'), ('p789', '541'), ('p791', '248'), ('p797', '72'), ('p797', '368'), ('p801', '535'), ('p802', '114'), ('p808', '204'), ('p809', '326'), ('p809', '347'), ('p81', '39'), ('p810', '326'), ('p811', '110'), ('p811', '544'), ('p812', '46'), ('p812', '334'), ('p815', '185'), ('p815', '352'), ('p815', '404'), ('p815', '415'), ('p815', '473'), ('p815', '512'), ('p815', '513'), ('p815', '525'), ('p815', '529'), ('p815', '547'), ('p815', '548'), ('p815', '549'), ('p816', '153'), ('p818', '474'), ('p818', '493'), ('p819', '501'), ('p82', '39'), ('p82', '136'), ('p820', '19'), ('p821', '519'), ('p823', '227'), ('p825', '399'), ('p829', '271'), ('p84', '138'), ('p85', '139'), ('p86', '140'), ('p87', '142'), ('p87', '143'), ('p88', '72'), ('p88', '75'), ('p89', '148'), ('p9', '31'), ('p96', '92'), ('p97', '28'), ('p97', '43')]\n"
     ]
    }
   ],
   "source": [
    "suspect_edges = [(u,v) for u,v,e in G0.edges(data=True) if e['role'][0] == 'Suspect']\n",
    "print(suspect_edges)"
   ]
  },
  {
   "cell_type": "code",
   "execution_count": null,
   "metadata": {},
   "outputs": [],
   "source": []
  }
 ],
 "metadata": {
  "interpreter": {
   "hash": "b982a078ed911dab99e179640a6cca84b775595208ef73a77f3be7cab58658de"
  },
  "kernelspec": {
   "display_name": "Python 3.8.3 64-bit ('base': conda)",
   "name": "python3"
  },
  "language_info": {
   "codemirror_mode": {
    "name": "ipython",
    "version": 3
   },
   "file_extension": ".py",
   "mimetype": "text/x-python",
   "name": "python",
   "nbconvert_exporter": "python",
   "pygments_lexer": "ipython3",
   "version": "3.8.3"
  }
 },
 "nbformat": 4,
 "nbformat_minor": 5
}
