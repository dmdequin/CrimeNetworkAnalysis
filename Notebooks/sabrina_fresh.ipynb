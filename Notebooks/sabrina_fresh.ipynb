{
 "cells": [
  {
   "cell_type": "markdown",
   "metadata": {},
   "source": [
    "# Goal\n",
    "- Find false innocents, could be through:\n",
    "    - connections with many criminal nodes?\n",
    "    - connection to a big criminal hub?\n",
    "\n",
    "# Assumptions\n",
    "- People connected to a crime as suspect or suspect/victim will be considered as being guilty of the crime they are connected to\n",
    "- \n",
    "\n",
    "## Node categorisation\n",
    "- criminal nodes: nodes that have been a suspect in a acrime at least once\n",
    "- innocent nodes: nodes that have been only victims and/or witness\n",
    "\n",
    "## Suspect role\n"
   ]
  },
  {
   "cell_type": "markdown",
   "metadata": {},
   "source": [
    "# Work plan\n",
    "Research question: is it possible to detect criminals that were not previously caught? - \"criminal\" disguised as \"innocent\"\n",
    "\n",
    "- Does a strong link prediction between a criminal and an innocent suggests that the innocent might be a criminal in disguise?\n",
    "- Compare the results from link prediction and community detection\n",
    "- If they are in the same community? Is that an even stronger indication of a possible criminal?"
   ]
  },
  {
   "cell_type": "markdown",
   "metadata": {},
   "source": [
    "# Imports"
   ]
  },
  {
   "cell_type": "code",
   "execution_count": 1,
   "metadata": {},
   "outputs": [],
   "source": [
    "import pandas as pd\n",
    "import statistics as stats\n",
    "import numpy as np\n",
    "\n",
    "import networkx as nx\n",
    "from networkx.algorithms import bipartite\n",
    "\n",
    "%matplotlib inline\n",
    "import matplotlib.pyplot as plt\n",
    "import seaborn as sns"
   ]
  },
  {
   "cell_type": "code",
   "execution_count": 2,
   "metadata": {},
   "outputs": [
    {
     "name": "stdout",
     "output_type": "stream",
     "text": [
      "seaborn version 0.11.2\n",
      "pandas version 1.3.4\n"
     ]
    }
   ],
   "source": [
    "print('seaborn version', sns.__version__)\n",
    "print('pandas version', pd.__version__)"
   ]
  },
  {
   "cell_type": "markdown",
   "metadata": {},
   "source": [
    "# Read data"
   ]
  },
  {
   "cell_type": "code",
   "execution_count": 3,
   "metadata": {},
   "outputs": [],
   "source": [
    "al = '..//Data//out.moreno_crime_crime'\n",
    "gender = '..//Data//ent.moreno_crime_crime.person.sex'\n",
    "name = '..//Data//ent.moreno_crime_crime.person.name'\n",
    "role = '..//Data//rel.moreno_crime_crime.person.role'"
   ]
  },
  {
   "cell_type": "markdown",
   "metadata": {},
   "source": [
    "## Adjancency list as DataFrame"
   ]
  },
  {
   "cell_type": "code",
   "execution_count": 4,
   "metadata": {},
   "outputs": [
    {
     "data": {
      "text/plain": [
       "(1476, 2)"
      ]
     },
     "execution_count": 4,
     "metadata": {},
     "output_type": "execute_result"
    }
   ],
   "source": [
    "df_al = pd.read_csv(al, sep=\" \", names=['person', 'crime'], index_col=False)\n",
    "df_al['person'] = 'p' + df_al['person'].astype(str)\n",
    "df_al['crime'] = 'c' + df_al['crime'].astype(str)\n",
    "df_al.head(3)\n",
    "df_al.shape"
   ]
  },
  {
   "cell_type": "markdown",
   "metadata": {},
   "source": [
    "## Gender Dataframe"
   ]
  },
  {
   "cell_type": "code",
   "execution_count": 5,
   "metadata": {},
   "outputs": [
    {
     "data": {
      "text/html": [
       "<div>\n",
       "<style scoped>\n",
       "    .dataframe tbody tr th:only-of-type {\n",
       "        vertical-align: middle;\n",
       "    }\n",
       "\n",
       "    .dataframe tbody tr th {\n",
       "        vertical-align: top;\n",
       "    }\n",
       "\n",
       "    .dataframe thead th {\n",
       "        text-align: right;\n",
       "    }\n",
       "</style>\n",
       "<table border=\"1\" class=\"dataframe\">\n",
       "  <thead>\n",
       "    <tr style=\"text-align: right;\">\n",
       "      <th></th>\n",
       "      <th>gender</th>\n",
       "      <th>person</th>\n",
       "    </tr>\n",
       "  </thead>\n",
       "  <tbody>\n",
       "    <tr>\n",
       "      <th>0</th>\n",
       "      <td>1</td>\n",
       "      <td>p0</td>\n",
       "    </tr>\n",
       "    <tr>\n",
       "      <th>1</th>\n",
       "      <td>1</td>\n",
       "      <td>p1</td>\n",
       "    </tr>\n",
       "    <tr>\n",
       "      <th>2</th>\n",
       "      <td>1</td>\n",
       "      <td>p2</td>\n",
       "    </tr>\n",
       "  </tbody>\n",
       "</table>\n",
       "</div>"
      ],
      "text/plain": [
       "   gender person\n",
       "0       1     p0\n",
       "1       1     p1\n",
       "2       1     p2"
      ]
     },
     "execution_count": 5,
     "metadata": {},
     "output_type": "execute_result"
    }
   ],
   "source": [
    "df_gender = pd.read_csv(gender, sep=\" \", header=None, names=['gender'])\n",
    "df_gender['person'] = 'p' + df_gender.index.astype(str)\n",
    "df_gender.head(3)"
   ]
  },
  {
   "cell_type": "markdown",
   "metadata": {},
   "source": [
    "## Name DataFrame"
   ]
  },
  {
   "cell_type": "code",
   "execution_count": 6,
   "metadata": {},
   "outputs": [
    {
     "data": {
      "text/html": [
       "<div>\n",
       "<style scoped>\n",
       "    .dataframe tbody tr th:only-of-type {\n",
       "        vertical-align: middle;\n",
       "    }\n",
       "\n",
       "    .dataframe tbody tr th {\n",
       "        vertical-align: top;\n",
       "    }\n",
       "\n",
       "    .dataframe thead th {\n",
       "        text-align: right;\n",
       "    }\n",
       "</style>\n",
       "<table border=\"1\" class=\"dataframe\">\n",
       "  <thead>\n",
       "    <tr style=\"text-align: right;\">\n",
       "      <th></th>\n",
       "      <th>name</th>\n",
       "      <th>person</th>\n",
       "    </tr>\n",
       "  </thead>\n",
       "  <tbody>\n",
       "    <tr>\n",
       "      <th>0</th>\n",
       "      <td>AbelDennis</td>\n",
       "      <td>p0</td>\n",
       "    </tr>\n",
       "    <tr>\n",
       "      <th>1</th>\n",
       "      <td>AbramsChad</td>\n",
       "      <td>p1</td>\n",
       "    </tr>\n",
       "    <tr>\n",
       "      <th>2</th>\n",
       "      <td>AbramsDavid</td>\n",
       "      <td>p2</td>\n",
       "    </tr>\n",
       "  </tbody>\n",
       "</table>\n",
       "</div>"
      ],
      "text/plain": [
       "          name person\n",
       "0   AbelDennis     p0\n",
       "1   AbramsChad     p1\n",
       "2  AbramsDavid     p2"
      ]
     },
     "execution_count": 6,
     "metadata": {},
     "output_type": "execute_result"
    }
   ],
   "source": [
    "df_name = pd.read_csv(name, sep=\" \", header=None, names=['name'])\n",
    "df_name['person'] = 'p' + df_name.index.astype(str)\n",
    "df_name.head(3)"
   ]
  },
  {
   "cell_type": "markdown",
   "metadata": {},
   "source": [
    "## Role Dataframe"
   ]
  },
  {
   "cell_type": "code",
   "execution_count": 7,
   "metadata": {},
   "outputs": [
    {
     "data": {
      "text/plain": [
       "(1476, 1)"
      ]
     },
     "execution_count": 7,
     "metadata": {},
     "output_type": "execute_result"
    }
   ],
   "source": [
    "df_role = pd.read_csv(role, sep=\",\", header=None, names=['role'])\n",
    "# df_role.head(3)\n",
    "df_role.shape"
   ]
  },
  {
   "cell_type": "markdown",
   "metadata": {},
   "source": [
    "## Join adjancency list with role"
   ]
  },
  {
   "cell_type": "code",
   "execution_count": 8,
   "metadata": {},
   "outputs": [
    {
     "data": {
      "text/html": [
       "<div>\n",
       "<style scoped>\n",
       "    .dataframe tbody tr th:only-of-type {\n",
       "        vertical-align: middle;\n",
       "    }\n",
       "\n",
       "    .dataframe tbody tr th {\n",
       "        vertical-align: top;\n",
       "    }\n",
       "\n",
       "    .dataframe thead th {\n",
       "        text-align: right;\n",
       "    }\n",
       "</style>\n",
       "<table border=\"1\" class=\"dataframe\">\n",
       "  <thead>\n",
       "    <tr style=\"text-align: right;\">\n",
       "      <th></th>\n",
       "      <th>person</th>\n",
       "      <th>crime</th>\n",
       "      <th>role</th>\n",
       "    </tr>\n",
       "  </thead>\n",
       "  <tbody>\n",
       "    <tr>\n",
       "      <th>0</th>\n",
       "      <td>p1</td>\n",
       "      <td>c1</td>\n",
       "      <td>Suspect</td>\n",
       "    </tr>\n",
       "    <tr>\n",
       "      <th>1</th>\n",
       "      <td>p1</td>\n",
       "      <td>c2</td>\n",
       "      <td>Victim</td>\n",
       "    </tr>\n",
       "    <tr>\n",
       "      <th>2</th>\n",
       "      <td>p1</td>\n",
       "      <td>c3</td>\n",
       "      <td>Victim</td>\n",
       "    </tr>\n",
       "  </tbody>\n",
       "</table>\n",
       "</div>"
      ],
      "text/plain": [
       "  person crime     role\n",
       "0     p1    c1  Suspect\n",
       "1     p1    c2   Victim\n",
       "2     p1    c3   Victim"
      ]
     },
     "execution_count": 8,
     "metadata": {},
     "output_type": "execute_result"
    }
   ],
   "source": [
    "df_al_roles = df_al.join(df_role)\n",
    "df_al_roles.head(3)"
   ]
  },
  {
   "cell_type": "code",
   "execution_count": 9,
   "metadata": {},
   "outputs": [
    {
     "data": {
      "text/html": [
       "<div>\n",
       "<style scoped>\n",
       "    .dataframe tbody tr th:only-of-type {\n",
       "        vertical-align: middle;\n",
       "    }\n",
       "\n",
       "    .dataframe tbody tr th {\n",
       "        vertical-align: top;\n",
       "    }\n",
       "\n",
       "    .dataframe thead th {\n",
       "        text-align: right;\n",
       "    }\n",
       "</style>\n",
       "<table border=\"1\" class=\"dataframe\">\n",
       "  <thead>\n",
       "    <tr style=\"text-align: right;\">\n",
       "      <th></th>\n",
       "      <th>person</th>\n",
       "      <th>crime</th>\n",
       "      <th>role</th>\n",
       "    </tr>\n",
       "  </thead>\n",
       "  <tbody>\n",
       "    <tr>\n",
       "      <th>1434</th>\n",
       "      <td>p815</td>\n",
       "      <td>c511</td>\n",
       "      <td>Suspect</td>\n",
       "    </tr>\n",
       "    <tr>\n",
       "      <th>1435</th>\n",
       "      <td>p815</td>\n",
       "      <td>c513</td>\n",
       "      <td>Suspect</td>\n",
       "    </tr>\n",
       "    <tr>\n",
       "      <th>1436</th>\n",
       "      <td>p815</td>\n",
       "      <td>c529</td>\n",
       "      <td>Suspect</td>\n",
       "    </tr>\n",
       "    <tr>\n",
       "      <th>1437</th>\n",
       "      <td>p815</td>\n",
       "      <td>c546</td>\n",
       "      <td>Suspect</td>\n",
       "    </tr>\n",
       "    <tr>\n",
       "      <th>1438</th>\n",
       "      <td>p815</td>\n",
       "      <td>c308</td>\n",
       "      <td>Suspect</td>\n",
       "    </tr>\n",
       "    <tr>\n",
       "      <th>1439</th>\n",
       "      <td>p815</td>\n",
       "      <td>c489</td>\n",
       "      <td>Suspect</td>\n",
       "    </tr>\n",
       "    <tr>\n",
       "      <th>1440</th>\n",
       "      <td>p815</td>\n",
       "      <td>c473</td>\n",
       "      <td>Suspect</td>\n",
       "    </tr>\n",
       "    <tr>\n",
       "      <th>1441</th>\n",
       "      <td>p815</td>\n",
       "      <td>c525</td>\n",
       "      <td>Victim</td>\n",
       "    </tr>\n",
       "    <tr>\n",
       "      <th>1442</th>\n",
       "      <td>p815</td>\n",
       "      <td>c400</td>\n",
       "      <td>Suspect</td>\n",
       "    </tr>\n",
       "    <tr>\n",
       "      <th>1443</th>\n",
       "      <td>p815</td>\n",
       "      <td>c133</td>\n",
       "      <td>Suspect</td>\n",
       "    </tr>\n",
       "    <tr>\n",
       "      <th>1444</th>\n",
       "      <td>p815</td>\n",
       "      <td>c359</td>\n",
       "      <td>Suspect</td>\n",
       "    </tr>\n",
       "    <tr>\n",
       "      <th>1445</th>\n",
       "      <td>p815</td>\n",
       "      <td>c185</td>\n",
       "      <td>Suspect</td>\n",
       "    </tr>\n",
       "    <tr>\n",
       "      <th>1446</th>\n",
       "      <td>p815</td>\n",
       "      <td>c47</td>\n",
       "      <td>Suspect</td>\n",
       "    </tr>\n",
       "    <tr>\n",
       "      <th>1447</th>\n",
       "      <td>p815</td>\n",
       "      <td>c547</td>\n",
       "      <td>Suspect</td>\n",
       "    </tr>\n",
       "    <tr>\n",
       "      <th>1448</th>\n",
       "      <td>p815</td>\n",
       "      <td>c548</td>\n",
       "      <td>Suspect</td>\n",
       "    </tr>\n",
       "    <tr>\n",
       "      <th>1449</th>\n",
       "      <td>p815</td>\n",
       "      <td>c352</td>\n",
       "      <td>Suspect</td>\n",
       "    </tr>\n",
       "    <tr>\n",
       "      <th>1450</th>\n",
       "      <td>p815</td>\n",
       "      <td>c549</td>\n",
       "      <td>Suspect</td>\n",
       "    </tr>\n",
       "    <tr>\n",
       "      <th>1451</th>\n",
       "      <td>p815</td>\n",
       "      <td>c499</td>\n",
       "      <td>Suspect</td>\n",
       "    </tr>\n",
       "    <tr>\n",
       "      <th>1452</th>\n",
       "      <td>p815</td>\n",
       "      <td>c550</td>\n",
       "      <td>Victim</td>\n",
       "    </tr>\n",
       "    <tr>\n",
       "      <th>1453</th>\n",
       "      <td>p815</td>\n",
       "      <td>c551</td>\n",
       "      <td>Suspect</td>\n",
       "    </tr>\n",
       "    <tr>\n",
       "      <th>1454</th>\n",
       "      <td>p815</td>\n",
       "      <td>c404</td>\n",
       "      <td>Suspect</td>\n",
       "    </tr>\n",
       "    <tr>\n",
       "      <th>1455</th>\n",
       "      <td>p815</td>\n",
       "      <td>c512</td>\n",
       "      <td>Suspect</td>\n",
       "    </tr>\n",
       "    <tr>\n",
       "      <th>1456</th>\n",
       "      <td>p815</td>\n",
       "      <td>c160</td>\n",
       "      <td>Suspect</td>\n",
       "    </tr>\n",
       "    <tr>\n",
       "      <th>1457</th>\n",
       "      <td>p815</td>\n",
       "      <td>c415</td>\n",
       "      <td>Suspect</td>\n",
       "    </tr>\n",
       "    <tr>\n",
       "      <th>1458</th>\n",
       "      <td>p815</td>\n",
       "      <td>c256</td>\n",
       "      <td>Suspect</td>\n",
       "    </tr>\n",
       "  </tbody>\n",
       "</table>\n",
       "</div>"
      ],
      "text/plain": [
       "     person crime     role\n",
       "1434   p815  c511  Suspect\n",
       "1435   p815  c513  Suspect\n",
       "1436   p815  c529  Suspect\n",
       "1437   p815  c546  Suspect\n",
       "1438   p815  c308  Suspect\n",
       "1439   p815  c489  Suspect\n",
       "1440   p815  c473  Suspect\n",
       "1441   p815  c525   Victim\n",
       "1442   p815  c400  Suspect\n",
       "1443   p815  c133  Suspect\n",
       "1444   p815  c359  Suspect\n",
       "1445   p815  c185  Suspect\n",
       "1446   p815   c47  Suspect\n",
       "1447   p815  c547  Suspect\n",
       "1448   p815  c548  Suspect\n",
       "1449   p815  c352  Suspect\n",
       "1450   p815  c549  Suspect\n",
       "1451   p815  c499  Suspect\n",
       "1452   p815  c550   Victim\n",
       "1453   p815  c551  Suspect\n",
       "1454   p815  c404  Suspect\n",
       "1455   p815  c512  Suspect\n",
       "1456   p815  c160  Suspect\n",
       "1457   p815  c415  Suspect\n",
       "1458   p815  c256  Suspect"
      ]
     },
     "execution_count": 9,
     "metadata": {},
     "output_type": "execute_result"
    }
   ],
   "source": [
    "df_al_roles[df_al_roles['person'] == 'p815']"
   ]
  },
  {
   "cell_type": "code",
   "execution_count": 10,
   "metadata": {},
   "outputs": [],
   "source": [
    "# group bys gives us the same as degree distribution\n",
    "# df_al_roles.groupby(by='person', dropna=False).count()\n",
    "# df_al_roles.groupby(by=['crime', 'role'], dropna=False).count()"
   ]
  },
  {
   "cell_type": "markdown",
   "metadata": {},
   "source": [
    "## Basic data stats"
   ]
  },
  {
   "cell_type": "code",
   "execution_count": 11,
   "metadata": {},
   "outputs": [
    {
     "name": "stdout",
     "output_type": "stream",
     "text": [
      "Number of people: 829\n",
      "Number of crimes: 551\n",
      "Number of roles: 4\n",
      "Number of edges: 1476\n"
     ]
    }
   ],
   "source": [
    "# the following are used to create the graph\n",
    "people = df_al['person'].unique()\n",
    "crimes = df_al['crime'].unique()\n",
    "roles = df_role['role'].unique()\n",
    "\n",
    "# print stats\n",
    "print('Number of people:', len(people))\n",
    "print('Number of crimes:', len(crimes))\n",
    "print('Number of roles:', len(roles))\n",
    "print('Number of edges:', len(df_al_roles))\n"
   ]
  },
  {
   "cell_type": "markdown",
   "metadata": {},
   "source": [
    "Breakdown of roles"
   ]
  },
  {
   "cell_type": "code",
   "execution_count": 12,
   "metadata": {},
   "outputs": [
    {
     "data": {
      "text/plain": [
       "role          \n",
       "Suspect           682\n",
       "Victim            558\n",
       "Witness           195\n",
       "Victim Suspect     41\n",
       "dtype: int64"
      ]
     },
     "execution_count": 12,
     "metadata": {},
     "output_type": "execute_result"
    }
   ],
   "source": [
    "df_role.value_counts()"
   ]
  },
  {
   "cell_type": "markdown",
   "metadata": {},
   "source": [
    "# Make graph"
   ]
  },
  {
   "cell_type": "code",
   "execution_count": 13,
   "metadata": {},
   "outputs": [],
   "source": [
    "# G=nx.from_pandas_dataframe(df_al_roles, 0, 'b', ['weight', 'cost'])"
   ]
  },
  {
   "cell_type": "code",
   "execution_count": 14,
   "metadata": {},
   "outputs": [],
   "source": [
    "# create networkx graph\n",
    "G = nx.Graph()\n",
    "\n",
    "# # add nodes\n",
    "for i in range(len(people)):\n",
    "    G.add_node(people[i], name=df_name['name'][i], gender=df_gender['gender'][i], bipartite=0)\n",
    "\n",
    "for i in range(len(crimes)):\n",
    "    G.add_node(crimes[i], bipartite=1)\n",
    "\n",
    "# # add edges\n",
    "for i in range(len(df_al)):\n",
    "    G.add_edge(df_al_roles['person'][i], df_al_roles['crime'][i], role=df_al_roles['role'][i])"
   ]
  },
  {
   "cell_type": "markdown",
   "metadata": {},
   "source": [
    "## Assign node status"
   ]
  },
  {
   "cell_type": "code",
   "execution_count": 15,
   "metadata": {},
   "outputs": [
    {
     "name": "stdout",
     "output_type": "stream",
     "text": [
      "criminal\n"
     ]
    }
   ],
   "source": [
    "# Code from Dee\n",
    "# Initialize a dictionary based on people nodes to keep track of all roles per node\n",
    "p_nodes = {el:[] for el in people}\n",
    "\n",
    "# Add all the edge attributes to a dictionary of people nodes\n",
    "for key,value in nx.get_edge_attributes(G, 'role').items():\n",
    "    for part in key:\n",
    "        if part in people:\n",
    "            p_nodes[part].append(value)\n",
    "\n",
    "# print(p_nodes['p1']) # List of all roles from p1\n",
    "\n",
    "# Initialize a dictionary to keep track of who is a \"criminal\"\n",
    "status = {el:[] for el in people}\n",
    "    \n",
    "# Loop through all roles per node, and deem them criminals if ever they have been a suspect\n",
    "for key in p_nodes:\n",
    "    if 'Suspect' in p_nodes[key]:\n",
    "        status[key] = \"criminal\"\n",
    "    elif 'Victim Suspect' in p_nodes[key]:\n",
    "        status[key] = \"criminal\"\n",
    "    else:\n",
    "        status[key] = \"innocent\"\n",
    "\n",
    "print(status['p336']) # Verify that p1 is deemed \"criminal\"\n",
    "\n",
    "# Convert to pandas df\n",
    "criminals_df = pd.DataFrame(status.items(), columns=['node', 'criminal_status'])"
   ]
  },
  {
   "cell_type": "markdown",
   "metadata": {},
   "source": [
    "## Add node status"
   ]
  },
  {
   "cell_type": "code",
   "execution_count": 16,
   "metadata": {},
   "outputs": [
    {
     "name": "stdout",
     "output_type": "stream",
     "text": [
      "criminal\n"
     ]
    }
   ],
   "source": [
    "# loop through rows in the data frame and add the attribute of Criminal Status\n",
    "for index, row in criminals_df.iterrows():\n",
    "    #print(row['node'])\n",
    "    G.nodes[row['node']]['criminal_status'] = row['criminal_status']\n",
    "\n",
    "print(nx.get_node_attributes(G, 'criminal_status')['p1']) # check name of person 'p1' = 'Criminal'"
   ]
  },
  {
   "cell_type": "code",
   "execution_count": 17,
   "metadata": {},
   "outputs": [],
   "source": [
    "# get top and bottom nodes for projection and plotting\n",
    "people_nodes = {n for n, d in G.nodes(data=True) if d[\"bipartite\"] == 0}\n",
    "crime_nodes = set(G) - people_nodes"
   ]
  },
  {
   "cell_type": "code",
   "execution_count": 18,
   "metadata": {},
   "outputs": [
    {
     "data": {
      "image/png": "[encoded data removed]",
      "text/plain": [
       "<Figure size 432x288 with 1 Axes>"
      ]
     },
     "metadata": {},
     "output_type": "display_data"
    }
   ],
   "source": [
    "# plot only biggest component\n",
    "# pos = nx.spring_layout(G)\n",
    "# posB = nx.bipartite_layout(G, people_nodes)\n",
    "G_draw = nx.draw_spring(G,node_size=5)"
   ]
  },
  {
   "cell_type": "markdown",
   "metadata": {},
   "source": [
    "## Get degree of all nodes\n",
    "Node degreee of **people** nodes if the number of crimes they were involved in.  \n",
    "Node degree of **crime** nodes is the number of people involved in the crime."
   ]
  },
  {
   "cell_type": "code",
   "execution_count": 19,
   "metadata": {},
   "outputs": [],
   "source": [
    "# Creating dict with all node degrees to add as attribute\n",
    "node_degrees = dict()\n",
    "\n",
    "# Creating dict for each node type\n",
    "people_degrees = dict()\n",
    "crimes_degrees = dict()\n",
    "\n",
    "# for loop to populate dicts above\n",
    "for node in G.nodes:\n",
    "    # print(G.edges(node, data=True))\n",
    "    node_degrees[node] = G.degree(node)\n",
    "    if node.startswith('p') == True:\n",
    "        people_degrees[node] = G.degree(node)\n",
    "    else:\n",
    "        crimes_degrees[node] = G.degree(node)"
   ]
  },
  {
   "cell_type": "code",
   "execution_count": 20,
   "metadata": {},
   "outputs": [
    {
     "data": {
      "text/html": [
       "<div>\n",
       "<style scoped>\n",
       "    .dataframe tbody tr th:only-of-type {\n",
       "        vertical-align: middle;\n",
       "    }\n",
       "\n",
       "    .dataframe tbody tr th {\n",
       "        vertical-align: top;\n",
       "    }\n",
       "\n",
       "    .dataframe thead th {\n",
       "        text-align: right;\n",
       "    }\n",
       "</style>\n",
       "<table border=\"1\" class=\"dataframe\">\n",
       "  <thead>\n",
       "    <tr style=\"text-align: right;\">\n",
       "      <th></th>\n",
       "      <th>gender</th>\n",
       "      <th>person</th>\n",
       "    </tr>\n",
       "  </thead>\n",
       "  <tbody>\n",
       "    <tr>\n",
       "      <th>0</th>\n",
       "      <td>1</td>\n",
       "      <td>p0</td>\n",
       "    </tr>\n",
       "    <tr>\n",
       "      <th>1</th>\n",
       "      <td>1</td>\n",
       "      <td>p1</td>\n",
       "    </tr>\n",
       "    <tr>\n",
       "      <th>2</th>\n",
       "      <td>1</td>\n",
       "      <td>p2</td>\n",
       "    </tr>\n",
       "  </tbody>\n",
       "</table>\n",
       "</div>"
      ],
      "text/plain": [
       "   gender person\n",
       "0       1     p0\n",
       "1       1     p1\n",
       "2       1     p2"
      ]
     },
     "execution_count": 20,
     "metadata": {},
     "output_type": "execute_result"
    }
   ],
   "source": [
    "df_gender = pd.read_csv(gender, sep=\" \", header=None, names=['gender'])\n",
    "df_gender['person'] = 'p' + df_gender.index.astype(str)\n",
    "df_gender.head(3)"
   ]
  },
  {
   "cell_type": "code",
   "execution_count": 21,
   "metadata": {},
   "outputs": [],
   "source": [
    "# Add node degree as node attribute in graph G\n",
    "nx.set_node_attributes(G, node_degrees, \"node_degree\")\n",
    "\n",
    "# and check it worked\n",
    "# nx.get_node_attributes(G, 'node_degree')"
   ]
  },
  {
   "cell_type": "markdown",
   "metadata": {},
   "source": [
    "### Make a dataframe including all node attributes"
   ]
  },
  {
   "cell_type": "code",
   "execution_count": 22,
   "metadata": {},
   "outputs": [
    {
     "data": {
      "text/html": [
       "<div>\n",
       "<style scoped>\n",
       "    .dataframe tbody tr th:only-of-type {\n",
       "        vertical-align: middle;\n",
       "    }\n",
       "\n",
       "    .dataframe tbody tr th {\n",
       "        vertical-align: top;\n",
       "    }\n",
       "\n",
       "    .dataframe thead th {\n",
       "        text-align: right;\n",
       "    }\n",
       "</style>\n",
       "<table border=\"1\" class=\"dataframe\">\n",
       "  <thead>\n",
       "    <tr style=\"text-align: right;\">\n",
       "      <th></th>\n",
       "      <th>name</th>\n",
       "      <th>gender</th>\n",
       "      <th>bipartite</th>\n",
       "      <th>criminal_status</th>\n",
       "      <th>node_degree</th>\n",
       "    </tr>\n",
       "  </thead>\n",
       "  <tbody>\n",
       "    <tr>\n",
       "      <th>p1</th>\n",
       "      <td>AbelDennis</td>\n",
       "      <td>1.0</td>\n",
       "      <td>0</td>\n",
       "      <td>criminal</td>\n",
       "      <td>4</td>\n",
       "    </tr>\n",
       "    <tr>\n",
       "      <th>p2</th>\n",
       "      <td>AbramsChad</td>\n",
       "      <td>1.0</td>\n",
       "      <td>0</td>\n",
       "      <td>criminal</td>\n",
       "      <td>22</td>\n",
       "    </tr>\n",
       "    <tr>\n",
       "      <th>p3</th>\n",
       "      <td>AbramsDavid</td>\n",
       "      <td>1.0</td>\n",
       "      <td>0</td>\n",
       "      <td>criminal</td>\n",
       "      <td>1</td>\n",
       "    </tr>\n",
       "    <tr>\n",
       "      <th>p4</th>\n",
       "      <td>AbramsDon</td>\n",
       "      <td>1.0</td>\n",
       "      <td>0</td>\n",
       "      <td>criminal</td>\n",
       "      <td>1</td>\n",
       "    </tr>\n",
       "    <tr>\n",
       "      <th>p5</th>\n",
       "      <td>AbramsRichard</td>\n",
       "      <td>1.0</td>\n",
       "      <td>0</td>\n",
       "      <td>innocent</td>\n",
       "      <td>1</td>\n",
       "    </tr>\n",
       "    <tr>\n",
       "      <th>...</th>\n",
       "      <td>...</td>\n",
       "      <td>...</td>\n",
       "      <td>...</td>\n",
       "      <td>...</td>\n",
       "      <td>...</td>\n",
       "    </tr>\n",
       "    <tr>\n",
       "      <th>c547</th>\n",
       "      <td>NaN</td>\n",
       "      <td>NaN</td>\n",
       "      <td>1</td>\n",
       "      <td>NaN</td>\n",
       "      <td>1</td>\n",
       "    </tr>\n",
       "    <tr>\n",
       "      <th>c548</th>\n",
       "      <td>NaN</td>\n",
       "      <td>NaN</td>\n",
       "      <td>1</td>\n",
       "      <td>NaN</td>\n",
       "      <td>1</td>\n",
       "    </tr>\n",
       "    <tr>\n",
       "      <th>c549</th>\n",
       "      <td>NaN</td>\n",
       "      <td>NaN</td>\n",
       "      <td>1</td>\n",
       "      <td>NaN</td>\n",
       "      <td>1</td>\n",
       "    </tr>\n",
       "    <tr>\n",
       "      <th>c550</th>\n",
       "      <td>NaN</td>\n",
       "      <td>NaN</td>\n",
       "      <td>1</td>\n",
       "      <td>NaN</td>\n",
       "      <td>1</td>\n",
       "    </tr>\n",
       "    <tr>\n",
       "      <th>c551</th>\n",
       "      <td>NaN</td>\n",
       "      <td>NaN</td>\n",
       "      <td>1</td>\n",
       "      <td>NaN</td>\n",
       "      <td>1</td>\n",
       "    </tr>\n",
       "  </tbody>\n",
       "</table>\n",
       "<p>1380 rows × 5 columns</p>\n",
       "</div>"
      ],
      "text/plain": [
       "               name  gender  bipartite criminal_status  node_degree\n",
       "p1       AbelDennis     1.0          0        criminal            4\n",
       "p2       AbramsChad     1.0          0        criminal           22\n",
       "p3      AbramsDavid     1.0          0        criminal            1\n",
       "p4        AbramsDon     1.0          0        criminal            1\n",
       "p5    AbramsRichard     1.0          0        innocent            1\n",
       "...             ...     ...        ...             ...          ...\n",
       "c547            NaN     NaN          1             NaN            1\n",
       "c548            NaN     NaN          1             NaN            1\n",
       "c549            NaN     NaN          1             NaN            1\n",
       "c550            NaN     NaN          1             NaN            1\n",
       "c551            NaN     NaN          1             NaN            1\n",
       "\n",
       "[1380 rows x 5 columns]"
      ]
     },
     "execution_count": 22,
     "metadata": {},
     "output_type": "execute_result"
    }
   ],
   "source": [
    "# code from https://stackoverflow.com/a/50775962\n",
    "# make pandas dataframe from graph with node attributes\n",
    "df_G = pd.DataFrame.from_dict(dict(G.nodes(data=True)), orient='index')\n",
    "df_G\n"
   ]
  },
  {
   "cell_type": "code",
   "execution_count": 23,
   "metadata": {},
   "outputs": [
    {
     "data": {
      "text/html": [
       "<div>\n",
       "<style scoped>\n",
       "    .dataframe tbody tr th:only-of-type {\n",
       "        vertical-align: middle;\n",
       "    }\n",
       "\n",
       "    .dataframe tbody tr th {\n",
       "        vertical-align: top;\n",
       "    }\n",
       "\n",
       "    .dataframe thead th {\n",
       "        text-align: right;\n",
       "    }\n",
       "</style>\n",
       "<table border=\"1\" class=\"dataframe\">\n",
       "  <thead>\n",
       "    <tr style=\"text-align: right;\">\n",
       "      <th></th>\n",
       "      <th>name</th>\n",
       "      <th>gender</th>\n",
       "      <th>bipartite</th>\n",
       "      <th>criminal_status</th>\n",
       "      <th>node_degree</th>\n",
       "    </tr>\n",
       "  </thead>\n",
       "  <tbody>\n",
       "    <tr>\n",
       "      <th>p815</th>\n",
       "      <td>WillisJenny</td>\n",
       "      <td>0.0</td>\n",
       "      <td>0</td>\n",
       "      <td>criminal</td>\n",
       "      <td>25</td>\n",
       "    </tr>\n",
       "  </tbody>\n",
       "</table>\n",
       "</div>"
      ],
      "text/plain": [
       "             name  gender  bipartite criminal_status  node_degree\n",
       "p815  WillisJenny     0.0          0        criminal           25"
      ]
     },
     "execution_count": 23,
     "metadata": {},
     "output_type": "execute_result"
    }
   ],
   "source": [
    "df_G.loc[['p815']]"
   ]
  },
  {
   "cell_type": "code",
   "execution_count": 24,
   "metadata": {},
   "outputs": [
    {
     "data": {
      "text/plain": [
       "criminal    442\n",
       "innocent    387\n",
       "Name: criminal_status, dtype: int64"
      ]
     },
     "execution_count": 24,
     "metadata": {},
     "output_type": "execute_result"
    }
   ],
   "source": [
    "df_G['criminal_status'].value_counts()"
   ]
  },
  {
   "cell_type": "markdown",
   "metadata": {},
   "source": [
    "# Projection on people"
   ]
  },
  {
   "cell_type": "code",
   "execution_count": 25,
   "metadata": {},
   "outputs": [
    {
     "data": {
      "text/plain": [
       "[('p184', 'p88', {'weight': 1}),\n",
       " ('p184', 'p797', {'weight': 1}),\n",
       " ('p184', 'p399', {'weight': 1}),\n",
       " ('p184', 'p164', {'weight': 1}),\n",
       " ('p184', 'p200', {'weight': 1})]"
      ]
     },
     "execution_count": 25,
     "metadata": {},
     "output_type": "execute_result"
    }
   ],
   "source": [
    "G_proj = bipartite.weighted_projected_graph(G, people_nodes, ratio=False)\n",
    "list(G_proj.edges(data=True))[0:5]"
   ]
  },
  {
   "cell_type": "code",
   "execution_count": 26,
   "metadata": {},
   "outputs": [
    {
     "name": "stdout",
     "output_type": "stream",
     "text": [
      "Num. of nodes: 829 \n",
      "Num. of edges: 2253 \n",
      "Is bipartite? False \n",
      "Is connected? False\n"
     ]
    }
   ],
   "source": [
    "print(\n",
    "    'Num. of nodes: {} \\nNum. of edges: {} \\nIs bipartite? {} \\nIs connected? {}'.format(\n",
    "        G_proj.number_of_nodes(), \n",
    "        G_proj.number_of_edges(), \n",
    "        nx.is_bipartite(G_proj),\n",
    "        nx.is_connected(G_proj)\n",
    "        )\n",
    "    )"
   ]
  },
  {
   "cell_type": "code",
   "execution_count": 27,
   "metadata": {},
   "outputs": [
    {
     "data": {
      "image/png": "[encoded data removed]",
      "text/plain": [
       "<Figure size 432x288 with 1 Axes>"
      ]
     },
     "metadata": {
      "needs_background": "light"
     },
     "output_type": "display_data"
    }
   ],
   "source": [
    "weights = list(nx.get_edge_attributes(G_proj, 'weight').values())\n",
    "\n",
    "# plot weights\n",
    "plt.hist(weights, bins = 10, log=True)\n",
    "plt.xticks([1,2,3,4,5])\n",
    "plt.show()"
   ]
  },
  {
   "cell_type": "code",
   "execution_count": 28,
   "metadata": {},
   "outputs": [
    {
     "data": {
      "image/png": "[encoded data removed]",
      "text/plain": [
       "<Figure size 432x288 with 1 Axes>"
      ]
     },
     "metadata": {
      "needs_background": "light"
     },
     "output_type": "display_data"
    }
   ],
   "source": [
    "labels, counts = np.unique(weights, return_counts=True)\n",
    "plt.bar(labels, counts, align='center', log=True)\n",
    "plt.ylabel('Count')\n",
    "plt.xlabel('Crimes Shared Between People')\n",
    "plt.show()\n",
    "#plt.savefig('../Figures/CrimesBetweenPeople.png')"
   ]
  },
  {
   "cell_type": "markdown",
   "metadata": {},
   "source": [
    "People of interest. Pairs that are connected by 5 crimes."
   ]
  },
  {
   "cell_type": "code",
   "execution_count": 29,
   "metadata": {},
   "outputs": [
    {
     "name": "stdout",
     "output_type": "stream",
     "text": [
      "('p54', 'p425', {'weight': 3})\n",
      "('p797', 'p37', {'weight': 3})\n",
      "('p333', 'p592', {'weight': 3})\n",
      "('p531', 'p128', {'weight': 5})\n",
      "('p531', 'p396', {'weight': 3})\n",
      "('p2', 'p67', {'weight': 4})\n",
      "('p17', 'p514', {'weight': 4})\n",
      "('p56', 'p303', {'weight': 3})\n",
      "('p715', 'p695', {'weight': 3})\n",
      "('p715', 'p425', {'weight': 5})\n",
      "('p87', 'p659', {'weight': 4})\n",
      "('p413', 'p695', {'weight': 3})\n",
      "('p413', 'p425', {'weight': 4})\n",
      "('p425', 'p695', {'weight': 3})\n",
      "('p663', 'p815', {'weight': 3})\n",
      "('p533', 'p572', {'weight': 4})\n",
      "('p344', 'p696', {'weight': 3})\n",
      "('p79', 'p767', {'weight': 5})\n"
     ]
    }
   ],
   "source": [
    "edge_w = list(G_proj.edges(data=True))\n",
    "\n",
    "for i in edge_w:\n",
    "    if i[2]['weight'] > 2:\n",
    "        print(i)"
   ]
  },
  {
   "cell_type": "code",
   "execution_count": 30,
   "metadata": {},
   "outputs": [],
   "source": [
    "# get adjacency matrix\n",
    "A = nx.adjacency_matrix(G_proj, weight='weight')\n",
    "A = A.toarray()"
   ]
  },
  {
   "cell_type": "code",
   "execution_count": 31,
   "metadata": {},
   "outputs": [
    {
     "data": {
      "text/plain": [
       "array([3, 3, 3, 3, 5, 3, 4, 3, 4, 3, 5, 3, 3, 5, 4, 4, 3, 3, 5, 4, 3, 3,\n",
       "       4, 4, 3, 3, 4, 4, 4, 5, 3, 3, 3, 3, 5, 3], dtype=int32)"
      ]
     },
     "execution_count": 31,
     "metadata": {},
     "output_type": "execute_result"
    }
   ],
   "source": [
    "A[A > 2]"
   ]
  },
  {
   "cell_type": "code",
   "execution_count": 32,
   "metadata": {},
   "outputs": [
    {
     "data": {
      "image/png": "[encoded data removed]",
      "text/plain": [
       "<Figure size 432x288 with 1 Axes>"
      ]
     },
     "metadata": {
      "needs_background": "light"
     },
     "output_type": "display_data"
    }
   ],
   "source": [
    "# plot adjacency matrix\n",
    "plt.title('Adjacency Matrix')\n",
    "# plt.imshow(A, cmap='Greys', markersize = 3)\n",
    "# plt.show()\n",
    "# plt.figure(figsize=(8,8))\n",
    "plt.spy(A, markersize = 1)\n",
    "plt.show()"
   ]
  },
  {
   "cell_type": "code",
   "execution_count": 33,
   "metadata": {},
   "outputs": [
    {
     "data": {
      "text/plain": [
       "<AxesSubplot:>"
      ]
     },
     "execution_count": 33,
     "metadata": {},
     "output_type": "execute_result"
    },
    {
     "data": {
      "image/png": "[encoded data removed]",
      "text/plain": [
       "<Figure size 432x288 with 2 Axes>"
      ]
     },
     "metadata": {
      "needs_background": "light"
     },
     "output_type": "display_data"
    }
   ],
   "source": [
    "sns.heatmap(A)"
   ]
  },
  {
   "cell_type": "code",
   "execution_count": 34,
   "metadata": {},
   "outputs": [
    {
     "data": {
      "image/png": "[encoded data removed]",
      "text/plain": [
       "<Figure size 432x288 with 1 Axes>"
      ]
     },
     "metadata": {},
     "output_type": "display_data"
    }
   ],
   "source": [
    "# plot graph visualisation\n",
    "nx.draw_spring(G_proj, node_size=3)"
   ]
  },
  {
   "cell_type": "markdown",
   "metadata": {},
   "source": [
    "# Link prediction on projected graph\n",
    "from: https://www.networkatlas.eu/exercise.htm?c=20&e=1"
   ]
  },
  {
   "cell_type": "code",
   "execution_count": 35,
   "metadata": {},
   "outputs": [],
   "source": [
    "linkpred_pa = list(nx.preferential_attachment(G_proj))"
   ]
  },
  {
   "cell_type": "code",
   "execution_count": 36,
   "metadata": {},
   "outputs": [],
   "source": [
    "# Sort in decreasing score\n",
    "linkpred_pa.sort(key = lambda tup: tup[2], reverse = True)"
   ]
  },
  {
   "cell_type": "code",
   "execution_count": 37,
   "metadata": {},
   "outputs": [
    {
     "name": "stdout",
     "output_type": "stream",
     "text": [
      "('p2', 'p425', 2448)\n",
      "('p356', 'p425', 2244)\n",
      "('p2', 'p56', 1584)\n",
      "('p2', 'p695', 1584)\n",
      "('p56', 'p356', 1452)\n",
      "('p356', 'p695', 1452)\n",
      "('p2', 'p497', 1440)\n",
      "('p10', 'p425', 1428)\n",
      "('p2', 'p715', 1392)\n",
      "('p425', 'p815', 1377)\n"
     ]
    }
   ],
   "source": [
    "# Get the top 10\n",
    "for edge_score in linkpred_pa[:10]:\n",
    "   print(edge_score)"
   ]
  },
  {
   "cell_type": "markdown",
   "metadata": {},
   "source": [
    "### Compare different link prediction methods\n",
    "Code from: https://www.networkatlas.eu/exercise.htm?c=20&e=2"
   ]
  },
  {
   "cell_type": "code",
   "execution_count": 38,
   "metadata": {},
   "outputs": [],
   "source": [
    "# Run the other link prediction methods implemented in networkx\n",
    "linkpred_ja = list(nx.jaccard_coefficient(G_proj))\n",
    "linkpred_aa = list(nx.adamic_adar_index(G_proj))\n",
    "linkpred_ra = list(nx.resource_allocation_index(G_proj))\n",
    "\n",
    "linkpred_ja.sort(key = lambda tup: tup[2], reverse = True)\n",
    "linkpred_aa.sort(key = lambda tup: tup[2], reverse = True)\n",
    "linkpred_ra.sort(key = lambda tup: tup[2], reverse = True)"
   ]
  },
  {
   "cell_type": "code",
   "execution_count": 39,
   "metadata": {},
   "outputs": [
    {
     "name": "stdout",
     "output_type": "stream",
     "text": [
      "PrefAtt\tJaccard\tAdamAd\tResAll\n",
      "('p2', 'p425', 2448)\t('p371', 'p758', 1.0)\t('p815', 'p336', 2.326022992233796)\t('p815', 'p336', 0.7083333333333334)\n",
      "('p356', 'p425', 2244)\t('p591', 'p295', 1.0)\t('p365', 'p114', 1.6072172535335318)\t('p301', 'p815', 0.5)\n",
      "('p2', 'p56', 1584)\t('p548', 'p434', 1.0)\t('p805', 'p746', 1.461880214172278)\t('p228', 'p514', 0.5)\n",
      "('p2', 'p695', 1584)\t('p548', 'p68', 1.0)\t('p466', 'p680', 1.461880214172278)\t('p797', 'p293', 0.5)\n",
      "('p56', 'p356', 1452)\t('p193', 'p194', 1.0)\t('p245', 'p680', 1.461880214172278)\t('p132', 'p690', 0.5)\n"
     ]
    }
   ],
   "source": [
    "# Print top predictions\n",
    "print(\"PrefAtt\\tJaccard\\tAdamAd\\tResAll\")\n",
    "for i in range(5):\n",
    "   print(\"%s\\t%s\\t%s\\t%s\" % (linkpred_pa[i], linkpred_ja[i], linkpred_aa[i], linkpred_ra[i]))"
   ]
  },
  {
   "cell_type": "code",
   "execution_count": 40,
   "metadata": {},
   "outputs": [],
   "source": [
    "df_linkpred = pd.DataFrame(linkpred_ra, columns=['node1', 'node2', 'resource_allocation_score'])\n",
    "df_linkpred['node1_status'] = df_linkpred['node1'].map(status)\n",
    "df_linkpred['node2_status'] = df_linkpred['node2'].map(status)\n",
    "# df_linkpred\n"
   ]
  },
  {
   "cell_type": "code",
   "execution_count": 41,
   "metadata": {},
   "outputs": [
    {
     "data": {
      "text/html": [
       "<div>\n",
       "<style scoped>\n",
       "    .dataframe tbody tr th:only-of-type {\n",
       "        vertical-align: middle;\n",
       "    }\n",
       "\n",
       "    .dataframe tbody tr th {\n",
       "        vertical-align: top;\n",
       "    }\n",
       "\n",
       "    .dataframe thead th {\n",
       "        text-align: right;\n",
       "    }\n",
       "</style>\n",
       "<table border=\"1\" class=\"dataframe\">\n",
       "  <thead>\n",
       "    <tr style=\"text-align: right;\">\n",
       "      <th></th>\n",
       "      <th>node1</th>\n",
       "      <th>node2</th>\n",
       "      <th>resource_allocation_score</th>\n",
       "      <th>node1_status</th>\n",
       "      <th>node2_status</th>\n",
       "    </tr>\n",
       "  </thead>\n",
       "  <tbody>\n",
       "    <tr>\n",
       "      <th>0</th>\n",
       "      <td>p815</td>\n",
       "      <td>p336</td>\n",
       "      <td>0.708333</td>\n",
       "      <td>criminal</td>\n",
       "      <td>criminal</td>\n",
       "    </tr>\n",
       "    <tr>\n",
       "      <th>1</th>\n",
       "      <td>p301</td>\n",
       "      <td>p815</td>\n",
       "      <td>0.500000</td>\n",
       "      <td>innocent</td>\n",
       "      <td>criminal</td>\n",
       "    </tr>\n",
       "    <tr>\n",
       "      <th>2</th>\n",
       "      <td>p228</td>\n",
       "      <td>p514</td>\n",
       "      <td>0.500000</td>\n",
       "      <td>criminal</td>\n",
       "      <td>criminal</td>\n",
       "    </tr>\n",
       "    <tr>\n",
       "      <th>3</th>\n",
       "      <td>p797</td>\n",
       "      <td>p293</td>\n",
       "      <td>0.500000</td>\n",
       "      <td>criminal</td>\n",
       "      <td>innocent</td>\n",
       "    </tr>\n",
       "    <tr>\n",
       "      <th>4</th>\n",
       "      <td>p132</td>\n",
       "      <td>p690</td>\n",
       "      <td>0.500000</td>\n",
       "      <td>innocent</td>\n",
       "      <td>criminal</td>\n",
       "    </tr>\n",
       "    <tr>\n",
       "      <th>...</th>\n",
       "      <td>...</td>\n",
       "      <td>...</td>\n",
       "      <td>...</td>\n",
       "      <td>...</td>\n",
       "      <td>...</td>\n",
       "    </tr>\n",
       "    <tr>\n",
       "      <th>7833</th>\n",
       "      <td>p365</td>\n",
       "      <td>p776</td>\n",
       "      <td>0.019608</td>\n",
       "      <td>criminal</td>\n",
       "      <td>criminal</td>\n",
       "    </tr>\n",
       "    <tr>\n",
       "      <th>7832</th>\n",
       "      <td>p365</td>\n",
       "      <td>p259</td>\n",
       "      <td>0.019608</td>\n",
       "      <td>criminal</td>\n",
       "      <td>innocent</td>\n",
       "    </tr>\n",
       "    <tr>\n",
       "      <th>7831</th>\n",
       "      <td>p365</td>\n",
       "      <td>p490</td>\n",
       "      <td>0.019608</td>\n",
       "      <td>criminal</td>\n",
       "      <td>innocent</td>\n",
       "    </tr>\n",
       "    <tr>\n",
       "      <th>7830</th>\n",
       "      <td>p365</td>\n",
       "      <td>p778</td>\n",
       "      <td>0.019608</td>\n",
       "      <td>criminal</td>\n",
       "      <td>innocent</td>\n",
       "    </tr>\n",
       "    <tr>\n",
       "      <th>8164</th>\n",
       "      <td>p606</td>\n",
       "      <td>p74</td>\n",
       "      <td>0.019608</td>\n",
       "      <td>criminal</td>\n",
       "      <td>criminal</td>\n",
       "    </tr>\n",
       "  </tbody>\n",
       "</table>\n",
       "<p>8165 rows × 5 columns</p>\n",
       "</div>"
      ],
      "text/plain": [
       "     node1 node2  resource_allocation_score node1_status node2_status\n",
       "0     p815  p336                   0.708333     criminal     criminal\n",
       "1     p301  p815                   0.500000     innocent     criminal\n",
       "2     p228  p514                   0.500000     criminal     criminal\n",
       "3     p797  p293                   0.500000     criminal     innocent\n",
       "4     p132  p690                   0.500000     innocent     criminal\n",
       "...    ...   ...                        ...          ...          ...\n",
       "7833  p365  p776                   0.019608     criminal     criminal\n",
       "7832  p365  p259                   0.019608     criminal     innocent\n",
       "7831  p365  p490                   0.019608     criminal     innocent\n",
       "7830  p365  p778                   0.019608     criminal     innocent\n",
       "8164  p606   p74                   0.019608     criminal     criminal\n",
       "\n",
       "[8165 rows x 5 columns]"
      ]
     },
     "execution_count": 41,
     "metadata": {},
     "output_type": "execute_result"
    }
   ],
   "source": [
    "df_linkpred_status = df_linkpred[df_linkpred['resource_allocation_score'] != 0]\n",
    "df_linkpred_status.sort_values(by='resource_allocation_score', ascending=False)"
   ]
  },
  {
   "cell_type": "code",
   "execution_count": 42,
   "metadata": {},
   "outputs": [
    {
     "name": "stdout",
     "output_type": "stream",
     "text": [
      "name                HallLiz\n",
      "gender                  0.0\n",
      "bipartite                 0\n",
      "criminal_status    criminal\n",
      "node_degree               9\n",
      "Name: p336, dtype: object\n",
      "name               WillisJenny\n",
      "gender                     0.0\n",
      "bipartite                    0\n",
      "criminal_status       criminal\n",
      "node_degree                 25\n",
      "Name: p815, dtype: object\n"
     ]
    }
   ],
   "source": [
    "print(df_G.loc['p336'])\n",
    "print(df_G.loc['p815'])"
   ]
  },
  {
   "cell_type": "code",
   "execution_count": 43,
   "metadata": {},
   "outputs": [
    {
     "name": "stdout",
     "output_type": "stream",
     "text": [
      "name               DukeAmelia\n",
      "gender                    0.0\n",
      "bipartite                   0\n",
      "criminal_status      criminal\n",
      "node_degree                 1\n",
      "Name: p228, dtype: object\n",
      "name               MccannEddie\n",
      "gender                     1.0\n",
      "bipartite                    0\n",
      "criminal_status       criminal\n",
      "node_degree                 11\n",
      "Name: p514, dtype: object\n"
     ]
    }
   ],
   "source": [
    "print(df_G.loc['p228'])\n",
    "print(df_G.loc['p514'])"
   ]
  },
  {
   "cell_type": "code",
   "execution_count": 44,
   "metadata": {},
   "outputs": [
    {
     "name": "stdout",
     "output_type": "stream",
     "text": [
      "name               GodfreyBrian\n",
      "gender                      1.0\n",
      "bipartite                     0\n",
      "criminal_status        innocent\n",
      "node_degree                   1\n",
      "Name: p301, dtype: object\n",
      "name               WillisJenny\n",
      "gender                     0.0\n",
      "bipartite                    0\n",
      "criminal_status       criminal\n",
      "node_degree                 25\n",
      "Name: p815, dtype: object\n"
     ]
    }
   ],
   "source": [
    "print(df_G.loc['p301'])\n",
    "print(df_G.loc['p815'])"
   ]
  },
  {
   "cell_type": "code",
   "execution_count": 45,
   "metadata": {},
   "outputs": [
    {
     "name": "stdout",
     "output_type": "stream",
     "text": [
      "name               WethersMorrie\n",
      "gender                       1.0\n",
      "bipartite                      0\n",
      "criminal_status         criminal\n",
      "node_degree                    7\n",
      "Name: p797, dtype: object\n",
      "name               GillisJohnson\n",
      "gender                       1.0\n",
      "bipartite                      0\n",
      "criminal_status         innocent\n",
      "node_degree                    1\n",
      "Name: p293, dtype: object\n"
     ]
    }
   ],
   "source": [
    "print(df_G.loc['p797'])\n",
    "print(df_G.loc['p293'])"
   ]
  },
  {
   "cell_type": "code",
   "execution_count": 46,
   "metadata": {},
   "outputs": [
    {
     "name": "stdout",
     "output_type": "stream",
     "text": [
      "name               ChandlerSusie\n",
      "gender                       0.0\n",
      "bipartite                      0\n",
      "criminal_status         innocent\n",
      "node_degree                    5\n",
      "Name: p155, dtype: object\n",
      "name               ForesterCarol\n",
      "gender                       0.0\n",
      "bipartite                      0\n",
      "criminal_status         criminal\n",
      "node_degree                    2\n",
      "Name: p269, dtype: object\n"
     ]
    }
   ],
   "source": [
    "print(df_G.loc['p155'])\n",
    "print(df_G.loc['p269'])"
   ]
  },
  {
   "cell_type": "code",
   "execution_count": 47,
   "metadata": {},
   "outputs": [
    {
     "data": {
      "text/html": [
       "<div>\n",
       "<style scoped>\n",
       "    .dataframe tbody tr th:only-of-type {\n",
       "        vertical-align: middle;\n",
       "    }\n",
       "\n",
       "    .dataframe tbody tr th {\n",
       "        vertical-align: top;\n",
       "    }\n",
       "\n",
       "    .dataframe thead th {\n",
       "        text-align: right;\n",
       "    }\n",
       "</style>\n",
       "<table border=\"1\" class=\"dataframe\">\n",
       "  <thead>\n",
       "    <tr style=\"text-align: right;\">\n",
       "      <th></th>\n",
       "      <th>node1</th>\n",
       "      <th>node2</th>\n",
       "      <th>resource_allocation_score</th>\n",
       "      <th>node1_status</th>\n",
       "      <th>node2_status</th>\n",
       "    </tr>\n",
       "  </thead>\n",
       "  <tbody>\n",
       "    <tr>\n",
       "      <th>0</th>\n",
       "      <td>p815</td>\n",
       "      <td>p336</td>\n",
       "      <td>0.708333</td>\n",
       "      <td>criminal</td>\n",
       "      <td>criminal</td>\n",
       "    </tr>\n",
       "    <tr>\n",
       "      <th>1</th>\n",
       "      <td>p301</td>\n",
       "      <td>p815</td>\n",
       "      <td>0.500000</td>\n",
       "      <td>innocent</td>\n",
       "      <td>criminal</td>\n",
       "    </tr>\n",
       "    <tr>\n",
       "      <th>2</th>\n",
       "      <td>p228</td>\n",
       "      <td>p514</td>\n",
       "      <td>0.500000</td>\n",
       "      <td>criminal</td>\n",
       "      <td>criminal</td>\n",
       "    </tr>\n",
       "    <tr>\n",
       "      <th>3</th>\n",
       "      <td>p797</td>\n",
       "      <td>p293</td>\n",
       "      <td>0.500000</td>\n",
       "      <td>criminal</td>\n",
       "      <td>innocent</td>\n",
       "    </tr>\n",
       "    <tr>\n",
       "      <th>4</th>\n",
       "      <td>p132</td>\n",
       "      <td>p690</td>\n",
       "      <td>0.500000</td>\n",
       "      <td>innocent</td>\n",
       "      <td>criminal</td>\n",
       "    </tr>\n",
       "    <tr>\n",
       "      <th>5</th>\n",
       "      <td>p215</td>\n",
       "      <td>p214</td>\n",
       "      <td>0.500000</td>\n",
       "      <td>criminal</td>\n",
       "      <td>criminal</td>\n",
       "    </tr>\n",
       "    <tr>\n",
       "      <th>6</th>\n",
       "      <td>p237</td>\n",
       "      <td>p74</td>\n",
       "      <td>0.500000</td>\n",
       "      <td>innocent</td>\n",
       "      <td>criminal</td>\n",
       "    </tr>\n",
       "    <tr>\n",
       "      <th>7</th>\n",
       "      <td>p269</td>\n",
       "      <td>p155</td>\n",
       "      <td>0.500000</td>\n",
       "      <td>criminal</td>\n",
       "      <td>innocent</td>\n",
       "    </tr>\n",
       "    <tr>\n",
       "      <th>8</th>\n",
       "      <td>p695</td>\n",
       "      <td>p691</td>\n",
       "      <td>0.500000</td>\n",
       "      <td>criminal</td>\n",
       "      <td>criminal</td>\n",
       "    </tr>\n",
       "  </tbody>\n",
       "</table>\n",
       "</div>"
      ],
      "text/plain": [
       "  node1 node2  resource_allocation_score node1_status node2_status\n",
       "0  p815  p336                   0.708333     criminal     criminal\n",
       "1  p301  p815                   0.500000     innocent     criminal\n",
       "2  p228  p514                   0.500000     criminal     criminal\n",
       "3  p797  p293                   0.500000     criminal     innocent\n",
       "4  p132  p690                   0.500000     innocent     criminal\n",
       "5  p215  p214                   0.500000     criminal     criminal\n",
       "6  p237   p74                   0.500000     innocent     criminal\n",
       "7  p269  p155                   0.500000     criminal     innocent\n",
       "8  p695  p691                   0.500000     criminal     criminal"
      ]
     },
     "execution_count": 47,
     "metadata": {},
     "output_type": "execute_result"
    }
   ],
   "source": [
    "df_linkpred[df_linkpred['resource_allocation_score'] >= .5]"
   ]
  },
  {
   "cell_type": "code",
   "execution_count": 48,
   "metadata": {},
   "outputs": [
    {
     "data": {
      "image/png": "[encoded data removed]",
      "text/plain": [
       "<Figure size 524.5x360 with 1 Axes>"
      ]
     },
     "metadata": {
      "needs_background": "light"
     },
     "output_type": "display_data"
    }
   ],
   "source": [
    "sns.displot(df_linkpred[df_linkpred['resource_allocation_score'] > 0]);"
   ]
  },
  {
   "cell_type": "code",
   "execution_count": 49,
   "metadata": {},
   "outputs": [
    {
     "data": {
      "text/plain": [
       "<seaborn.axisgrid.FacetGrid at 0x1bcb466f850>"
      ]
     },
     "execution_count": 49,
     "metadata": {},
     "output_type": "execute_result"
    },
    {
     "data": {
      "image/png": "[encoded data removed]",
      "text/plain": [
       "<Figure size 524.5x360 with 1 Axes>"
      ]
     },
     "metadata": {
      "needs_background": "light"
     },
     "output_type": "display_data"
    }
   ],
   "source": [
    "sns.displot(df_linkpred)"
   ]
  },
  {
   "cell_type": "code",
   "execution_count": 50,
   "metadata": {},
   "outputs": [
    {
     "data": {
      "text/plain": [
       "name               JohnsonDennis\n",
       "gender                       1.0\n",
       "bipartite                      0\n",
       "criminal_status         criminal\n",
       "node_degree                    3\n",
       "Name: p411, dtype: object"
      ]
     },
     "execution_count": 50,
     "metadata": {},
     "output_type": "execute_result"
    }
   ],
   "source": [
    "df_G.iloc[410,:]"
   ]
  },
  {
   "cell_type": "code",
   "execution_count": 51,
   "metadata": {},
   "outputs": [
    {
     "data": {
      "text/plain": [
       "name               GellarLindsay\n",
       "gender                       0.0\n",
       "bipartite                      0\n",
       "criminal_status         criminal\n",
       "node_degree                    2\n",
       "Name: p283, dtype: object"
      ]
     },
     "execution_count": 51,
     "metadata": {},
     "output_type": "execute_result"
    }
   ],
   "source": [
    "df_G.iloc[282,:]"
   ]
  },
  {
   "cell_type": "markdown",
   "metadata": {},
   "source": [
    "## Link prediction experiment\n",
    "from: https://www.networkatlas.eu/exercise.htm?c=22&e=1\n",
    "\n",
    "Divide this network into train and test sets using a ten-fold cross validation scheme. Draw its confusion matrix after applying a jaccard link prediction to it. Use 0.5 as you cutoff score: scores equal to or higher than 0.5 are predicted to be an edge, anything lower is predicted to be a non-edge."
   ]
  },
  {
   "cell_type": "code",
   "execution_count": 52,
   "metadata": {},
   "outputs": [],
   "source": [
    "import pandas as pd\n",
    "import networkx as nx\n",
    "from sklearn.model_selection import KFold\n",
    "from sklearn.metrics import confusion_matrix"
   ]
  },
  {
   "cell_type": "code",
   "execution_count": 53,
   "metadata": {},
   "outputs": [
    {
     "data": {
      "text/html": [
       "<div>\n",
       "<style scoped>\n",
       "    .dataframe tbody tr th:only-of-type {\n",
       "        vertical-align: middle;\n",
       "    }\n",
       "\n",
       "    .dataframe tbody tr th {\n",
       "        vertical-align: top;\n",
       "    }\n",
       "\n",
       "    .dataframe thead th {\n",
       "        text-align: right;\n",
       "    }\n",
       "</style>\n",
       "<table border=\"1\" class=\"dataframe\">\n",
       "  <thead>\n",
       "    <tr style=\"text-align: right;\">\n",
       "      <th></th>\n",
       "      <th>source</th>\n",
       "      <th>target</th>\n",
       "      <th>weight</th>\n",
       "      <th>target2</th>\n",
       "    </tr>\n",
       "  </thead>\n",
       "  <tbody>\n",
       "    <tr>\n",
       "      <th>0</th>\n",
       "      <td>p184</td>\n",
       "      <td>p88</td>\n",
       "      <td>1</td>\n",
       "      <td>1</td>\n",
       "    </tr>\n",
       "    <tr>\n",
       "      <th>1</th>\n",
       "      <td>p184</td>\n",
       "      <td>p797</td>\n",
       "      <td>1</td>\n",
       "      <td>1</td>\n",
       "    </tr>\n",
       "    <tr>\n",
       "      <th>2</th>\n",
       "      <td>p184</td>\n",
       "      <td>p399</td>\n",
       "      <td>1</td>\n",
       "      <td>1</td>\n",
       "    </tr>\n",
       "    <tr>\n",
       "      <th>3</th>\n",
       "      <td>p184</td>\n",
       "      <td>p164</td>\n",
       "      <td>1</td>\n",
       "      <td>1</td>\n",
       "    </tr>\n",
       "    <tr>\n",
       "      <th>4</th>\n",
       "      <td>p184</td>\n",
       "      <td>p200</td>\n",
       "      <td>1</td>\n",
       "      <td>1</td>\n",
       "    </tr>\n",
       "    <tr>\n",
       "      <th>...</th>\n",
       "      <td>...</td>\n",
       "      <td>...</td>\n",
       "      <td>...</td>\n",
       "      <td>...</td>\n",
       "    </tr>\n",
       "    <tr>\n",
       "      <th>2248</th>\n",
       "      <td>p12</td>\n",
       "      <td>p747</td>\n",
       "      <td>1</td>\n",
       "      <td>1</td>\n",
       "    </tr>\n",
       "    <tr>\n",
       "      <th>2249</th>\n",
       "      <td>p12</td>\n",
       "      <td>p336</td>\n",
       "      <td>1</td>\n",
       "      <td>1</td>\n",
       "    </tr>\n",
       "    <tr>\n",
       "      <th>2250</th>\n",
       "      <td>p336</td>\n",
       "      <td>p747</td>\n",
       "      <td>1</td>\n",
       "      <td>1</td>\n",
       "    </tr>\n",
       "    <tr>\n",
       "      <th>2251</th>\n",
       "      <td>p336</td>\n",
       "      <td>p91</td>\n",
       "      <td>1</td>\n",
       "      <td>1</td>\n",
       "    </tr>\n",
       "    <tr>\n",
       "      <th>2252</th>\n",
       "      <td>p683</td>\n",
       "      <td>p101</td>\n",
       "      <td>1</td>\n",
       "      <td>1</td>\n",
       "    </tr>\n",
       "  </tbody>\n",
       "</table>\n",
       "<p>2253 rows × 4 columns</p>\n",
       "</div>"
      ],
      "text/plain": [
       "     source target  weight  target2\n",
       "0      p184    p88       1        1\n",
       "1      p184   p797       1        1\n",
       "2      p184   p399       1        1\n",
       "3      p184   p164       1        1\n",
       "4      p184   p200       1        1\n",
       "...     ...    ...     ...      ...\n",
       "2248    p12   p747       1        1\n",
       "2249    p12   p336       1        1\n",
       "2250   p336   p747       1        1\n",
       "2251   p336    p91       1        1\n",
       "2252   p683   p101       1        1\n",
       "\n",
       "[2253 rows x 4 columns]"
      ]
     },
     "execution_count": 53,
     "metadata": {},
     "output_type": "execute_result"
    }
   ],
   "source": [
    "df = nx.to_pandas_edgelist(G_proj)\n",
    "df[\"target2\"] = 1\n",
    "df"
   ]
  },
  {
   "cell_type": "code",
   "execution_count": 110,
   "metadata": {},
   "outputs": [],
   "source": [
    "# Let's make a ten fold split\n",
    "kf = KFold(n_splits = 10, shuffle = True, random_state=1)"
   ]
  },
  {
   "cell_type": "code",
   "execution_count": 111,
   "metadata": {},
   "outputs": [],
   "source": [
    "# Each fold generates the graph we need for training link prediction and the dataframe\n",
    "# we use to test it.\n",
    "y_true = []\n",
    "y_pred = []\n",
    "for train_index, test_index in kf.split(df):\n",
    "   # Generate the train graph\n",
    "   G_train = nx.from_pandas_edgelist(df.loc[train_index], source = \"source\", target = \"target\")\n",
    "   # Make a dataframe with the results of the prediction\n",
    "   score = pd.DataFrame(list(nx.resource_allocation_index(G_train)), columns = (\"source\", \"target\", \"score\"))\n",
    "   # Merge with the test set\n",
    "   df_test = df.loc[test_index].merge(score, on = [\"source\", \"target\"], how = \"outer\").fillna(0)\n",
    "   # Threshold the results with the cutoff\n",
    "   df_test[\"prediction\"] = df_test[\"score\"] >= 0.6\n",
    "   y_true += list(df_test[\"target2\"])\n",
    "   y_pred += list(df_test[\"prediction\"])"
   ]
  },
  {
   "cell_type": "code",
   "execution_count": 112,
   "metadata": {},
   "outputs": [
    {
     "data": {
      "text/plain": [
       "array([[3217003,      10],\n",
       "       [   1186,    1067]], dtype=int64)"
      ]
     },
     "execution_count": 112,
     "metadata": {},
     "output_type": "execute_result"
    }
   ],
   "source": [
    "# Make the confusion matrix, which has this shape:\n",
    "# [[ TN, FP ],\n",
    "#  [ FN, TP ]]\n",
    "confusion_matrix(y_true, y_pred)"
   ]
  },
  {
   "cell_type": "markdown",
   "metadata": {},
   "source": [
    "### Compare the methods\n",
    "from: https://www.networkatlas.eu/exercise.htm?c=22&e=2"
   ]
  },
  {
   "cell_type": "code",
   "execution_count": 113,
   "metadata": {},
   "outputs": [],
   "source": [
    "import pandas as pd\n",
    "import networkx as nx\n",
    "import matplotlib.pyplot as plt\n",
    "from sklearn.model_selection import KFold\n",
    "from sklearn.metrics import roc_curve, auc\n",
    "from sklearn.metrics import accuracy_score"
   ]
  },
  {
   "cell_type": "code",
   "execution_count": 114,
   "metadata": {},
   "outputs": [],
   "source": [
    "df = nx.to_pandas_edgelist(G_proj)\n",
    "df[\"target2\"] = 1\n",
    "# df"
   ]
  },
  {
   "cell_type": "code",
   "execution_count": 115,
   "metadata": {},
   "outputs": [],
   "source": [
    "# Let's make a ten fold split\n",
    "kf = KFold(n_splits = 10, shuffle = True)"
   ]
  },
  {
   "cell_type": "code",
   "execution_count": 116,
   "metadata": {},
   "outputs": [],
   "source": [
    "pas = pd.DataFrame()\n",
    "jas = pd.DataFrame()\n",
    "aas = pd.DataFrame()\n",
    "ras = pd.DataFrame()\n",
    "\n",
    "for train_index, test_index in kf.split(df):\n",
    "    G2 = nx.from_pandas_edgelist(df.loc[train_index], source = \"source\", target = \"target\")\n",
    "    pa = pd.DataFrame(list(nx.preferential_attachment(G2)), columns = (\"source\", \"target\", \"score\"))\n",
    "    ja = pd.DataFrame(list(nx.jaccard_coefficient(G2)), columns = (\"source\", \"target\", \"score\"))\n",
    "    aa = pd.DataFrame(list(nx.adamic_adar_index(G2)), columns = (\"source\", \"target\", \"score\"))\n",
    "    ra = pd.DataFrame(list(nx.resource_allocation_index(G2)), columns = (\"source\", \"target\", \"score\"))\n",
    "    # Now we keep all scores, because we want to plot the full ROC curve rather than a simple confusion matrix\n",
    "    pas = pd.concat([pas, df.loc[test_index].merge(pa, on = [\"source\", \"target\"], how = \"outer\").fillna(0)])\n",
    "    jas = pd.concat([jas, df.loc[test_index].merge(ja, on = [\"source\", \"target\"], how = \"outer\").fillna(0)])\n",
    "    aas = pd.concat([aas, df.loc[test_index].merge(aa, on = [\"source\", \"target\"], how = \"outer\").fillna(0)])\n",
    "    ras = pd.concat([ras, df.loc[test_index].merge(ra, on = [\"source\", \"target\"], how = \"outer\").fillna(0)])"
   ]
  },
  {
   "cell_type": "code",
   "execution_count": 117,
   "metadata": {},
   "outputs": [],
   "source": [
    "# to look at specific people\n",
    "# ras[(ras['source'] == 'p425') & (ras['target'] == 'p695')]"
   ]
  },
  {
   "cell_type": "code",
   "execution_count": 118,
   "metadata": {},
   "outputs": [],
   "source": [
    "# And now we draw the ROCs\n",
    "fpr_pa, tpr_pa, thresholds_pa = roc_curve(pas[\"target2\"], pas[\"score\"])\n",
    "fpr_ja, tpr_ja, thresholds_ja = roc_curve(jas[\"target2\"], jas[\"score\"])\n",
    "fpr_aa, tpr_aa, thresholds_aa = roc_curve(aas[\"target2\"], aas[\"score\"])\n",
    "fpr_ra, tpr_ra, thresholds_ra = roc_curve(ras[\"target2\"], ras[\"score\"])"
   ]
  },
  {
   "cell_type": "code",
   "execution_count": 119,
   "metadata": {},
   "outputs": [],
   "source": [
    "ttt = pd.DataFrame()\n",
    "ttt['fpr_ra'] = fpr_ra\n",
    "ttt['tpr_ra'] = tpr_ra\n",
    "ttt['thresholds_ra'] = thresholds_ra\n",
    "# ttt.sort_values('tpr_ra')"
   ]
  },
  {
   "cell_type": "code",
   "execution_count": 120,
   "metadata": {},
   "outputs": [
    {
     "data": {
      "image/png": "[encoded data removed]",
      "text/plain": [
       "<Figure size 432x288 with 1 Axes>"
      ]
     },
     "metadata": {
      "needs_background": "light"
     },
     "output_type": "display_data"
    }
   ],
   "source": [
    "# First we plot the random classifier performance\n",
    "plt.plot([0, 1], [0, 1], color = 'gray', lw = 1)\n",
    "# Then the actual classifiers\n",
    "plt.plot(fpr_pa, tpr_pa, label = \"PA\", alpha=.5)\n",
    "plt.plot(fpr_ja, tpr_ja, label = \"JA\", alpha=.5)\n",
    "plt.plot(fpr_aa, tpr_aa, label = \"AA\", alpha=.5)\n",
    "plt.plot(fpr_ra, tpr_ra, label = \"RA\", alpha=.5)\n",
    "plt.legend(loc = \"lower right\")\n",
    "\n",
    "plt.ylabel(r'true positive rate')\n",
    "plt.xlabel(r'false positive rate')\n",
    "# ax.set_ylabel(r'$\\Delta_{i+1}$', fontsize=15)\n",
    "# ax.set_title('Volume and percent change')\n",
    "\n",
    "plt.show()"
   ]
  },
  {
   "cell_type": "code",
   "execution_count": 121,
   "metadata": {},
   "outputs": [
    {
     "name": "stdout",
     "output_type": "stream",
     "text": [
      "PA's AUC: 0.6781\n",
      "JA's AUC: 0.9459\n",
      "AA's AUC: 0.9477\n",
      "RA's AUC: 0.9477\n"
     ]
    }
   ],
   "source": [
    "# Let's print the AUCs\n",
    "print(\"PA's AUC: %1.4f\" % auc(fpr_pa, tpr_pa))\n",
    "print(\"JA's AUC: %1.4f\" % auc(fpr_ja, tpr_ja))\n",
    "print(\"AA's AUC: %1.4f\" % auc(fpr_aa, tpr_aa))\n",
    "print(\"RA's AUC: %1.4f\" % auc(fpr_ra, tpr_ra))\n",
    "\n",
    "# Resource allocation works best!"
   ]
  },
  {
   "cell_type": "markdown",
   "metadata": {},
   "source": [
    "### Calculate precision, recall, and F1-score for the four link predictors\n",
    "from: https://www.networkatlas.eu/exercise.htm?c=22&e=3"
   ]
  },
  {
   "cell_type": "code",
   "execution_count": 122,
   "metadata": {},
   "outputs": [],
   "source": [
    "from sklearn.metrics import precision_recall_fscore_support"
   ]
  },
  {
   "cell_type": "code",
   "execution_count": 166,
   "metadata": {},
   "outputs": [],
   "source": [
    "th = .9995\n",
    "# Get only top 10% of scores as actual predictions\n",
    "pas[\"prediction\"] = pas[\"score\"].rank(pct = True) >= th\n",
    "jas[\"prediction\"] = jas[\"score\"].rank(pct = True) >= th\n",
    "aas[\"prediction\"] = aas[\"score\"].rank(pct = True) >= th\n",
    "ras[\"prediction\"] = ras[\"score\"].rank(pct = True) >= th\n",
    "\n",
    "# pas[\"prediction\"] = pas[\"score\"] >= 0.4\n",
    "# jas[\"prediction\"] = jas[\"score\"] >= 0.4\n",
    "# aas[\"prediction\"] = aas[\"score\"] >= 0.4\n",
    "# ras[\"prediction\"] = ras[\"score\"] >= 0.4"
   ]
  },
  {
   "cell_type": "code",
   "execution_count": 167,
   "metadata": {},
   "outputs": [],
   "source": [
    "# ras[(ras[\"target2\"] == 0) & (ras[\"prediction\"] == True)]"
   ]
  },
  {
   "cell_type": "code",
   "execution_count": 168,
   "metadata": {},
   "outputs": [
    {
     "data": {
      "text/plain": [
       "array([[3215248,     112],\n",
       "       [    755,    1498]], dtype=int64)"
      ]
     },
     "execution_count": 168,
     "metadata": {},
     "output_type": "execute_result"
    }
   ],
   "source": [
    "# Make the confusion matrix, which has this shape:\n",
    "# [[ TN, FP ],\n",
    "#  [ FN, TP ]]\n",
    "confusion_matrix(ras[\"target2\"], ras[\"prediction\"])"
   ]
  },
  {
   "cell_type": "code",
   "execution_count": 169,
   "metadata": {},
   "outputs": [],
   "source": [
    "# And now we calculate our quality measures\n",
    "prec_pa, recall_pa, f1_pa, _ = precision_recall_fscore_support(pas[\"target2\"], pas[\"prediction\"], average = \"binary\")\n",
    "prec_ja, recall_ja, f1_ja, _ = precision_recall_fscore_support(jas[\"target2\"], jas[\"prediction\"], average = \"binary\")\n",
    "prec_aa, recall_aa, f1_aa, _ = precision_recall_fscore_support(aas[\"target2\"], aas[\"prediction\"], average = \"binary\")\n",
    "prec_ra, recall_ra, f1_ra, t = precision_recall_fscore_support(ras[\"target2\"], ras[\"prediction\"], average = \"binary\")"
   ]
  },
  {
   "cell_type": "code",
   "execution_count": 170,
   "metadata": {},
   "outputs": [
    {
     "name": "stdout",
     "output_type": "stream",
     "text": [
      "PA's precision = 0.0252, recall = 0.0178, F1 = 0.0208\n",
      "JA's precision = 0.6247, recall = 0.4381, F1 = 0.5150\n",
      "AA's precision = 0.9766, recall = 0.6489, F1 = 0.7797\n",
      "RA's precision = 0.9304, recall = 0.6649, F1 = 0.7756\n"
     ]
    }
   ],
   "source": [
    "\n",
    "# Let's figure out who performs best:\n",
    "print(\"PA's precision = %1.4f, recall = %1.4f, F1 = %1.4f\" % (prec_pa, recall_pa, f1_pa))\n",
    "print(\"JA's precision = %1.4f, recall = %1.4f, F1 = %1.4f\" % (prec_ja, recall_ja, f1_ja))\n",
    "print(\"AA's precision = %1.4f, recall = %1.4f, F1 = %1.4f\" % (prec_aa, recall_aa, f1_aa))\n",
    "print(\"RA's precision = %1.4f, recall = %1.4f, F1 = %1.4f\" % (prec_ra, recall_ra, f1_ra))\n",
    "\n",
    "# Resource allocation is both the most precise and complete, and thus has also the highest F1 score"
   ]
  },
  {
   "cell_type": "markdown",
   "metadata": {},
   "source": [
    "### Draw the precision-recall curves of the four link predictors\n",
    "from: https://www.networkatlas.eu/exercise.htm?c=22&e=4"
   ]
  },
  {
   "cell_type": "code",
   "execution_count": 171,
   "metadata": {},
   "outputs": [],
   "source": [
    "from sklearn.metrics import precision_recall_curve, auc"
   ]
  },
  {
   "cell_type": "code",
   "execution_count": 172,
   "metadata": {},
   "outputs": [],
   "source": [
    "# Let's draw the precision-recall curve! Not much different from ROC\n",
    "pr_pa, rec_pa, thresholds = precision_recall_curve(pas[\"target2\"], pas[\"score\"])\n",
    "pr_ja, rec_ja, thresholds = precision_recall_curve(jas[\"target2\"], jas[\"score\"])\n",
    "pr_aa, rec_aa, thresholds = precision_recall_curve(aas[\"target2\"], aas[\"score\"])\n",
    "pr_ra, rec_ra, thresholds_ra = precision_recall_curve(ras[\"target2\"], ras[\"score\"])"
   ]
  },
  {
   "cell_type": "code",
   "execution_count": 174,
   "metadata": {},
   "outputs": [
    {
     "data": {
      "text/html": [
       "<div>\n",
       "<style scoped>\n",
       "    .dataframe tbody tr th:only-of-type {\n",
       "        vertical-align: middle;\n",
       "    }\n",
       "\n",
       "    .dataframe tbody tr th {\n",
       "        vertical-align: top;\n",
       "    }\n",
       "\n",
       "    .dataframe thead th {\n",
       "        text-align: right;\n",
       "    }\n",
       "</style>\n",
       "<table border=\"1\" class=\"dataframe\">\n",
       "  <thead>\n",
       "    <tr style=\"text-align: right;\">\n",
       "      <th></th>\n",
       "      <th>pr_ra</th>\n",
       "      <th>rec_ra</th>\n",
       "      <th>thresholds_ra</th>\n",
       "    </tr>\n",
       "  </thead>\n",
       "  <tbody>\n",
       "    <tr>\n",
       "      <th>488</th>\n",
       "      <td>0.909726</td>\n",
       "      <td>0.751443</td>\n",
       "      <td>0.339242</td>\n",
       "    </tr>\n",
       "    <tr>\n",
       "      <th>489</th>\n",
       "      <td>0.909677</td>\n",
       "      <td>0.750999</td>\n",
       "      <td>0.340909</td>\n",
       "    </tr>\n",
       "    <tr>\n",
       "      <th>490</th>\n",
       "      <td>0.909532</td>\n",
       "      <td>0.749667</td>\n",
       "      <td>0.342857</td>\n",
       "    </tr>\n",
       "    <tr>\n",
       "      <th>491</th>\n",
       "      <td>0.913373</td>\n",
       "      <td>0.748779</td>\n",
       "      <td>0.343168</td>\n",
       "    </tr>\n",
       "    <tr>\n",
       "      <th>492</th>\n",
       "      <td>0.913326</td>\n",
       "      <td>0.748336</td>\n",
       "      <td>0.345238</td>\n",
       "    </tr>\n",
       "    <tr>\n",
       "      <th>...</th>\n",
       "      <td>...</td>\n",
       "      <td>...</td>\n",
       "      <td>...</td>\n",
       "    </tr>\n",
       "    <tr>\n",
       "      <th>554</th>\n",
       "      <td>0.925364</td>\n",
       "      <td>0.704394</td>\n",
       "      <td>0.419173</td>\n",
       "    </tr>\n",
       "    <tr>\n",
       "      <th>555</th>\n",
       "      <td>0.925321</td>\n",
       "      <td>0.703950</td>\n",
       "      <td>0.420635</td>\n",
       "    </tr>\n",
       "    <tr>\n",
       "      <th>556</th>\n",
       "      <td>0.926402</td>\n",
       "      <td>0.703950</td>\n",
       "      <td>0.424242</td>\n",
       "    </tr>\n",
       "    <tr>\n",
       "      <th>557</th>\n",
       "      <td>0.927187</td>\n",
       "      <td>0.700843</td>\n",
       "      <td>0.425455</td>\n",
       "    </tr>\n",
       "    <tr>\n",
       "      <th>558</th>\n",
       "      <td>0.927145</td>\n",
       "      <td>0.700399</td>\n",
       "      <td>0.425631</td>\n",
       "    </tr>\n",
       "  </tbody>\n",
       "</table>\n",
       "<p>71 rows × 3 columns</p>\n",
       "</div>"
      ],
      "text/plain": [
       "        pr_ra    rec_ra  thresholds_ra\n",
       "488  0.909726  0.751443       0.339242\n",
       "489  0.909677  0.750999       0.340909\n",
       "490  0.909532  0.749667       0.342857\n",
       "491  0.913373  0.748779       0.343168\n",
       "492  0.913326  0.748336       0.345238\n",
       "..        ...       ...            ...\n",
       "554  0.925364  0.704394       0.419173\n",
       "555  0.925321  0.703950       0.420635\n",
       "556  0.926402  0.703950       0.424242\n",
       "557  0.927187  0.700843       0.425455\n",
       "558  0.927145  0.700399       0.425631\n",
       "\n",
       "[71 rows x 3 columns]"
      ]
     },
     "execution_count": 174,
     "metadata": {},
     "output_type": "execute_result"
    }
   ],
   "source": [
    "# just looking at what threshhold the precision and recall are best \n",
    "ttt2 = pd.DataFrame()\n",
    "ttt2['pr_ra'] = pr_ra[1:-1]\n",
    "ttt2['rec_ra'] = rec_ra[1:-1]\n",
    "ttt2['thresholds_ra'] = thresholds_ra[1:]\n",
    "ttt2[(ttt2['pr_ra']>.9) & (ttt2['rec_ra']>.7)]"
   ]
  },
  {
   "cell_type": "code",
   "execution_count": 175,
   "metadata": {},
   "outputs": [
    {
     "data": {
      "image/png": "[encoded data removed]",
      "text/plain": [
       "<Figure size 432x288 with 1 Axes>"
      ]
     },
     "metadata": {
      "needs_background": "light"
     },
     "output_type": "display_data"
    }
   ],
   "source": [
    "# Remember that here the random classifier is not the 45 degree line, so let's just plot the curves\n",
    "# I use a logarithmic x axis for convenience.\n",
    "plt.plot(rec_pa, pr_pa, label = \"PA\")\n",
    "plt.plot(rec_ja, pr_ja, label = \"JA\")\n",
    "plt.plot(rec_aa, pr_aa, label = \"AA\")\n",
    "plt.plot(rec_ra, pr_ra, label = \"RA\")\n",
    "plt.plot(loc = \"upper right\")\n",
    "\n",
    "plt.xlabel(r'recall')\n",
    "plt.ylabel(r'precision')\n",
    "plt.show()"
   ]
  },
  {
   "cell_type": "markdown",
   "metadata": {},
   "source": [
    "- What proportion of positive identifications was actually correct? Precision = 0.03\n",
    "    - A model that produces no false positives has a precision of 1.0\n",
    "- What proportion of actual positives was identified correctly? Recall = 0.90\n",
    "    - A model that produces no false negatives has a recall of 1.0\n",
    "\n",
    "True Positives (TP): you predict a link that really appeared  \n",
    "False Positives (FP): you predict a link that didn’t appear  \n",
    "True Negatives (TN): you correctly didn’t predict a link that, in fact, didn’t appear  \n",
    "False Negatives (FN): you didn’t predict a link that appeared."
   ]
  },
  {
   "cell_type": "code",
   "execution_count": 176,
   "metadata": {},
   "outputs": [
    {
     "name": "stdout",
     "output_type": "stream",
     "text": [
      "PA's AUC: 0.0046\n",
      "JA's AUC: 0.3433\n",
      "AA's AUC: 0.8019\n",
      "RA's AUC: 0.8079\n"
     ]
    }
   ],
   "source": [
    "# Let's print the AUCs\n",
    "print(\"PA's AUC: %1.4f\" % auc(rec_pa, pr_pa))\n",
    "print(\"JA's AUC: %1.4f\" % auc(rec_ja, pr_ja))\n",
    "print(\"AA's AUC: %1.4f\" % auc(rec_aa, pr_aa))\n",
    "print(\"RA's AUC: %1.4f\" % auc(rec_ra, pr_ra))\n",
    "\n",
    "# We already knew that resource allocation works best."
   ]
  },
  {
   "cell_type": "markdown",
   "metadata": {},
   "source": [
    "# Final preds"
   ]
  },
  {
   "cell_type": "code",
   "execution_count": 177,
   "metadata": {},
   "outputs": [],
   "source": [
    "# df = nx.to_pandas_edgelist(G_proj)\n",
    "# df[\"target2\"] = 1\n",
    "\n",
    "ras3 = pd.DataFrame()\n",
    "\n",
    "# G3 = nx.from_pandas_edgelist(df, source = \"source\", target = \"target\")\n",
    "ra3 = pd.DataFrame(list(nx.resource_allocation_index(G_proj)), columns = (\"source\", \"target\", \"score\"))\n",
    "ras3 = pd.concat([ras3, df.merge(ra3, on = [\"source\", \"target\"], how = \"outer\").fillna(0)])"
   ]
  },
  {
   "cell_type": "code",
   "execution_count": 178,
   "metadata": {},
   "outputs": [],
   "source": [
    "# Get only top 10% of scores as actual predictions\n",
    "ras3[\"prediction\"] = ras3[\"score\"].rank(pct = True) >= th"
   ]
  },
  {
   "cell_type": "code",
   "execution_count": 179,
   "metadata": {},
   "outputs": [
    {
     "data": {
      "text/html": [
       "<div>\n",
       "<style scoped>\n",
       "    .dataframe tbody tr th:only-of-type {\n",
       "        vertical-align: middle;\n",
       "    }\n",
       "\n",
       "    .dataframe tbody tr th {\n",
       "        vertical-align: top;\n",
       "    }\n",
       "\n",
       "    .dataframe thead th {\n",
       "        text-align: right;\n",
       "    }\n",
       "</style>\n",
       "<table border=\"1\" class=\"dataframe\">\n",
       "  <thead>\n",
       "    <tr style=\"text-align: right;\">\n",
       "      <th></th>\n",
       "      <th>source</th>\n",
       "      <th>target</th>\n",
       "      <th>weight</th>\n",
       "      <th>target2</th>\n",
       "      <th>score</th>\n",
       "      <th>prediction</th>\n",
       "    </tr>\n",
       "  </thead>\n",
       "  <tbody>\n",
       "    <tr>\n",
       "      <th>338360</th>\n",
       "      <td>p815</td>\n",
       "      <td>p336</td>\n",
       "      <td>0.0</td>\n",
       "      <td>0.0</td>\n",
       "      <td>0.708333</td>\n",
       "      <td>True</td>\n",
       "    </tr>\n",
       "    <tr>\n",
       "      <th>67305</th>\n",
       "      <td>p797</td>\n",
       "      <td>p293</td>\n",
       "      <td>0.0</td>\n",
       "      <td>0.0</td>\n",
       "      <td>0.500000</td>\n",
       "      <td>True</td>\n",
       "    </tr>\n",
       "    <tr>\n",
       "      <th>326285</th>\n",
       "      <td>p695</td>\n",
       "      <td>p691</td>\n",
       "      <td>0.0</td>\n",
       "      <td>0.0</td>\n",
       "      <td>0.500000</td>\n",
       "      <td>True</td>\n",
       "    </tr>\n",
       "    <tr>\n",
       "      <th>16815</th>\n",
       "      <td>p301</td>\n",
       "      <td>p815</td>\n",
       "      <td>0.0</td>\n",
       "      <td>0.0</td>\n",
       "      <td>0.500000</td>\n",
       "      <td>True</td>\n",
       "    </tr>\n",
       "    <tr>\n",
       "      <th>302615</th>\n",
       "      <td>p269</td>\n",
       "      <td>p155</td>\n",
       "      <td>0.0</td>\n",
       "      <td>0.0</td>\n",
       "      <td>0.500000</td>\n",
       "      <td>True</td>\n",
       "    </tr>\n",
       "    <tr>\n",
       "      <th>...</th>\n",
       "      <td>...</td>\n",
       "      <td>...</td>\n",
       "      <td>...</td>\n",
       "      <td>...</td>\n",
       "      <td>...</td>\n",
       "      <td>...</td>\n",
       "    </tr>\n",
       "    <tr>\n",
       "      <th>185931</th>\n",
       "      <td>p812</td>\n",
       "      <td>p815</td>\n",
       "      <td>0.0</td>\n",
       "      <td>0.0</td>\n",
       "      <td>0.208333</td>\n",
       "      <td>True</td>\n",
       "    </tr>\n",
       "    <tr>\n",
       "      <th>203586</th>\n",
       "      <td>p6</td>\n",
       "      <td>p425</td>\n",
       "      <td>0.0</td>\n",
       "      <td>0.0</td>\n",
       "      <td>0.206536</td>\n",
       "      <td>True</td>\n",
       "    </tr>\n",
       "    <tr>\n",
       "      <th>65329</th>\n",
       "      <td>p803</td>\n",
       "      <td>p425</td>\n",
       "      <td>0.0</td>\n",
       "      <td>0.0</td>\n",
       "      <td>0.206536</td>\n",
       "      <td>True</td>\n",
       "    </tr>\n",
       "    <tr>\n",
       "      <th>282621</th>\n",
       "      <td>p425</td>\n",
       "      <td>p647</td>\n",
       "      <td>0.0</td>\n",
       "      <td>0.0</td>\n",
       "      <td>0.206536</td>\n",
       "      <td>True</td>\n",
       "    </tr>\n",
       "    <tr>\n",
       "      <th>52547</th>\n",
       "      <td>p595</td>\n",
       "      <td>p425</td>\n",
       "      <td>0.0</td>\n",
       "      <td>0.0</td>\n",
       "      <td>0.206536</td>\n",
       "      <td>True</td>\n",
       "    </tr>\n",
       "  </tbody>\n",
       "</table>\n",
       "<p>159 rows × 6 columns</p>\n",
       "</div>"
      ],
      "text/plain": [
       "       source target  weight  target2     score  prediction\n",
       "338360   p815   p336     0.0      0.0  0.708333        True\n",
       "67305    p797   p293     0.0      0.0  0.500000        True\n",
       "326285   p695   p691     0.0      0.0  0.500000        True\n",
       "16815    p301   p815     0.0      0.0  0.500000        True\n",
       "302615   p269   p155     0.0      0.0  0.500000        True\n",
       "...       ...    ...     ...      ...       ...         ...\n",
       "185931   p812   p815     0.0      0.0  0.208333        True\n",
       "203586     p6   p425     0.0      0.0  0.206536        True\n",
       "65329    p803   p425     0.0      0.0  0.206536        True\n",
       "282621   p425   p647     0.0      0.0  0.206536        True\n",
       "52547    p595   p425     0.0      0.0  0.206536        True\n",
       "\n",
       "[159 rows x 6 columns]"
      ]
     },
     "execution_count": 179,
     "metadata": {},
     "output_type": "execute_result"
    }
   ],
   "source": [
    "ras3[ras3[\"prediction\"] == True].sort_values(['score'], ascending=False)"
   ]
  }
 ],
 "metadata": {
  "interpreter": {
   "hash": "82a91a22060084f3e8dbe72ba49a002eddd687e7ed0e7d249946fe1b995c1ddc"
  },
  "kernelspec": {
   "display_name": "Python 3",
   "language": "python",
   "name": "python3"
  },
  "language_info": {
   "codemirror_mode": {
    "name": "ipython",
    "version": 3
   },
   "file_extension": ".py",
   "mimetype": "text/x-python",
   "name": "python",
   "nbconvert_exporter": "python",
   "pygments_lexer": "ipython3",
   "version": "3.8.12"
  }
 },
 "nbformat": 4,
 "nbformat_minor": 2
}
