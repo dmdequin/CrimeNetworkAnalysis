{
 "cells": [
  {
   "cell_type": "markdown",
   "metadata": {},
   "source": [
    "# Goal\n",
    "- Find false innocents, could be through:\n",
    "    - connections with many criminal nodes?\n",
    "    - connection to a big criminal hub?\n",
    "\n",
    "# Assumptions\n",
    "- People connected to a crime as suspect or suspect/victim will be considered as being guilty of the crime they are connected to\n",
    "- \n",
    "\n",
    "## Node categorisation\n",
    "- criminal nodes: nodes that have been a suspect in a acrime at least once\n",
    "- innocent nodes: nodes that have been only victims and/or witness\n",
    "\n",
    "## Suspect role\n"
   ]
  },
  {
   "cell_type": "markdown",
   "metadata": {},
   "source": [
    "# Work plan\n",
    "Research question: is it possible to detect criminals that were not previously caught? - \"criminal\" disguised as \"innocent\"\n",
    "\n",
    "- Does a strong link prediction between a criminal and an innocent suggests that the innocent might be a criminal in disguise?\n",
    "- Compare the results from link prediction and community detection\n",
    "- If they are in the same community? Is that an even stronger indication of a possible criminal?"
   ]
  },
  {
   "cell_type": "markdown",
   "metadata": {},
   "source": [
    "# Imports"
   ]
  },
  {
   "cell_type": "code",
   "execution_count": 1,
   "metadata": {},
   "outputs": [],
   "source": [
    "import pandas as pd\n",
    "import statistics as stats\n",
    "import numpy as np\n",
    "\n",
    "import networkx as nx\n",
    "from networkx.algorithms import bipartite\n",
    "\n",
    "%matplotlib inline\n",
    "import matplotlib.pyplot as plt\n",
    "import seaborn as sns"
   ]
  },
  {
   "cell_type": "code",
   "execution_count": 2,
   "metadata": {},
   "outputs": [
    {
     "name": "stdout",
     "output_type": "stream",
     "text": [
      "seaborn version 0.11.2\n",
      "pandas version 1.3.4\n"
     ]
    }
   ],
   "source": [
    "print('seaborn version', sns.__version__)\n",
    "print('pandas version', pd.__version__)"
   ]
  },
  {
   "cell_type": "markdown",
   "metadata": {},
   "source": [
    "# Read data"
   ]
  },
  {
   "cell_type": "code",
   "execution_count": 3,
   "metadata": {},
   "outputs": [],
   "source": [
    "al = '..//Data//out.moreno_crime_crime'\n",
    "gender = '..//Data//ent.moreno_crime_crime.person.sex'\n",
    "name = '..//Data//ent.moreno_crime_crime.person.name'\n",
    "role = '..//Data//rel.moreno_crime_crime.person.role'"
   ]
  },
  {
   "cell_type": "markdown",
   "metadata": {},
   "source": [
    "## Adjancency list as DataFrame"
   ]
  },
  {
   "cell_type": "code",
   "execution_count": 4,
   "metadata": {},
   "outputs": [
    {
     "data": {
      "text/plain": [
       "(1476, 2)"
      ]
     },
     "execution_count": 4,
     "metadata": {},
     "output_type": "execute_result"
    }
   ],
   "source": [
    "df_al = pd.read_csv(al, sep=\" \", names=['person', 'crime'], index_col=False)\n",
    "df_al['person'] = 'p' + df_al['person'].astype(str)\n",
    "df_al['crime'] = 'c' + df_al['crime'].astype(str)\n",
    "df_al.head(3)\n",
    "df_al.shape"
   ]
  },
  {
   "cell_type": "markdown",
   "metadata": {},
   "source": [
    "## Gender Dataframe"
   ]
  },
  {
   "cell_type": "code",
   "execution_count": 5,
   "metadata": {},
   "outputs": [
    {
     "data": {
      "text/html": [
       "<div>\n",
       "<style scoped>\n",
       "    .dataframe tbody tr th:only-of-type {\n",
       "        vertical-align: middle;\n",
       "    }\n",
       "\n",
       "    .dataframe tbody tr th {\n",
       "        vertical-align: top;\n",
       "    }\n",
       "\n",
       "    .dataframe thead th {\n",
       "        text-align: right;\n",
       "    }\n",
       "</style>\n",
       "<table border=\"1\" class=\"dataframe\">\n",
       "  <thead>\n",
       "    <tr style=\"text-align: right;\">\n",
       "      <th></th>\n",
       "      <th>gender</th>\n",
       "      <th>person</th>\n",
       "    </tr>\n",
       "  </thead>\n",
       "  <tbody>\n",
       "    <tr>\n",
       "      <th>0</th>\n",
       "      <td>1</td>\n",
       "      <td>p0</td>\n",
       "    </tr>\n",
       "    <tr>\n",
       "      <th>1</th>\n",
       "      <td>1</td>\n",
       "      <td>p1</td>\n",
       "    </tr>\n",
       "    <tr>\n",
       "      <th>2</th>\n",
       "      <td>1</td>\n",
       "      <td>p2</td>\n",
       "    </tr>\n",
       "  </tbody>\n",
       "</table>\n",
       "</div>"
      ],
      "text/plain": [
       "   gender person\n",
       "0       1     p0\n",
       "1       1     p1\n",
       "2       1     p2"
      ]
     },
     "execution_count": 5,
     "metadata": {},
     "output_type": "execute_result"
    }
   ],
   "source": [
    "df_gender = pd.read_csv(gender, sep=\" \", header=None, names=['gender'])\n",
    "df_gender['person'] = 'p' + df_gender.index.astype(str)\n",
    "df_gender.head(3)"
   ]
  },
  {
   "cell_type": "markdown",
   "metadata": {},
   "source": [
    "## Name DataFrame"
   ]
  },
  {
   "cell_type": "code",
   "execution_count": 6,
   "metadata": {},
   "outputs": [
    {
     "data": {
      "text/html": [
       "<div>\n",
       "<style scoped>\n",
       "    .dataframe tbody tr th:only-of-type {\n",
       "        vertical-align: middle;\n",
       "    }\n",
       "\n",
       "    .dataframe tbody tr th {\n",
       "        vertical-align: top;\n",
       "    }\n",
       "\n",
       "    .dataframe thead th {\n",
       "        text-align: right;\n",
       "    }\n",
       "</style>\n",
       "<table border=\"1\" class=\"dataframe\">\n",
       "  <thead>\n",
       "    <tr style=\"text-align: right;\">\n",
       "      <th></th>\n",
       "      <th>name</th>\n",
       "      <th>person</th>\n",
       "    </tr>\n",
       "  </thead>\n",
       "  <tbody>\n",
       "    <tr>\n",
       "      <th>0</th>\n",
       "      <td>AbelDennis</td>\n",
       "      <td>p0</td>\n",
       "    </tr>\n",
       "    <tr>\n",
       "      <th>1</th>\n",
       "      <td>AbramsChad</td>\n",
       "      <td>p1</td>\n",
       "    </tr>\n",
       "    <tr>\n",
       "      <th>2</th>\n",
       "      <td>AbramsDavid</td>\n",
       "      <td>p2</td>\n",
       "    </tr>\n",
       "  </tbody>\n",
       "</table>\n",
       "</div>"
      ],
      "text/plain": [
       "          name person\n",
       "0   AbelDennis     p0\n",
       "1   AbramsChad     p1\n",
       "2  AbramsDavid     p2"
      ]
     },
     "execution_count": 6,
     "metadata": {},
     "output_type": "execute_result"
    }
   ],
   "source": [
    "df_name = pd.read_csv(name, sep=\" \", header=None, names=['name'])\n",
    "df_name['person'] = 'p' + df_name.index.astype(str)\n",
    "df_name.head(3)"
   ]
  },
  {
   "cell_type": "markdown",
   "metadata": {},
   "source": [
    "## Role Dataframe"
   ]
  },
  {
   "cell_type": "code",
   "execution_count": 7,
   "metadata": {},
   "outputs": [
    {
     "data": {
      "text/html": [
       "<div>\n",
       "<style scoped>\n",
       "    .dataframe tbody tr th:only-of-type {\n",
       "        vertical-align: middle;\n",
       "    }\n",
       "\n",
       "    .dataframe tbody tr th {\n",
       "        vertical-align: top;\n",
       "    }\n",
       "\n",
       "    .dataframe thead th {\n",
       "        text-align: right;\n",
       "    }\n",
       "</style>\n",
       "<table border=\"1\" class=\"dataframe\">\n",
       "  <thead>\n",
       "    <tr style=\"text-align: right;\">\n",
       "      <th></th>\n",
       "      <th>role</th>\n",
       "    </tr>\n",
       "  </thead>\n",
       "  <tbody>\n",
       "    <tr>\n",
       "      <th>0</th>\n",
       "      <td>Suspect</td>\n",
       "    </tr>\n",
       "    <tr>\n",
       "      <th>1</th>\n",
       "      <td>Victim</td>\n",
       "    </tr>\n",
       "    <tr>\n",
       "      <th>2</th>\n",
       "      <td>Victim</td>\n",
       "    </tr>\n",
       "  </tbody>\n",
       "</table>\n",
       "</div>"
      ],
      "text/plain": [
       "      role\n",
       "0  Suspect\n",
       "1   Victim\n",
       "2   Victim"
      ]
     },
     "execution_count": 7,
     "metadata": {},
     "output_type": "execute_result"
    }
   ],
   "source": [
    "df_role = pd.read_csv(role, sep=\",\", header=None, names=['role'])\n",
    "df_role.head(3)\n",
    "# df_role.shape"
   ]
  },
  {
   "cell_type": "markdown",
   "metadata": {},
   "source": [
    "## Join adjancency list with role"
   ]
  },
  {
   "cell_type": "code",
   "execution_count": 8,
   "metadata": {},
   "outputs": [
    {
     "data": {
      "text/html": [
       "<div>\n",
       "<style scoped>\n",
       "    .dataframe tbody tr th:only-of-type {\n",
       "        vertical-align: middle;\n",
       "    }\n",
       "\n",
       "    .dataframe tbody tr th {\n",
       "        vertical-align: top;\n",
       "    }\n",
       "\n",
       "    .dataframe thead th {\n",
       "        text-align: right;\n",
       "    }\n",
       "</style>\n",
       "<table border=\"1\" class=\"dataframe\">\n",
       "  <thead>\n",
       "    <tr style=\"text-align: right;\">\n",
       "      <th></th>\n",
       "      <th>person</th>\n",
       "      <th>crime</th>\n",
       "      <th>role</th>\n",
       "    </tr>\n",
       "  </thead>\n",
       "  <tbody>\n",
       "    <tr>\n",
       "      <th>0</th>\n",
       "      <td>p1</td>\n",
       "      <td>c1</td>\n",
       "      <td>Suspect</td>\n",
       "    </tr>\n",
       "    <tr>\n",
       "      <th>1</th>\n",
       "      <td>p1</td>\n",
       "      <td>c2</td>\n",
       "      <td>Victim</td>\n",
       "    </tr>\n",
       "    <tr>\n",
       "      <th>2</th>\n",
       "      <td>p1</td>\n",
       "      <td>c3</td>\n",
       "      <td>Victim</td>\n",
       "    </tr>\n",
       "  </tbody>\n",
       "</table>\n",
       "</div>"
      ],
      "text/plain": [
       "  person crime     role\n",
       "0     p1    c1  Suspect\n",
       "1     p1    c2   Victim\n",
       "2     p1    c3   Victim"
      ]
     },
     "execution_count": 8,
     "metadata": {},
     "output_type": "execute_result"
    }
   ],
   "source": [
    "df_al_roles = df_al.join(df_role)\n",
    "df_al_roles.head(3)"
   ]
  },
  {
   "cell_type": "code",
   "execution_count": 9,
   "metadata": {},
   "outputs": [
    {
     "data": {
      "text/html": [
       "<div>\n",
       "<style scoped>\n",
       "    .dataframe tbody tr th:only-of-type {\n",
       "        vertical-align: middle;\n",
       "    }\n",
       "\n",
       "    .dataframe tbody tr th {\n",
       "        vertical-align: top;\n",
       "    }\n",
       "\n",
       "    .dataframe thead th {\n",
       "        text-align: right;\n",
       "    }\n",
       "</style>\n",
       "<table border=\"1\" class=\"dataframe\">\n",
       "  <thead>\n",
       "    <tr style=\"text-align: right;\">\n",
       "      <th></th>\n",
       "      <th>person</th>\n",
       "      <th>crime</th>\n",
       "      <th>role</th>\n",
       "    </tr>\n",
       "  </thead>\n",
       "  <tbody>\n",
       "    <tr>\n",
       "      <th>594</th>\n",
       "      <td>p336</td>\n",
       "      <td>c40</td>\n",
       "      <td>Victim</td>\n",
       "    </tr>\n",
       "    <tr>\n",
       "      <th>595</th>\n",
       "      <td>p336</td>\n",
       "      <td>c354</td>\n",
       "      <td>Victim</td>\n",
       "    </tr>\n",
       "    <tr>\n",
       "      <th>596</th>\n",
       "      <td>p336</td>\n",
       "      <td>c322</td>\n",
       "      <td>Victim</td>\n",
       "    </tr>\n",
       "    <tr>\n",
       "      <th>597</th>\n",
       "      <td>p336</td>\n",
       "      <td>c355</td>\n",
       "      <td>Victim</td>\n",
       "    </tr>\n",
       "    <tr>\n",
       "      <th>598</th>\n",
       "      <td>p336</td>\n",
       "      <td>c356</td>\n",
       "      <td>Victim</td>\n",
       "    </tr>\n",
       "    <tr>\n",
       "      <th>599</th>\n",
       "      <td>p336</td>\n",
       "      <td>c357</td>\n",
       "      <td>Victim</td>\n",
       "    </tr>\n",
       "    <tr>\n",
       "      <th>600</th>\n",
       "      <td>p336</td>\n",
       "      <td>c46</td>\n",
       "      <td>Witness</td>\n",
       "    </tr>\n",
       "    <tr>\n",
       "      <th>601</th>\n",
       "      <td>p336</td>\n",
       "      <td>c358</td>\n",
       "      <td>Suspect</td>\n",
       "    </tr>\n",
       "    <tr>\n",
       "      <th>602</th>\n",
       "      <td>p336</td>\n",
       "      <td>c4</td>\n",
       "      <td>Victim</td>\n",
       "    </tr>\n",
       "  </tbody>\n",
       "</table>\n",
       "</div>"
      ],
      "text/plain": [
       "    person crime     role\n",
       "594   p336   c40   Victim\n",
       "595   p336  c354   Victim\n",
       "596   p336  c322   Victim\n",
       "597   p336  c355   Victim\n",
       "598   p336  c356   Victim\n",
       "599   p336  c357   Victim\n",
       "600   p336   c46  Witness\n",
       "601   p336  c358  Suspect\n",
       "602   p336    c4   Victim"
      ]
     },
     "execution_count": 9,
     "metadata": {},
     "output_type": "execute_result"
    }
   ],
   "source": [
    "df_al_roles[df_al_roles['person'] == 'p336']"
   ]
  },
  {
   "cell_type": "code",
   "execution_count": 10,
   "metadata": {},
   "outputs": [
    {
     "name": "stdout",
     "output_type": "stream",
     "text": [
      "guilty\n"
     ]
    }
   ],
   "source": [
    "s = [1,2,3,4]\n",
    "if 2 in s:\n",
    "    print('guilty')\n",
    "else:\n",
    "    print('innocent')"
   ]
  },
  {
   "cell_type": "code",
   "execution_count": 11,
   "metadata": {},
   "outputs": [],
   "source": [
    "# group bys gives us the same as degree distribution\n",
    "# df_al_roles.groupby(by='person', dropna=False).count()\n",
    "# df_al_roles.groupby(by=['crime', 'role'], dropna=False).count()"
   ]
  },
  {
   "cell_type": "markdown",
   "metadata": {},
   "source": [
    "## Basic data stats"
   ]
  },
  {
   "cell_type": "code",
   "execution_count": 12,
   "metadata": {},
   "outputs": [
    {
     "name": "stdout",
     "output_type": "stream",
     "text": [
      "Number of people: 829\n",
      "Number of crimes: 551\n",
      "Number of roles: 4\n",
      "Number of edges: 1476\n"
     ]
    }
   ],
   "source": [
    "# the following are used to create the graph\n",
    "people = df_al['person'].unique()\n",
    "crimes = df_al['crime'].unique()\n",
    "roles = df_role['role'].unique()\n",
    "\n",
    "# print stats\n",
    "print('Number of people:', len(people))\n",
    "print('Number of crimes:', len(crimes))\n",
    "print('Number of roles:', len(roles))\n",
    "print('Number of edges:', len(df_al_roles))\n"
   ]
  },
  {
   "cell_type": "markdown",
   "metadata": {},
   "source": [
    "Breakdown of roles"
   ]
  },
  {
   "cell_type": "code",
   "execution_count": 13,
   "metadata": {},
   "outputs": [
    {
     "data": {
      "text/plain": [
       "role          \n",
       "Suspect           682\n",
       "Victim            558\n",
       "Witness           195\n",
       "Victim Suspect     41\n",
       "dtype: int64"
      ]
     },
     "execution_count": 13,
     "metadata": {},
     "output_type": "execute_result"
    }
   ],
   "source": [
    "df_role.value_counts()"
   ]
  },
  {
   "cell_type": "markdown",
   "metadata": {},
   "source": [
    "# Make graph"
   ]
  },
  {
   "cell_type": "code",
   "execution_count": 14,
   "metadata": {},
   "outputs": [],
   "source": [
    "# G=nx.from_pandas_dataframe(df_al_roles, 0, 'b', ['weight', 'cost'])"
   ]
  },
  {
   "cell_type": "code",
   "execution_count": 15,
   "metadata": {},
   "outputs": [],
   "source": [
    "# create networkx graph\n",
    "G = nx.Graph()\n",
    "\n",
    "# # add nodes\n",
    "for i in range(len(people)):\n",
    "    G.add_node(people[i], name=df_name['name'][i], gender=df_gender['gender'][i], bipartite=0)\n",
    "\n",
    "for i in range(len(crimes)):\n",
    "    G.add_node(crimes[i], bipartite=1)\n",
    "\n",
    "# # add edges\n",
    "for i in range(len(df_al)):\n",
    "    G.add_edge(df_al_roles['person'][i], df_al_roles['crime'][i], role=df_al_roles['role'][i])"
   ]
  },
  {
   "cell_type": "markdown",
   "metadata": {},
   "source": [
    "## Assign node status"
   ]
  },
  {
   "cell_type": "code",
   "execution_count": 16,
   "metadata": {},
   "outputs": [
    {
     "name": "stdout",
     "output_type": "stream",
     "text": [
      "guilty\n"
     ]
    }
   ],
   "source": [
    "# Code from Dee\n",
    "# Initialize a dictionary based on people nodes to keep track of all roles per node\n",
    "p_nodes = {el:[] for el in people}\n",
    "\n",
    "# Add all the edge attributes to a dictionary of people nodes\n",
    "for key,value in nx.get_edge_attributes(G, 'role').items():\n",
    "    for part in key:\n",
    "        if part in people:\n",
    "            p_nodes[part].append(value)\n",
    "\n",
    "# print(p_nodes['p1']) # List of all roles from p1\n",
    "\n",
    "# Initialize a dictionary to keep track of who is a \"criminal\"\n",
    "criminals = {el:[] for el in people}\n",
    "\n",
    "\n",
    "s = [1,2,3,4]\n",
    "if 2 in s:\n",
    "    print('guilty')\n",
    "else:\n",
    "    print('innocent')\n",
    "\n",
    "    \n",
    "# Loop through all roles per node, and deem them criminals if ever they have been a suspect\n",
    "for key in p_nodes:\n",
    "    for value in p_nodes[key]:\n",
    "        if value == \"Suspect\":\n",
    "            criminals[key] = \"criminal\"\n",
    "        elif value == \"Victim Suspect\":\n",
    "            criminals[key] = \"Criminal\"\n",
    "        else:\n",
    "            criminals[key] = \"innocent\"\n",
    "\n",
    "# print(criminals['p1']) # Verify that p1 is deemed \"criminal\"\n",
    "\n",
    "# Convert to pandas df\n",
    "criminals_df = pd.DataFrame(criminals.items(), columns=['node', 'criminal_status'])"
   ]
  },
  {
   "cell_type": "code",
   "execution_count": 17,
   "metadata": {},
   "outputs": [
    {
     "name": "stdout",
     "output_type": "stream",
     "text": [
      "criminal\n",
      "criminal\n",
      "criminal\n",
      "criminal\n",
      "criminal\n",
      "criminal\n",
      "criminal\n",
      "criminal\n",
      "criminal\n",
      "criminal\n",
      "criminal\n",
      "criminal\n",
      "criminal\n",
      "criminal\n",
      "criminal\n",
      "criminal\n",
      "criminal\n",
      "criminal\n",
      "criminal\n",
      "criminal\n",
      "criminal\n",
      "criminal\n",
      "criminal\n",
      "criminal\n",
      "criminal\n",
      "criminal\n",
      "criminal\n",
      "criminal\n",
      "criminal\n",
      "criminal\n",
      "criminal\n",
      "criminal\n",
      "criminal\n",
      "criminal\n",
      "criminal\n",
      "criminal\n",
      "criminal\n",
      "criminal\n",
      "criminal\n",
      "criminal\n",
      "criminal\n",
      "criminal\n",
      "criminal\n",
      "criminal\n",
      "criminal\n",
      "criminal\n",
      "criminal\n",
      "criminal\n",
      "criminal\n",
      "criminal\n",
      "criminal\n",
      "criminal\n",
      "criminal\n",
      "criminal\n",
      "criminal\n",
      "criminal\n",
      "criminal\n",
      "criminal\n",
      "criminal\n",
      "criminal\n",
      "criminal\n",
      "criminal\n",
      "criminal\n",
      "criminal\n",
      "criminal\n",
      "criminal\n",
      "criminal\n",
      "criminal\n",
      "criminal\n",
      "criminal\n",
      "criminal\n",
      "criminal\n",
      "criminal\n",
      "criminal\n",
      "criminal\n",
      "criminal\n",
      "criminal\n",
      "criminal\n",
      "criminal\n",
      "criminal\n",
      "criminal\n",
      "criminal\n",
      "criminal\n",
      "criminal\n",
      "criminal\n",
      "criminal\n",
      "criminal\n",
      "criminal\n",
      "criminal\n",
      "criminal\n",
      "criminal\n",
      "criminal\n",
      "criminal\n",
      "criminal\n",
      "criminal\n",
      "criminal\n",
      "criminal\n",
      "criminal\n",
      "criminal\n",
      "criminal\n",
      "criminal\n",
      "criminal\n",
      "criminal\n",
      "criminal\n",
      "criminal\n",
      "criminal\n",
      "criminal\n",
      "criminal\n",
      "criminal\n",
      "criminal\n",
      "criminal\n",
      "criminal\n",
      "criminal\n",
      "criminal\n",
      "criminal\n",
      "criminal\n",
      "criminal\n",
      "criminal\n",
      "criminal\n",
      "criminal\n",
      "criminal\n",
      "criminal\n",
      "criminal\n",
      "criminal\n",
      "criminal\n",
      "criminal\n",
      "criminal\n",
      "criminal\n",
      "criminal\n",
      "criminal\n",
      "criminal\n",
      "criminal\n",
      "criminal\n",
      "criminal\n",
      "criminal\n",
      "criminal\n",
      "criminal\n",
      "criminal\n",
      "criminal\n",
      "criminal\n",
      "criminal\n",
      "criminal\n",
      "criminal\n",
      "criminal\n",
      "criminal\n",
      "criminal\n",
      "criminal\n",
      "criminal\n",
      "criminal\n",
      "criminal\n",
      "criminal\n",
      "criminal\n",
      "criminal\n",
      "criminal\n",
      "criminal\n",
      "criminal\n",
      "criminal\n",
      "criminal\n",
      "criminal\n",
      "criminal\n",
      "criminal\n",
      "criminal\n",
      "criminal\n",
      "criminal\n",
      "criminal\n",
      "criminal\n",
      "criminal\n",
      "criminal\n",
      "criminal\n",
      "criminal\n",
      "criminal\n",
      "criminal\n",
      "criminal\n",
      "criminal\n",
      "criminal\n",
      "criminal\n",
      "criminal\n",
      "criminal\n",
      "criminal\n",
      "criminal\n",
      "criminal\n",
      "criminal\n",
      "criminal\n",
      "criminal\n",
      "criminal\n",
      "criminal\n",
      "criminal\n",
      "criminal\n",
      "criminal\n",
      "criminal\n",
      "criminal\n",
      "criminal\n",
      "criminal\n",
      "criminal\n",
      "criminal\n",
      "criminal\n",
      "criminal\n",
      "criminal\n",
      "criminal\n",
      "criminal\n",
      "criminal\n",
      "criminal\n",
      "criminal\n",
      "criminal\n",
      "criminal\n",
      "criminal\n",
      "criminal\n",
      "criminal\n",
      "criminal\n",
      "criminal\n",
      "criminal\n",
      "criminal\n",
      "criminal\n",
      "criminal\n",
      "criminal\n",
      "criminal\n",
      "criminal\n",
      "criminal\n",
      "criminal\n",
      "criminal\n",
      "criminal\n",
      "criminal\n",
      "criminal\n",
      "criminal\n",
      "criminal\n",
      "criminal\n",
      "criminal\n",
      "criminal\n",
      "criminal\n",
      "criminal\n",
      "criminal\n",
      "criminal\n",
      "criminal\n",
      "criminal\n",
      "criminal\n",
      "criminal\n",
      "criminal\n",
      "criminal\n",
      "criminal\n",
      "criminal\n",
      "criminal\n",
      "criminal\n",
      "criminal\n",
      "criminal\n",
      "criminal\n",
      "criminal\n",
      "criminal\n",
      "criminal\n",
      "criminal\n",
      "criminal\n",
      "criminal\n",
      "criminal\n",
      "criminal\n",
      "criminal\n",
      "criminal\n",
      "criminal\n",
      "criminal\n",
      "criminal\n",
      "criminal\n",
      "criminal\n",
      "criminal\n",
      "criminal\n",
      "criminal\n",
      "criminal\n",
      "criminal\n",
      "criminal\n",
      "criminal\n",
      "criminal\n",
      "criminal\n",
      "criminal\n",
      "criminal\n",
      "criminal\n",
      "criminal\n",
      "criminal\n",
      "criminal\n",
      "criminal\n",
      "criminal\n",
      "criminal\n",
      "criminal\n",
      "criminal\n",
      "criminal\n",
      "criminal\n",
      "criminal\n",
      "criminal\n",
      "criminal\n",
      "criminal\n",
      "criminal\n",
      "criminal\n",
      "criminal\n",
      "criminal\n",
      "criminal\n",
      "criminal\n",
      "criminal\n",
      "criminal\n",
      "criminal\n",
      "criminal\n",
      "criminal\n",
      "criminal\n",
      "criminal\n",
      "criminal\n",
      "criminal\n",
      "criminal\n",
      "criminal\n",
      "criminal\n",
      "criminal\n",
      "criminal\n",
      "criminal\n",
      "criminal\n",
      "criminal\n",
      "criminal\n",
      "criminal\n",
      "criminal\n",
      "criminal\n",
      "criminal\n",
      "criminal\n",
      "criminal\n",
      "criminal\n",
      "criminal\n",
      "criminal\n",
      "criminal\n",
      "criminal\n",
      "criminal\n",
      "criminal\n",
      "criminal\n",
      "criminal\n",
      "criminal\n",
      "criminal\n",
      "criminal\n",
      "criminal\n",
      "criminal\n",
      "criminal\n",
      "criminal\n",
      "criminal\n",
      "criminal\n",
      "criminal\n",
      "criminal\n",
      "criminal\n",
      "criminal\n",
      "criminal\n",
      "criminal\n",
      "criminal\n",
      "criminal\n",
      "criminal\n",
      "criminal\n",
      "criminal\n",
      "criminal\n",
      "criminal\n",
      "criminal\n",
      "criminal\n",
      "criminal\n",
      "criminal\n",
      "criminal\n",
      "criminal\n",
      "criminal\n",
      "criminal\n",
      "criminal\n",
      "criminal\n",
      "criminal\n",
      "criminal\n",
      "criminal\n",
      "criminal\n",
      "criminal\n",
      "criminal\n",
      "criminal\n",
      "criminal\n",
      "criminal\n",
      "criminal\n",
      "criminal\n",
      "criminal\n",
      "criminal\n",
      "criminal\n",
      "criminal\n",
      "criminal\n",
      "criminal\n",
      "criminal\n",
      "criminal\n",
      "criminal\n",
      "criminal\n",
      "criminal\n",
      "criminal\n",
      "criminal\n",
      "criminal\n",
      "criminal\n",
      "criminal\n",
      "criminal\n",
      "criminal\n",
      "criminal\n",
      "criminal\n",
      "criminal\n",
      "criminal\n",
      "criminal\n",
      "criminal\n",
      "criminal\n",
      "criminal\n",
      "criminal\n",
      "criminal\n",
      "criminal\n",
      "criminal\n",
      "criminal\n",
      "criminal\n",
      "criminal\n",
      "criminal\n",
      "criminal\n",
      "criminal\n",
      "criminal\n",
      "criminal\n",
      "criminal\n",
      "criminal\n",
      "criminal\n",
      "criminal\n",
      "criminal\n",
      "criminal\n",
      "criminal\n",
      "criminal\n",
      "criminal\n",
      "criminal\n",
      "criminal\n",
      "criminal\n",
      "criminal\n",
      "criminal\n",
      "criminal\n",
      "criminal\n",
      "criminal\n",
      "criminal\n",
      "criminal\n",
      "criminal\n",
      "criminal\n",
      "criminal\n",
      "criminal\n",
      "criminal\n",
      "criminal\n",
      "criminal\n",
      "criminal\n",
      "criminal\n",
      "criminal\n",
      "criminal\n",
      "criminal\n",
      "criminal\n",
      "criminal\n",
      "criminal\n",
      "criminal\n",
      "criminal\n",
      "criminal\n",
      "criminal\n",
      "criminal\n",
      "criminal\n",
      "criminal\n",
      "criminal\n",
      "criminal\n",
      "criminal\n",
      "criminal\n",
      "criminal\n",
      "criminal\n",
      "criminal\n",
      "criminal\n",
      "criminal\n",
      "criminal\n",
      "criminal\n",
      "criminal\n",
      "criminal\n",
      "criminal\n",
      "criminal\n",
      "criminal\n",
      "criminal\n",
      "criminal\n",
      "criminal\n",
      "criminal\n",
      "criminal\n",
      "criminal\n",
      "criminal\n",
      "criminal\n",
      "criminal\n",
      "criminal\n",
      "criminal\n",
      "criminal\n",
      "criminal\n",
      "criminal\n",
      "criminal\n",
      "criminal\n",
      "criminal\n",
      "criminal\n",
      "criminal\n",
      "criminal\n",
      "criminal\n",
      "criminal\n",
      "criminal\n",
      "criminal\n",
      "criminal\n",
      "criminal\n",
      "criminal\n",
      "criminal\n",
      "criminal\n",
      "criminal\n",
      "criminal\n",
      "criminal\n",
      "criminal\n",
      "criminal\n",
      "criminal\n",
      "criminal\n",
      "criminal\n",
      "criminal\n",
      "criminal\n",
      "criminal\n",
      "criminal\n",
      "criminal\n",
      "criminal\n",
      "criminal\n",
      "criminal\n",
      "criminal\n",
      "criminal\n",
      "criminal\n",
      "criminal\n",
      "criminal\n",
      "criminal\n",
      "criminal\n",
      "criminal\n",
      "criminal\n",
      "criminal\n",
      "criminal\n",
      "criminal\n",
      "criminal\n",
      "criminal\n",
      "criminal\n",
      "criminal\n",
      "criminal\n",
      "criminal\n",
      "criminal\n",
      "criminal\n",
      "criminal\n",
      "criminal\n",
      "criminal\n",
      "criminal\n",
      "criminal\n",
      "criminal\n",
      "criminal\n",
      "criminal\n",
      "criminal\n",
      "criminal\n",
      "criminal\n",
      "criminal\n",
      "criminal\n",
      "criminal\n",
      "criminal\n",
      "criminal\n",
      "criminal\n",
      "criminal\n",
      "criminal\n",
      "criminal\n",
      "criminal\n",
      "criminal\n",
      "criminal\n",
      "criminal\n",
      "criminal\n",
      "criminal\n",
      "criminal\n",
      "criminal\n",
      "criminal\n",
      "criminal\n",
      "criminal\n",
      "criminal\n",
      "criminal\n",
      "criminal\n",
      "criminal\n",
      "criminal\n",
      "criminal\n",
      "criminal\n",
      "criminal\n",
      "criminal\n",
      "criminal\n",
      "criminal\n",
      "criminal\n",
      "criminal\n",
      "criminal\n",
      "criminal\n",
      "criminal\n",
      "criminal\n",
      "criminal\n",
      "criminal\n",
      "criminal\n",
      "criminal\n",
      "criminal\n",
      "criminal\n",
      "criminal\n",
      "criminal\n",
      "criminal\n",
      "criminal\n",
      "criminal\n",
      "criminal\n",
      "criminal\n",
      "criminal\n",
      "criminal\n",
      "criminal\n",
      "criminal\n",
      "criminal\n",
      "criminal\n",
      "criminal\n",
      "criminal\n",
      "criminal\n",
      "criminal\n",
      "criminal\n",
      "criminal\n",
      "criminal\n",
      "criminal\n",
      "criminal\n",
      "criminal\n",
      "criminal\n",
      "criminal\n",
      "criminal\n",
      "criminal\n",
      "criminal\n",
      "criminal\n",
      "criminal\n",
      "criminal\n",
      "criminal\n",
      "criminal\n",
      "criminal\n",
      "criminal\n",
      "criminal\n",
      "criminal\n",
      "criminal\n",
      "criminal\n",
      "criminal\n",
      "criminal\n",
      "criminal\n",
      "criminal\n",
      "criminal\n",
      "criminal\n",
      "criminal\n",
      "criminal\n",
      "criminal\n",
      "criminal\n",
      "criminal\n",
      "criminal\n",
      "criminal\n",
      "criminal\n",
      "criminal\n",
      "criminal\n",
      "criminal\n",
      "criminal\n",
      "criminal\n",
      "criminal\n",
      "criminal\n",
      "criminal\n",
      "criminal\n",
      "criminal\n",
      "criminal\n",
      "criminal\n",
      "criminal\n",
      "criminal\n",
      "criminal\n",
      "criminal\n",
      "criminal\n",
      "criminal\n",
      "criminal\n",
      "criminal\n",
      "criminal\n",
      "criminal\n",
      "criminal\n",
      "criminal\n",
      "criminal\n",
      "criminal\n",
      "criminal\n",
      "criminal\n",
      "criminal\n",
      "criminal\n",
      "criminal\n",
      "criminal\n",
      "criminal\n",
      "criminal\n",
      "criminal\n",
      "criminal\n",
      "criminal\n",
      "criminal\n",
      "criminal\n",
      "criminal\n",
      "criminal\n",
      "criminal\n",
      "criminal\n",
      "criminal\n",
      "criminal\n",
      "criminal\n",
      "criminal\n",
      "criminal\n",
      "criminal\n",
      "criminal\n",
      "criminal\n",
      "criminal\n",
      "criminal\n",
      "criminal\n",
      "criminal\n",
      "criminal\n",
      "criminal\n",
      "criminal\n",
      "criminal\n",
      "criminal\n",
      "criminal\n",
      "criminal\n",
      "criminal\n",
      "criminal\n",
      "criminal\n",
      "criminal\n",
      "criminal\n",
      "criminal\n",
      "criminal\n",
      "criminal\n",
      "criminal\n",
      "criminal\n",
      "criminal\n",
      "criminal\n",
      "criminal\n",
      "criminal\n",
      "criminal\n",
      "criminal\n",
      "criminal\n",
      "criminal\n",
      "criminal\n",
      "criminal\n",
      "criminal\n",
      "criminal\n",
      "criminal\n",
      "criminal\n",
      "criminal\n",
      "criminal\n",
      "criminal\n",
      "criminal\n",
      "criminal\n",
      "criminal\n",
      "criminal\n",
      "criminal\n",
      "criminal\n",
      "criminal\n",
      "criminal\n",
      "criminal\n",
      "criminal\n",
      "criminal\n",
      "criminal\n",
      "criminal\n",
      "criminal\n",
      "criminal\n",
      "criminal\n",
      "criminal\n",
      "criminal\n",
      "criminal\n",
      "criminal\n",
      "criminal\n",
      "criminal\n",
      "criminal\n",
      "criminal\n",
      "criminal\n",
      "criminal\n",
      "criminal\n",
      "criminal\n",
      "criminal\n",
      "criminal\n",
      "criminal\n",
      "criminal\n",
      "criminal\n",
      "criminal\n",
      "criminal\n",
      "criminal\n",
      "criminal\n",
      "criminal\n",
      "criminal\n",
      "criminal\n",
      "criminal\n",
      "criminal\n",
      "criminal\n",
      "criminal\n",
      "criminal\n",
      "criminal\n",
      "criminal\n",
      "criminal\n",
      "criminal\n",
      "criminal\n",
      "criminal\n",
      "criminal\n",
      "criminal\n",
      "criminal\n",
      "criminal\n",
      "criminal\n",
      "criminal\n",
      "criminal\n",
      "criminal\n",
      "criminal\n",
      "criminal\n",
      "criminal\n",
      "criminal\n",
      "criminal\n",
      "criminal\n",
      "criminal\n",
      "criminal\n",
      "criminal\n",
      "criminal\n",
      "criminal\n",
      "criminal\n",
      "criminal\n",
      "criminal\n",
      "criminal\n",
      "criminal\n",
      "criminal\n",
      "criminal\n",
      "criminal\n",
      "criminal\n",
      "criminal\n",
      "criminal\n",
      "criminal\n",
      "criminal\n",
      "criminal\n",
      "criminal\n",
      "criminal\n",
      "criminal\n",
      "criminal\n",
      "criminal\n",
      "criminal\n",
      "criminal\n",
      "criminal\n",
      "criminal\n",
      "criminal\n",
      "criminal\n",
      "criminal\n",
      "criminal\n",
      "criminal\n",
      "criminal\n",
      "criminal\n",
      "criminal\n",
      "criminal\n",
      "criminal\n",
      "criminal\n",
      "criminal\n"
     ]
    }
   ],
   "source": [
    "p_nodes\n",
    "\n",
    "for key in p_nodes:\n",
    "    # print(p_nodes[key])\n",
    "    sus_roles = ['Suspect', 'Victim Suspect']\n",
    "    if 'Suspect' or 'Victim Suspect' in p_nodes[key]:\n",
    "        print('criminal')\n",
    "    else:\n",
    "        print(\"innocent\")\n"
   ]
  },
  {
   "cell_type": "markdown",
   "metadata": {},
   "source": [
    "## Add node status"
   ]
  },
  {
   "cell_type": "code",
   "execution_count": 18,
   "metadata": {},
   "outputs": [
    {
     "name": "stdout",
     "output_type": "stream",
     "text": [
      "criminal\n"
     ]
    }
   ],
   "source": [
    "# loop through rows in the data frame and add the attribute of Criminal Status\n",
    "for index, row in criminals_df.iterrows():\n",
    "    #print(row['node'])\n",
    "    G.nodes[row['node']]['criminal_status'] = row['criminal_status']\n",
    "\n",
    "print(nx.get_node_attributes(G, 'criminal_status')['p1']) # check name of person 'p1' = 'Criminal'"
   ]
  },
  {
   "cell_type": "code",
   "execution_count": 19,
   "metadata": {},
   "outputs": [],
   "source": [
    "# get top and bottom nodes for projection and plotting\n",
    "people_nodes = {n for n, d in G.nodes(data=True) if d[\"bipartite\"] == 0}\n",
    "crime_nodes = set(G) - people_nodes"
   ]
  },
  {
   "cell_type": "code",
   "execution_count": 20,
   "metadata": {},
   "outputs": [
    {
     "data": {
      "image/png": "[encoded data removed]",
      "text/plain": [
       "<Figure size 432x288 with 1 Axes>"
      ]
     },
     "metadata": {},
     "output_type": "display_data"
    }
   ],
   "source": [
    "# plot only biggest component\n",
    "# pos = nx.spring_layout(G)\n",
    "# posB = nx.bipartite_layout(G, people_nodes)\n",
    "G_draw = nx.draw_spring(G,node_size=5)"
   ]
  },
  {
   "cell_type": "markdown",
   "metadata": {},
   "source": [
    "## Get degree of all nodes\n",
    "Node degreee of **people** nodes if the number of crimes they were involved in.  \n",
    "Node degree of **crime** nodes is the number of people involved in the crime."
   ]
  },
  {
   "cell_type": "code",
   "execution_count": 21,
   "metadata": {},
   "outputs": [],
   "source": [
    "# Creating dict with all node degrees to add as attribute\n",
    "node_degrees = dict()\n",
    "\n",
    "# Createing dict for each node type\n",
    "people_degrees = dict()\n",
    "crimes_degrees = dict()\n",
    "\n",
    "# for loop to populate dicts above\n",
    "for node in G.nodes:\n",
    "    # print(G.edges(node, data=True))\n",
    "    node_degrees[node] = G.degree(node)\n",
    "    if node.startswith('p') == True:\n",
    "        people_degrees[node] = G.degree(node)\n",
    "    else:\n",
    "        crimes_degrees[node] = G.degree(node)"
   ]
  },
  {
   "cell_type": "code",
   "execution_count": 22,
   "metadata": {},
   "outputs": [
    {
     "data": {
      "text/html": [
       "<div>\n",
       "<style scoped>\n",
       "    .dataframe tbody tr th:only-of-type {\n",
       "        vertical-align: middle;\n",
       "    }\n",
       "\n",
       "    .dataframe tbody tr th {\n",
       "        vertical-align: top;\n",
       "    }\n",
       "\n",
       "    .dataframe thead th {\n",
       "        text-align: right;\n",
       "    }\n",
       "</style>\n",
       "<table border=\"1\" class=\"dataframe\">\n",
       "  <thead>\n",
       "    <tr style=\"text-align: right;\">\n",
       "      <th></th>\n",
       "      <th>gender</th>\n",
       "      <th>person</th>\n",
       "    </tr>\n",
       "  </thead>\n",
       "  <tbody>\n",
       "    <tr>\n",
       "      <th>0</th>\n",
       "      <td>1</td>\n",
       "      <td>p0</td>\n",
       "    </tr>\n",
       "    <tr>\n",
       "      <th>1</th>\n",
       "      <td>1</td>\n",
       "      <td>p1</td>\n",
       "    </tr>\n",
       "    <tr>\n",
       "      <th>2</th>\n",
       "      <td>1</td>\n",
       "      <td>p2</td>\n",
       "    </tr>\n",
       "  </tbody>\n",
       "</table>\n",
       "</div>"
      ],
      "text/plain": [
       "   gender person\n",
       "0       1     p0\n",
       "1       1     p1\n",
       "2       1     p2"
      ]
     },
     "execution_count": 22,
     "metadata": {},
     "output_type": "execute_result"
    }
   ],
   "source": [
    "df_gender = pd.read_csv(gender, sep=\" \", header=None, names=['gender'])\n",
    "df_gender['person'] = 'p' + df_gender.index.astype(str)\n",
    "df_gender.head(3)"
   ]
  },
  {
   "cell_type": "code",
   "execution_count": 23,
   "metadata": {},
   "outputs": [],
   "source": [
    "# Add node degree as node attribute in graph G\n",
    "nx.set_node_attributes(G, node_degrees, \"node_degree\")\n",
    "\n",
    "# and check it worked\n",
    "# nx.get_node_attributes(G, 'node_degree')"
   ]
  },
  {
   "cell_type": "markdown",
   "metadata": {},
   "source": [
    "### Make a dataframe including all node attributes"
   ]
  },
  {
   "cell_type": "code",
   "execution_count": 24,
   "metadata": {},
   "outputs": [
    {
     "data": {
      "text/html": [
       "<div>\n",
       "<style scoped>\n",
       "    .dataframe tbody tr th:only-of-type {\n",
       "        vertical-align: middle;\n",
       "    }\n",
       "\n",
       "    .dataframe tbody tr th {\n",
       "        vertical-align: top;\n",
       "    }\n",
       "\n",
       "    .dataframe thead th {\n",
       "        text-align: right;\n",
       "    }\n",
       "</style>\n",
       "<table border=\"1\" class=\"dataframe\">\n",
       "  <thead>\n",
       "    <tr style=\"text-align: right;\">\n",
       "      <th></th>\n",
       "      <th>name</th>\n",
       "      <th>gender</th>\n",
       "      <th>bipartite</th>\n",
       "      <th>criminal_status</th>\n",
       "      <th>node_degree</th>\n",
       "    </tr>\n",
       "  </thead>\n",
       "  <tbody>\n",
       "    <tr>\n",
       "      <th>p1</th>\n",
       "      <td>AbelDennis</td>\n",
       "      <td>1.0</td>\n",
       "      <td>0</td>\n",
       "      <td>criminal</td>\n",
       "      <td>4</td>\n",
       "    </tr>\n",
       "    <tr>\n",
       "      <th>p2</th>\n",
       "      <td>AbramsChad</td>\n",
       "      <td>1.0</td>\n",
       "      <td>0</td>\n",
       "      <td>criminal</td>\n",
       "      <td>22</td>\n",
       "    </tr>\n",
       "    <tr>\n",
       "      <th>p3</th>\n",
       "      <td>AbramsDavid</td>\n",
       "      <td>1.0</td>\n",
       "      <td>0</td>\n",
       "      <td>criminal</td>\n",
       "      <td>1</td>\n",
       "    </tr>\n",
       "    <tr>\n",
       "      <th>p4</th>\n",
       "      <td>AbramsDon</td>\n",
       "      <td>1.0</td>\n",
       "      <td>0</td>\n",
       "      <td>criminal</td>\n",
       "      <td>1</td>\n",
       "    </tr>\n",
       "    <tr>\n",
       "      <th>p5</th>\n",
       "      <td>AbramsRichard</td>\n",
       "      <td>1.0</td>\n",
       "      <td>0</td>\n",
       "      <td>innocent</td>\n",
       "      <td>1</td>\n",
       "    </tr>\n",
       "    <tr>\n",
       "      <th>...</th>\n",
       "      <td>...</td>\n",
       "      <td>...</td>\n",
       "      <td>...</td>\n",
       "      <td>...</td>\n",
       "      <td>...</td>\n",
       "    </tr>\n",
       "    <tr>\n",
       "      <th>c547</th>\n",
       "      <td>NaN</td>\n",
       "      <td>NaN</td>\n",
       "      <td>1</td>\n",
       "      <td>NaN</td>\n",
       "      <td>1</td>\n",
       "    </tr>\n",
       "    <tr>\n",
       "      <th>c548</th>\n",
       "      <td>NaN</td>\n",
       "      <td>NaN</td>\n",
       "      <td>1</td>\n",
       "      <td>NaN</td>\n",
       "      <td>1</td>\n",
       "    </tr>\n",
       "    <tr>\n",
       "      <th>c549</th>\n",
       "      <td>NaN</td>\n",
       "      <td>NaN</td>\n",
       "      <td>1</td>\n",
       "      <td>NaN</td>\n",
       "      <td>1</td>\n",
       "    </tr>\n",
       "    <tr>\n",
       "      <th>c550</th>\n",
       "      <td>NaN</td>\n",
       "      <td>NaN</td>\n",
       "      <td>1</td>\n",
       "      <td>NaN</td>\n",
       "      <td>1</td>\n",
       "    </tr>\n",
       "    <tr>\n",
       "      <th>c551</th>\n",
       "      <td>NaN</td>\n",
       "      <td>NaN</td>\n",
       "      <td>1</td>\n",
       "      <td>NaN</td>\n",
       "      <td>1</td>\n",
       "    </tr>\n",
       "  </tbody>\n",
       "</table>\n",
       "<p>1380 rows × 5 columns</p>\n",
       "</div>"
      ],
      "text/plain": [
       "               name  gender  bipartite criminal_status  node_degree\n",
       "p1       AbelDennis     1.0          0        criminal            4\n",
       "p2       AbramsChad     1.0          0        criminal           22\n",
       "p3      AbramsDavid     1.0          0        criminal            1\n",
       "p4        AbramsDon     1.0          0        criminal            1\n",
       "p5    AbramsRichard     1.0          0        innocent            1\n",
       "...             ...     ...        ...             ...          ...\n",
       "c547            NaN     NaN          1             NaN            1\n",
       "c548            NaN     NaN          1             NaN            1\n",
       "c549            NaN     NaN          1             NaN            1\n",
       "c550            NaN     NaN          1             NaN            1\n",
       "c551            NaN     NaN          1             NaN            1\n",
       "\n",
       "[1380 rows x 5 columns]"
      ]
     },
     "execution_count": 24,
     "metadata": {},
     "output_type": "execute_result"
    }
   ],
   "source": [
    "# code from https://stackoverflow.com/a/50775962\n",
    "# make pandas dataframe from graph with node attributes\n",
    "df_G = pd.DataFrame.from_dict(dict(G.nodes(data=True)), orient='index')\n",
    "df_G"
   ]
  },
  {
   "cell_type": "markdown",
   "metadata": {},
   "source": [
    "# Projection on people"
   ]
  },
  {
   "cell_type": "code",
   "execution_count": 48,
   "metadata": {},
   "outputs": [],
   "source": [
    "G_proj = bipartite.weighted_projected_graph(G, people_nodes, ratio=False)\n",
    "# list(G_proj.edges(data=True))[0:5]"
   ]
  },
  {
   "cell_type": "code",
   "execution_count": 49,
   "metadata": {},
   "outputs": [
    {
     "name": "stdout",
     "output_type": "stream",
     "text": [
      "Num. of nodes: 829 \n",
      "Num. of edges: 2253 \n",
      "Is bipartite? False \n",
      "Is connected? False\n"
     ]
    }
   ],
   "source": [
    "print(\n",
    "    'Num. of nodes: {} \\nNum. of edges: {} \\nIs bipartite? {} \\nIs connected? {}'.format(\n",
    "        G_proj.number_of_nodes(), \n",
    "        G_proj.number_of_edges(), \n",
    "        nx.is_bipartite(G_proj),\n",
    "        nx.is_connected(G_proj)\n",
    "        )\n",
    "    )"
   ]
  },
  {
   "cell_type": "code",
   "execution_count": 50,
   "metadata": {},
   "outputs": [
    {
     "data": {
      "image/png": "[encoded data removed]",
      "text/plain": [
       "<Figure size 432x288 with 1 Axes>"
      ]
     },
     "metadata": {
      "needs_background": "light"
     },
     "output_type": "display_data"
    }
   ],
   "source": [
    "weights = list(nx.get_edge_attributes(G_proj, 'weight').values())\n",
    "\n",
    "# plot weights\n",
    "plt.hist(weights, bins = 10, log=True)\n",
    "plt.show()"
   ]
  },
  {
   "cell_type": "markdown",
   "metadata": {},
   "source": [
    "People of interest. Pairs that are connected by 5 crimes."
   ]
  },
  {
   "cell_type": "code",
   "execution_count": 51,
   "metadata": {},
   "outputs": [
    {
     "name": "stdout",
     "output_type": "stream",
     "text": [
      "('p797', 'p37', {'weight': 3})\n",
      "('p67', 'p2', {'weight': 4})\n",
      "('p531', 'p128', {'weight': 5})\n",
      "('p531', 'p396', {'weight': 3})\n",
      "('p303', 'p56', {'weight': 3})\n",
      "('p715', 'p695', {'weight': 3})\n",
      "('p715', 'p425', {'weight': 5})\n",
      "('p659', 'p87', {'weight': 4})\n",
      "('p425', 'p54', {'weight': 3})\n",
      "('p425', 'p695', {'weight': 3})\n",
      "('p425', 'p413', {'weight': 4})\n",
      "('p663', 'p815', {'weight': 3})\n",
      "('p696', 'p344', {'weight': 3})\n",
      "('p413', 'p695', {'weight': 3})\n",
      "('p767', 'p79', {'weight': 5})\n",
      "('p333', 'p592', {'weight': 3})\n",
      "('p17', 'p514', {'weight': 4})\n",
      "('p533', 'p572', {'weight': 4})\n"
     ]
    }
   ],
   "source": [
    "edge_w = list(G_proj.edges(data=True))\n",
    "\n",
    "for i in edge_w:\n",
    "    if i[2]['weight'] > 2:\n",
    "        print(i)"
   ]
  },
  {
   "cell_type": "code",
   "execution_count": 52,
   "metadata": {},
   "outputs": [],
   "source": [
    "# get adjacency matrix\n",
    "A = nx.adjacency_matrix(G_proj, weight='weight')\n",
    "A = A.toarray()"
   ]
  },
  {
   "cell_type": "code",
   "execution_count": 54,
   "metadata": {},
   "outputs": [
    {
     "data": {
      "image/png": "[encoded data removed]",
      "text/plain": [
       "<Figure size 432x288 with 1 Axes>"
      ]
     },
     "metadata": {
      "needs_background": "light"
     },
     "output_type": "display_data"
    }
   ],
   "source": [
    "# plot adjacency matrix\n",
    "plt.title('Adjacency Matrix')\n",
    "# plt.imshow(A, cmap='Greys', markersize = 3)\n",
    "# plt.show()\n",
    "# plt.figure(figsize=(8,8))\n",
    "plt.spy(A, markersize = 1)\n",
    "plt.show()"
   ]
  },
  {
   "cell_type": "code",
   "execution_count": 55,
   "metadata": {},
   "outputs": [
    {
     "data": {
      "text/plain": [
       "<AxesSubplot:>"
      ]
     },
     "execution_count": 55,
     "metadata": {},
     "output_type": "execute_result"
    },
    {
     "data": {
      "image/png": "[encoded data removed]",
      "text/plain": [
       "<Figure size 432x288 with 2 Axes>"
      ]
     },
     "metadata": {
      "needs_background": "light"
     },
     "output_type": "display_data"
    }
   ],
   "source": [
    "sns.heatmap(A)"
   ]
  },
  {
   "cell_type": "code",
   "execution_count": 56,
   "metadata": {},
   "outputs": [
    {
     "data": {
      "image/png": "[encoded data removed]",
      "text/plain": [
       "<Figure size 432x288 with 1 Axes>"
      ]
     },
     "metadata": {},
     "output_type": "display_data"
    }
   ],
   "source": [
    "# plot graph visualisation\n",
    "nx.draw_spring(G_proj, node_size=3)"
   ]
  },
  {
   "cell_type": "markdown",
   "metadata": {},
   "source": [
    "## Node degree on projected network"
   ]
  },
  {
   "cell_type": "code",
   "execution_count": 71,
   "metadata": {},
   "outputs": [],
   "source": [
    "from collections import Counter\n",
    "from scipy.stats import linregress\n",
    "import powerlaw as pl"
   ]
  },
  {
   "cell_type": "code",
   "execution_count": 62,
   "metadata": {},
   "outputs": [],
   "source": [
    "# G.degrees return the degree dictionary, of which we only take the values and store\n",
    "# them in a list. Counter will tell us how many elements in a list have a specific\n",
    "# value (i.e. how many nodes have a specific degree). Then we convert it into a\n",
    "# data frame for easier processing.\n",
    "dd = Counter(dict(G_proj.degree).values())\n",
    "dd = pd.DataFrame(list(dd.items()), columns = (\"k\", \"count\")).sort_values(by = \"k\")"
   ]
  },
  {
   "cell_type": "code",
   "execution_count": 63,
   "metadata": {},
   "outputs": [
    {
     "data": {
      "image/png": "[encoded data removed]",
      "text/plain": [
       "<Figure size 432x288 with 1 Axes>"
      ]
     },
     "metadata": {
      "needs_background": "light"
     },
     "output_type": "display_data"
    }
   ],
   "source": [
    "\n",
    "# We use the standard pandas plotting function to see the degree distribution and\n",
    "# save it to file.\n",
    "dd.plot(kind = \"scatter\", x = \"k\", y = \"count\", color = \"#e41a1c\")\n",
    "plt.savefig(\"degree_distribution.png\")\n",
    "plt.show()"
   ]
  },
  {
   "cell_type": "code",
   "execution_count": 64,
   "metadata": {},
   "outputs": [
    {
     "data": {
      "image/png": "[encoded data removed]",
      "text/plain": [
       "<Figure size 432x288 with 1 Axes>"
      ]
     },
     "metadata": {
      "needs_background": "light"
     },
     "output_type": "display_data"
    }
   ],
   "source": [
    "# The standard pandas plotting function allows us to use a log-log scale via a\n",
    "# parameter, then we again save it to file.\n",
    "dd.plot(kind = \"scatter\", x = \"k\", y = \"count\", color = \"#e41a1c\", loglog = True)\n",
    "plt.savefig(\"degree_distribution_loglog.png\")"
   ]
  },
  {
   "cell_type": "code",
   "execution_count": 65,
   "metadata": {},
   "outputs": [],
   "source": [
    "# To make the CCDF we need to know how many nodes have degree equal to or higher\n",
    "# than a specific value. So we sort the dataframe in descending degree order, so\n",
    "# that the pandas cumsum function will calculate that for us. Then we normalize by\n",
    "# the total degree sum, so that the count becomes a probability. We then sort in\n",
    "# ascending degree value, to respect the convention.\n",
    "ccdf = dd.sort_values(by = \"k\", ascending = False)\n",
    "ccdf[\"cumsum\"] = ccdf[\"count\"].cumsum()\n",
    "ccdf[\"ccdf\"] = ccdf[\"cumsum\"] / ccdf[\"count\"].sum()\n",
    "ccdf = ccdf[[\"k\", \"ccdf\"]].sort_values(by = \"k\")"
   ]
  },
  {
   "cell_type": "code",
   "execution_count": 66,
   "metadata": {},
   "outputs": [
    {
     "data": {
      "image/png": "[encoded data removed]",
      "text/plain": [
       "<Figure size 432x288 with 1 Axes>"
      ]
     },
     "metadata": {
      "needs_background": "light"
     },
     "output_type": "display_data"
    }
   ],
   "source": [
    "# Plot as usual and save it for later, since it's very pretty.\n",
    "ccdf.plot(kind = \"line\", x = \"k\", y = \"ccdf\", color = \"#e41a1c\", loglog = True)\n",
    "plt.savefig(\"degree_distribution_ccdf.png\")"
   ]
  },
  {
   "cell_type": "code",
   "execution_count": 69,
   "metadata": {},
   "outputs": [
    {
     "name": "stdout",
     "output_type": "stream",
     "text": [
      "CCDF Fit: nan x ^ nan (R2 = nan, p = nan)\n"
     ]
    },
    {
     "name": "stderr",
     "output_type": "stream",
     "text": [
      "C:\\Users\\Sabrina\\anaconda3\\lib\\site-packages\\numpy\\lib\\function_base.py:2487: RuntimeWarning: invalid value encountered in subtract\n",
      "  X -= avg[:, None]\n"
     ]
    }
   ],
   "source": [
    "# We take the logarithm in base 10 of both degree and CCDF. Then we simply do a linear regression. The slope is\n",
    "# the exponent. The intercept needs to be the power of 10, to undo the logarithm operation. Look at that\n",
    "# r-squared!\n",
    "logcdf = np.log10(ccdf[[\"k\", \"ccdf\"]])\n",
    "slope, log10intercept, r_value, p_value, std_err = linregress(logcdf[\"k\"], logcdf[\"ccdf\"])\n",
    "print(\"CCDF Fit: %1.4f x ^ %1.4f (R2 = %1.4f, p = %1.4f)\" % (10 ** log10intercept, slope, r_value ** 2, p_value))\n"
   ]
  },
  {
   "cell_type": "code",
   "execution_count": 72,
   "metadata": {},
   "outputs": [
    {
     "name": "stdout",
     "output_type": "stream",
     "text": [
      "Powerlaw CCDF Fit: 12.0003 x ^ -1.7865 (k_min = 14)\n"
     ]
    },
    {
     "name": "stderr",
     "output_type": "stream",
     "text": [
      "Calculating best minimal value for power law fit\n",
      "C:\\Users\\Sabrina\\anaconda3\\lib\\site-packages\\powerlaw.py:699: RuntimeWarning: invalid value encountered in true_divide\n",
      "  (CDF_diff**2) /\n"
     ]
    }
   ],
   "source": [
    "# With the powerlaw package, fitting the CCDf is simple. It will store results in the .power_law property. To\n",
    "# get the actual k_min, we need to find the degree value corresponding to the probability in .power_law.xmin:\n",
    "# pandas makes it easy. This is definitely a shifted power law. (Kappa contains the intercept information)\n",
    "results = pl.Fit(ccdf[\"ccdf\"])\n",
    "k_min = ccdf[ccdf[\"ccdf\"] == results.power_law.xmin][\"k\"]\n",
    "print(\"Powerlaw CCDF Fit: %1.4f x ^ -%1.4f (k_min = %d)\" % (10 ** results.power_law.Kappa, results.power_law.alpha, k_min))"
   ]
  },
  {
   "cell_type": "code",
   "execution_count": 73,
   "metadata": {},
   "outputs": [
    {
     "data": {
      "image/png": "[encoded data removed]",
      "text/plain": [
       "<Figure size 432x288 with 1 Axes>"
      ]
     },
     "metadata": {
      "needs_background": "light"
     },
     "output_type": "display_data"
    }
   ],
   "source": [
    "# Let's plot the best fit.\n",
    "ccdf[\"fit\"] = (10 ** results.power_law.Kappa) * (ccdf[\"k\"] ** -results.power_law.alpha)\n",
    "ax = plt.gca()\n",
    "ccdf.plot(kind = \"line\", x = \"k\", y = \"ccdf\", color = \"#e41a1c\", loglog = True, ax = ax)\n",
    "ccdf.plot(kind = \"line\", x = \"k\", y = \"fit\", color = \"#377eb8\", loglog = True, ax = ax)\n",
    "plt.savefig(\"ccdf_fit.png\")"
   ]
  },
  {
   "cell_type": "code",
   "execution_count": 72,
   "metadata": {},
   "outputs": [
    {
     "data": {
      "text/html": [
       "<div>\n",
       "<style scoped>\n",
       "    .dataframe tbody tr th:only-of-type {\n",
       "        vertical-align: middle;\n",
       "    }\n",
       "\n",
       "    .dataframe tbody tr th {\n",
       "        vertical-align: top;\n",
       "    }\n",
       "\n",
       "    .dataframe thead th {\n",
       "        text-align: right;\n",
       "    }\n",
       "</style>\n",
       "<table border=\"1\" class=\"dataframe\">\n",
       "  <thead>\n",
       "    <tr style=\"text-align: right;\">\n",
       "      <th></th>\n",
       "      <th>1</th>\n",
       "    </tr>\n",
       "  </thead>\n",
       "  <tbody>\n",
       "    <tr>\n",
       "      <th>count</th>\n",
       "      <td>829.000000</td>\n",
       "    </tr>\n",
       "    <tr>\n",
       "      <th>mean</th>\n",
       "      <td>5.435464</td>\n",
       "    </tr>\n",
       "    <tr>\n",
       "      <th>std</th>\n",
       "      <td>5.433369</td>\n",
       "    </tr>\n",
       "    <tr>\n",
       "      <th>min</th>\n",
       "      <td>0.000000</td>\n",
       "    </tr>\n",
       "    <tr>\n",
       "      <th>25%</th>\n",
       "      <td>2.000000</td>\n",
       "    </tr>\n",
       "    <tr>\n",
       "      <th>50%</th>\n",
       "      <td>4.000000</td>\n",
       "    </tr>\n",
       "    <tr>\n",
       "      <th>75%</th>\n",
       "      <td>7.000000</td>\n",
       "    </tr>\n",
       "    <tr>\n",
       "      <th>max</th>\n",
       "      <td>51.000000</td>\n",
       "    </tr>\n",
       "  </tbody>\n",
       "</table>\n",
       "</div>"
      ],
      "text/plain": [
       "                1\n",
       "count  829.000000\n",
       "mean     5.435464\n",
       "std      5.433369\n",
       "min      0.000000\n",
       "25%      2.000000\n",
       "50%      4.000000\n",
       "75%      7.000000\n",
       "max     51.000000"
      ]
     },
     "execution_count": 72,
     "metadata": {},
     "output_type": "execute_result"
    }
   ],
   "source": [
    "node_degree_pd.describe()"
   ]
  },
  {
   "cell_type": "markdown",
   "metadata": {},
   "source": [
    "# Link prediction on projected graph"
   ]
  },
  {
   "cell_type": "markdown",
   "metadata": {},
   "source": [
    "Code from: https://www.networkatlas.eu/exercise.htm?c=20&e=1"
   ]
  },
  {
   "cell_type": "code",
   "execution_count": null,
   "metadata": {},
   "outputs": [],
   "source": [
    "linkpred_pa = list(nx.preferential_attachment(G_proj))"
   ]
  },
  {
   "cell_type": "code",
   "execution_count": null,
   "metadata": {},
   "outputs": [],
   "source": [
    "# Sort in decreasing score\n",
    "linkpred_pa.sort(key = lambda tup: tup[2], reverse = True)"
   ]
  },
  {
   "cell_type": "code",
   "execution_count": null,
   "metadata": {},
   "outputs": [
    {
     "name": "stdout",
     "output_type": "stream",
     "text": [
      "('p425', 'p2', 2448)\n",
      "('p425', 'p356', 2244)\n",
      "('p56', 'p2', 1584)\n",
      "('p695', 'p2', 1584)\n",
      "('p56', 'p356', 1452)\n",
      "('p695', 'p356', 1452)\n",
      "('p497', 'p2', 1440)\n",
      "('p425', 'p10', 1428)\n",
      "('p715', 'p2', 1392)\n",
      "('p425', 'p815', 1377)\n"
     ]
    }
   ],
   "source": [
    "# Get the top 10\n",
    "for edge_score in linkpred_pa[:10]:\n",
    "   print(edge_score)"
   ]
  },
  {
   "cell_type": "markdown",
   "metadata": {},
   "source": [
    "Code from: https://www.networkatlas.eu/exercise.htm?c=20&e=2"
   ]
  },
  {
   "cell_type": "code",
   "execution_count": null,
   "metadata": {},
   "outputs": [],
   "source": [
    "# Run the other link prediction methods implemented in networkx\n",
    "linkpred_ja = list(nx.jaccard_coefficient(G_proj))\n",
    "linkpred_aa = list(nx.adamic_adar_index(G_proj))\n",
    "linkpred_ra = list(nx.resource_allocation_index(G_proj))\n",
    "\n",
    "linkpred_ja.sort(key = lambda tup: tup[2], reverse = True)\n",
    "linkpred_aa.sort(key = lambda tup: tup[2], reverse = True)\n",
    "linkpred_ra.sort(key = lambda tup: tup[2], reverse = True)"
   ]
  },
  {
   "cell_type": "code",
   "execution_count": null,
   "metadata": {},
   "outputs": [
    {
     "name": "stdout",
     "output_type": "stream",
     "text": [
      "PrefAtt\tJaccard\tAdamAd\tResAll\n",
      "('p425', 'p2', 2448)\t('p83', 'p801', 1.0)\t('p336', 'p815', 2.3260229922337956)\t('p336', 'p815', 0.7083333333333333)\n",
      "('p425', 'p356', 2244)\t('p83', 'p209', 1.0)\t('p365', 'p114', 1.6072172535335318)\t('p74', 'p237', 0.5)\n",
      "('p56', 'p2', 1584)\t('p371', 'p758', 1.0)\t('p805', 'p746', 1.461880214172278)\t('p797', 'p293', 0.5)\n",
      "('p695', 'p2', 1584)\t('p819', 'p188', 1.0)\t('p466', 'p680', 1.461880214172278)\t('p269', 'p155', 0.5)\n",
      "('p56', 'p356', 1452)\t('p420', 'p207', 1.0)\t('p245', 'p680', 1.461880214172278)\t('p301', 'p815', 0.5)\n"
     ]
    }
   ],
   "source": [
    "# Print top predictions\n",
    "print(\"PrefAtt\\tJaccard\\tAdamAd\\tResAll\")\n",
    "for i in range(5):\n",
    "   print(\"%s\\t%s\\t%s\\t%s\" % (linkpred_pa[i], linkpred_ja[i], linkpred_aa[i], linkpred_ra[i]))"
   ]
  },
  {
   "cell_type": "code",
   "execution_count": null,
   "metadata": {},
   "outputs": [
    {
     "data": {
      "text/html": [
       "<div>\n",
       "<style scoped>\n",
       "    .dataframe tbody tr th:only-of-type {\n",
       "        vertical-align: middle;\n",
       "    }\n",
       "\n",
       "    .dataframe tbody tr th {\n",
       "        vertical-align: top;\n",
       "    }\n",
       "\n",
       "    .dataframe thead th {\n",
       "        text-align: right;\n",
       "    }\n",
       "</style>\n",
       "<table border=\"1\" class=\"dataframe\">\n",
       "  <thead>\n",
       "    <tr style=\"text-align: right;\">\n",
       "      <th></th>\n",
       "      <th>node1</th>\n",
       "      <th>node2</th>\n",
       "      <th>resource_allocation_score</th>\n",
       "      <th>node1_status</th>\n",
       "      <th>node2_status</th>\n",
       "    </tr>\n",
       "  </thead>\n",
       "  <tbody>\n",
       "    <tr>\n",
       "      <th>0</th>\n",
       "      <td>p336</td>\n",
       "      <td>p815</td>\n",
       "      <td>0.708333</td>\n",
       "      <td>innocent</td>\n",
       "      <td>criminal</td>\n",
       "    </tr>\n",
       "    <tr>\n",
       "      <th>1</th>\n",
       "      <td>p74</td>\n",
       "      <td>p237</td>\n",
       "      <td>0.500000</td>\n",
       "      <td>criminal</td>\n",
       "      <td>innocent</td>\n",
       "    </tr>\n",
       "    <tr>\n",
       "      <th>2</th>\n",
       "      <td>p797</td>\n",
       "      <td>p293</td>\n",
       "      <td>0.500000</td>\n",
       "      <td>criminal</td>\n",
       "      <td>innocent</td>\n",
       "    </tr>\n",
       "    <tr>\n",
       "      <th>3</th>\n",
       "      <td>p269</td>\n",
       "      <td>p155</td>\n",
       "      <td>0.500000</td>\n",
       "      <td>innocent</td>\n",
       "      <td>innocent</td>\n",
       "    </tr>\n",
       "    <tr>\n",
       "      <th>4</th>\n",
       "      <td>p301</td>\n",
       "      <td>p815</td>\n",
       "      <td>0.500000</td>\n",
       "      <td>innocent</td>\n",
       "      <td>criminal</td>\n",
       "    </tr>\n",
       "    <tr>\n",
       "      <th>...</th>\n",
       "      <td>...</td>\n",
       "      <td>...</td>\n",
       "      <td>...</td>\n",
       "      <td>...</td>\n",
       "      <td>...</td>\n",
       "    </tr>\n",
       "    <tr>\n",
       "      <th>340948</th>\n",
       "      <td>p808</td>\n",
       "      <td>p315</td>\n",
       "      <td>0.000000</td>\n",
       "      <td>innocent</td>\n",
       "      <td>innocent</td>\n",
       "    </tr>\n",
       "    <tr>\n",
       "      <th>340949</th>\n",
       "      <td>p808</td>\n",
       "      <td>p184</td>\n",
       "      <td>0.000000</td>\n",
       "      <td>innocent</td>\n",
       "      <td>innocent</td>\n",
       "    </tr>\n",
       "    <tr>\n",
       "      <th>340950</th>\n",
       "      <td>p184</td>\n",
       "      <td>p115</td>\n",
       "      <td>0.000000</td>\n",
       "      <td>innocent</td>\n",
       "      <td>criminal</td>\n",
       "    </tr>\n",
       "    <tr>\n",
       "      <th>340951</th>\n",
       "      <td>p184</td>\n",
       "      <td>p315</td>\n",
       "      <td>0.000000</td>\n",
       "      <td>innocent</td>\n",
       "      <td>innocent</td>\n",
       "    </tr>\n",
       "    <tr>\n",
       "      <th>340952</th>\n",
       "      <td>p115</td>\n",
       "      <td>p315</td>\n",
       "      <td>0.000000</td>\n",
       "      <td>criminal</td>\n",
       "      <td>innocent</td>\n",
       "    </tr>\n",
       "  </tbody>\n",
       "</table>\n",
       "<p>340953 rows × 5 columns</p>\n",
       "</div>"
      ],
      "text/plain": [
       "       node1 node2  resource_allocation_score node1_status node2_status\n",
       "0       p336  p815                   0.708333     innocent     criminal\n",
       "1        p74  p237                   0.500000     criminal     innocent\n",
       "2       p797  p293                   0.500000     criminal     innocent\n",
       "3       p269  p155                   0.500000     innocent     innocent\n",
       "4       p301  p815                   0.500000     innocent     criminal\n",
       "...      ...   ...                        ...          ...          ...\n",
       "340948  p808  p315                   0.000000     innocent     innocent\n",
       "340949  p808  p184                   0.000000     innocent     innocent\n",
       "340950  p184  p115                   0.000000     innocent     criminal\n",
       "340951  p184  p315                   0.000000     innocent     innocent\n",
       "340952  p115  p315                   0.000000     criminal     innocent\n",
       "\n",
       "[340953 rows x 5 columns]"
      ]
     },
     "execution_count": 55,
     "metadata": {},
     "output_type": "execute_result"
    }
   ],
   "source": [
    "df_linkpred = pd.DataFrame(linkpred_ra, columns=['node1', 'node2', 'resource_allocation_score'])\n",
    "df_linkpred['node1_status'] = df_linkpred['node1'].map(criminals)\n",
    "df_linkpred['node2_status'] = df_linkpred['node2'].map(criminals)\n",
    "df_linkpred\n"
   ]
  },
  {
   "cell_type": "code",
   "execution_count": null,
   "metadata": {},
   "outputs": [],
   "source": [
    "# sns.displot(df_linkpred['resource_allocation_score'])"
   ]
  },
  {
   "cell_type": "code",
   "execution_count": null,
   "metadata": {},
   "outputs": [
    {
     "data": {
      "text/plain": [
       "name                HallLiz\n",
       "gender                  0.0\n",
       "bipartite                 0\n",
       "criminal_status    innocent\n",
       "node_degree               9\n",
       "Name: p336, dtype: object"
      ]
     },
     "execution_count": 63,
     "metadata": {},
     "output_type": "execute_result"
    }
   ],
   "source": [
    "df_G.iloc[335,:]"
   ]
  },
  {
   "cell_type": "code",
   "execution_count": null,
   "metadata": {},
   "outputs": [],
   "source": []
  }
 ],
 "metadata": {
  "interpreter": {
   "hash": "82a91a22060084f3e8dbe72ba49a002eddd687e7ed0e7d249946fe1b995c1ddc"
  },
  "kernelspec": {
   "display_name": "Python 3.8.11 64-bit ('base': conda)",
   "language": "python",
   "name": "python3"
  },
  "language_info": {
   "codemirror_mode": {
    "name": "ipython",
    "version": 3
   },
   "file_extension": ".py",
   "mimetype": "text/x-python",
   "name": "python",
   "nbconvert_exporter": "python",
   "pygments_lexer": "ipython3",
   "version": "3.8.12"
  },
  "orig_nbformat": 4
 },
 "nbformat": 4,
 "nbformat_minor": 2
}
