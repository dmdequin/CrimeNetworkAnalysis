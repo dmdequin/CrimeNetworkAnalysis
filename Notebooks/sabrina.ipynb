{
 "cells": [
  {
   "cell_type": "code",
   "execution_count": null,
   "metadata": {},
   "outputs": [],
   "source": [
    "import pandas as pd\n",
    "\n",
    "%matplotlib inline\n",
    "import matplotlib.pyplot as plt\n",
    "import networkx as nx\n",
    "from networkx.algorithms import bipartite\n",
    "\n",
    "import statistics as stats\n",
    "\n",
    "import seaborn as sns\n",
    "import numpy as np"
   ]
  },
  {
   "cell_type": "code",
   "execution_count": null,
   "metadata": {},
   "outputs": [],
   "source": [
    "al = '..//Data//out.moreno_crime_crime'\n",
    "gender = '..//Data//ent.moreno_crime_crime.person.sex'\n",
    "name = '..//Data//ent.moreno_crime_crime.person.name'\n",
    "role = '..//Data//rel.moreno_crime_crime.person.role'"
   ]
  },
  {
   "cell_type": "code",
   "execution_count": null,
   "metadata": {},
   "outputs": [],
   "source": [
    "al_df = pd.read_csv(al, sep=\" \", names=['person', 'crime'], index_col=False)\n",
    "al_df['person'] = 'p' + al_df['person'].astype(str)\n",
    "al_df['crime'] = 'c' + al_df['crime'].astype(str)\n",
    "al_df"
   ]
  },
  {
   "cell_type": "code",
   "execution_count": null,
   "metadata": {},
   "outputs": [],
   "source": [
    "gender_df = pd.read_csv(gender, sep=\" \", header=None, names=['gender'])\n",
    "gender_df['person'] = 'p' + gender_df.index.astype(str)\n",
    "gender_df.head(3)"
   ]
  },
  {
   "cell_type": "code",
   "execution_count": null,
   "metadata": {},
   "outputs": [],
   "source": [
    "name_df = pd.read_csv(name, sep=\" \", header=None, names=['name'])\n",
    "name_df['person'] = 'p' + gender_df.index.astype(str)\n",
    "name_df.head(3)\n",
    "# name_df.shape"
   ]
  },
  {
   "cell_type": "code",
   "execution_count": null,
   "metadata": {},
   "outputs": [],
   "source": [
    "role_df = pd.read_csv(role, sep=\",\", header=None)\n",
    "role_df.head(3)\n",
    "# role_df[0][2]\n",
    "# role_df.shape"
   ]
  },
  {
   "cell_type": "code",
   "execution_count": null,
   "metadata": {},
   "outputs": [],
   "source": [
    "people = al_df['person'].unique()\n",
    "crimes = al_df['crime'].unique()"
   ]
  },
  {
   "cell_type": "code",
   "execution_count": null,
   "metadata": {},
   "outputs": [],
   "source": [
    "len(people)"
   ]
  },
  {
   "cell_type": "code",
   "execution_count": null,
   "metadata": {},
   "outputs": [],
   "source": [
    "# create networkx graph\n",
    "G=nx.Graph()\n",
    "\n",
    "# # add nodes\n",
    "for i in range(len(people)):\n",
    "    G.add_node(people[i], name=name_df['name'][i], gender=gender_df['gender'][i], bipartite=0)\n",
    "\n",
    "for i in range(len(crimes)):\n",
    "    G.add_node(crimes[i], bipartite=1)\n",
    "\n",
    "# # add edges\n",
    "for i in range(len(al_df)):\n",
    "    G.add_edge(al_df['person'][i], al_df['crime'][i], role=role_df[0][i])"
   ]
  },
  {
   "cell_type": "code",
   "execution_count": null,
   "metadata": {},
   "outputs": [],
   "source": [
    "# Creating dict with all node degrees to add as attribute\n",
    "node_degrees = dict()\n",
    "\n",
    "# Createing dict for each node type\n",
    "people_degrees = dict()\n",
    "crimes_degrees = dict()\n",
    "\n",
    "# for loop to populate dicts above\n",
    "for node in G.nodes:\n",
    "    # print(G.edges(node, data=True))\n",
    "    node_degrees[node] = G.degree(node)\n",
    "    if node.startswith('p') == True:\n",
    "        people_degrees[node] = G.degree(node)\n",
    "    else:\n",
    "        crimes_degrees[node] = G.degree(node)\n"
   ]
  },
  {
   "cell_type": "code",
   "execution_count": null,
   "metadata": {},
   "outputs": [],
   "source": [
    "people_list = list()\n",
    "crime_list = list()\n",
    "role_list = list()"
   ]
  },
  {
   "cell_type": "code",
   "execution_count": null,
   "metadata": {},
   "outputs": [],
   "source": [
    "nx.make_clique_bipartite(G)"
   ]
  },
  {
   "cell_type": "code",
   "execution_count": null,
   "metadata": {},
   "outputs": [],
   "source": [
    "# people_degrees\n",
    "# crimes_degrees"
   ]
  },
  {
   "cell_type": "code",
   "execution_count": null,
   "metadata": {},
   "outputs": [],
   "source": [
    "# Add node degree as node attribute in graph G\n",
    "nx.set_node_attributes(G, node_degrees, \"node_degree\")"
   ]
  },
  {
   "cell_type": "code",
   "execution_count": null,
   "metadata": {},
   "outputs": [],
   "source": [
    "# code from https://stackoverflow.com/a/50775962\n",
    "# make pandas dataframe from graph with node attributes\n",
    "pd.DataFrame.from_dict(dict(G.nodes(data=True)), orient='index')"
   ]
  },
  {
   "cell_type": "code",
   "execution_count": null,
   "metadata": {},
   "outputs": [],
   "source": [
    "nx.get_node_attributes(G, 'node_degree')"
   ]
  },
  {
   "cell_type": "code",
   "execution_count": null,
   "metadata": {},
   "outputs": [],
   "source": [
    "sns.displot(data=pd.DataFrame.from_dict(people_degrees, orient='index'), x=0, kind=\"kde\")"
   ]
  },
  {
   "cell_type": "code",
   "execution_count": null,
   "metadata": {},
   "outputs": [],
   "source": [
    "sns.displot(data=pd.DataFrame.from_dict(crimes_degrees, orient='index'), x=0, kind=\"kde\")"
   ]
  },
  {
   "cell_type": "code",
   "execution_count": null,
   "metadata": {},
   "outputs": [],
   "source": [
    "print(\n",
    "    'Num. of nodes: {} \\nNum. of edges: {} \\nIs bipartite? {} \\nIs connected? {}'.format(\n",
    "        G.number_of_nodes(), \n",
    "        G.number_of_edges(), \n",
    "        nx.is_bipartite(G),\n",
    "        nx.is_connected(G)\n",
    "        )\n",
    "    )"
   ]
  },
  {
   "cell_type": "code",
   "execution_count": null,
   "metadata": {},
   "outputs": [],
   "source": [
    "# for e in G.edges(data=True):\n",
    "#     print(e[0], e[1], e[2]['role'])"
   ]
  },
  {
   "cell_type": "code",
   "execution_count": null,
   "metadata": {},
   "outputs": [],
   "source": [
    "people_list = list()\n",
    "crime_list = list()\n",
    "role_list = list()"
   ]
  },
  {
   "cell_type": "code",
   "execution_count": null,
   "metadata": {},
   "outputs": [],
   "source": [
    "\n",
    "for e in G.edges(data=True):\n",
    "    # print(e[0], e[1], e[2]['role'])\n",
    "    people_list.append(e[0])\n",
    "    crime_list.append(e[1])\n",
    "    role_list.append(e[2]['role'])\n"
   ]
  },
  {
   "cell_type": "code",
   "execution_count": null,
   "metadata": {},
   "outputs": [],
   "source": [
    "zipped = list(zip(people_list, crime_list, role_list))\n",
    "df_crimes = pd.DataFrame(zipped, columns=['person', 'crime', 'role'])\n",
    "df_crimes"
   ]
  },
  {
   "cell_type": "code",
   "execution_count": null,
   "metadata": {},
   "outputs": [],
   "source": [
    "table = pd.pivot_table(df_crimes, values='person', index=['person'], columns=['role'], aggfunc='count')\n",
    "table['total_crimes'] = table.sum(axis=1)\n",
    "table"
   ]
  },
  {
   "cell_type": "code",
   "execution_count": null,
   "metadata": {},
   "outputs": [],
   "source": [
    "table.corr()"
   ]
  },
  {
   "cell_type": "code",
   "execution_count": null,
   "metadata": {},
   "outputs": [],
   "source": [
    "table = pd.pivot_table(df_crimes, values='person', columns=['role'], aggfunc='count')\n",
    "table['total_crimes'] = table.sum(axis=1)\n",
    "table"
   ]
  },
  {
   "cell_type": "code",
   "execution_count": null,
   "metadata": {},
   "outputs": [],
   "source": [
    "# df_crimes.groupby(['Role','Person']).size()"
   ]
  },
  {
   "cell_type": "markdown",
   "metadata": {},
   "source": [
    "From the official Networkx docs: https://networkx.org/documentation/stable/reference/algorithms/bipartite.html\n",
    "\n",
    "Many algorithms of the bipartite module of NetworkX require, as an argument, a container with all the nodes that belong to one set, in addition to the bipartite graph B. The functions in the bipartite package do not check that the node set is actually correct nor that the input graph is actually bipartite. If B is connected, you can find the two node sets using a two-coloring algorithm:\n",
    "\n",
    "```py\n",
    ">>> nx.is_connected(B)\n",
    "True\n",
    ">>> bottom_nodes, top_nodes = bipartite.sets(B)\n",
    "```\n",
    "However, if the input graph is not connected, there are more than one possible colorations. This is the reason why we require the user to pass a container with all nodes of one bipartite node set as an argument to most bipartite functions. In the face of ambiguity, we refuse the temptation to guess and raise an AmbiguousSolution Exception if the input graph for bipartite.sets is disconnected.\n",
    "\n",
    "Using the bipartite node attribute, you can easily get the two node sets:"
   ]
  },
  {
   "cell_type": "code",
   "execution_count": null,
   "metadata": {},
   "outputs": [],
   "source": [
    "people_nodes = {n for n, d in G.nodes(data=True) if d[\"bipartite\"] == 0}\n",
    "crime_nodes = set(G) - people_nodes"
   ]
  },
  {
   "cell_type": "markdown",
   "metadata": {},
   "source": [
    "# Graphing"
   ]
  },
  {
   "cell_type": "code",
   "execution_count": null,
   "metadata": {},
   "outputs": [],
   "source": [
    "import nxviz as nv\n",
    "import matplotlib.pyplot as plt\n",
    "\n",
    "fig, ax = plt.subplots(figsize=(7, 7))\n",
    "nv.circos(\n",
    "    G, \n",
    "    # sort_by=\"degree\", \n",
    "    group_by=\"bipartite\", \n",
    "    node_color_by=\"bipartite\", \n",
    "    node_enc_kwargs={\"size_scale\": 3}\n",
    "    )"
   ]
  },
  {
   "cell_type": "code",
   "execution_count": null,
   "metadata": {},
   "outputs": [],
   "source": [
    "options = {\n",
    "    'node_color': 'orange',\n",
    "    'node_size': 10,\n",
    "    # 'width': 3,\n",
    "    'edge_color': 'black', \n",
    "    'linewidths': 1, \n",
    "    'font_size': 8,\n",
    "    'with_labels': False\n",
    "}\n",
    "\n",
    "pos=nx.bipartite_layout(G, people_nodes)\n",
    "nx.draw(G, pos, **options)"
   ]
  },
  {
   "cell_type": "code",
   "execution_count": null,
   "metadata": {},
   "outputs": [],
   "source": [
    "options = {\n",
    "    'node_color': 'orange',\n",
    "    'node_size': 10,\n",
    "    'edge_color': 'gray', \n",
    "    'linewidths': 1, \n",
    "    'font_size': 8,\n",
    "    'with_labels': False\n",
    "}\n",
    "\n",
    "# Get the edge labels for ratings\n",
    "edge_labels = nx.get_edge_attributes(G, 'role')\n",
    "# edge_labels\n",
    "\n",
    "# pos=nx.bipartite_layout(G, top_nodes)\n",
    "# nx.draw(G,pos, **options)\n",
    "\n",
    "\n",
    "pos=nx.spring_layout(G)\n",
    "nx.draw(G, pos, **options)\n",
    "# Draw the edge labels\n",
    "# nx.draw_networkx_edge_labels(G, pos, edge_labels=edge_labels)"
   ]
  },
  {
   "cell_type": "code",
   "execution_count": null,
   "metadata": {},
   "outputs": [],
   "source": [
    "nx.get_node_attributes(G, 'bipartite').values()"
   ]
  },
  {
   "cell_type": "markdown",
   "metadata": {},
   "source": [
    "# Stats"
   ]
  },
  {
   "cell_type": "code",
   "execution_count": null,
   "metadata": {},
   "outputs": [],
   "source": [
    "bipartite.density(G, people_nodes)"
   ]
  },
  {
   "cell_type": "code",
   "execution_count": null,
   "metadata": {},
   "outputs": [],
   "source": [
    "bipartite.average_clustering(G)"
   ]
  },
  {
   "cell_type": "code",
   "execution_count": null,
   "metadata": {},
   "outputs": [],
   "source": [
    "clustering = bipartite.clustering(G)\n",
    "clustering"
   ]
  },
  {
   "cell_type": "code",
   "execution_count": null,
   "metadata": {},
   "outputs": [],
   "source": [
    "vals_cc = bipartite.closeness_centrality(G, people_nodes)"
   ]
  },
  {
   "cell_type": "code",
   "execution_count": null,
   "metadata": {},
   "outputs": [],
   "source": [
    "print(\n",
    "    'Closeness centrality \\nMax : {} \\nMin: {} \\nMean: {} \\nMedian: {}'.format(\n",
    "        max(vals_cc, key=vals_cc.get),\n",
    "        min(vals_cc, key=vals_cc.get),\n",
    "        stats.mean(vals_cc.values()),\n",
    "        stats.median(vals_cc.values())\n",
    "        )\n",
    "    )\n",
    "\n",
    "    # why min is a crime?? using top nodes"
   ]
  },
  {
   "cell_type": "code",
   "execution_count": null,
   "metadata": {},
   "outputs": [],
   "source": [
    "vals_bc = bipartite.betweenness_centrality(G, people_nodes)"
   ]
  },
  {
   "cell_type": "code",
   "execution_count": null,
   "metadata": {},
   "outputs": [],
   "source": [
    "print(\n",
    "    'Betweenness centrality \\nMax : {} \\nMin: {} \\nMean: {} \\nMedian: {}'.format(\n",
    "        max(vals_bc, key=vals_bc.get),\n",
    "        min(vals_bc, key=vals_bc.get),\n",
    "        stats.mean(vals_bc.values()),\n",
    "        stats.median(vals_bc.values())\n",
    "        )\n",
    "    )"
   ]
  },
  {
   "cell_type": "code",
   "execution_count": null,
   "metadata": {},
   "outputs": [],
   "source": [
    "# nx.get_edge_attributes(G, 'role')\n",
    "set(nx.get_edge_attributes(G, 'role').values())"
   ]
  },
  {
   "cell_type": "code",
   "execution_count": null,
   "metadata": {},
   "outputs": [],
   "source": [
    "# for i in G.edges():\n",
    "#     print(i)"
   ]
  },
  {
   "cell_type": "code",
   "execution_count": null,
   "metadata": {},
   "outputs": [],
   "source": [
    "G.edges[('p21', 'c53')]"
   ]
  },
  {
   "cell_type": "code",
   "execution_count": null,
   "metadata": {},
   "outputs": [],
   "source": [
    "pos = nx.spring_layout(G)\n",
    "plt.figure(3,figsize=(12,12))\n",
    "node_cmap = []\n",
    "edge_cmap = []\n",
    "\n",
    "for node in G:\n",
    "    if node.startswith('p'):\n",
    "        node_cmap.append('green')\n",
    "    else:\n",
    "        node_cmap.append('red')\n",
    "\n",
    "for edge in G.edges():\n",
    "    # edge_cmap.append() \n",
    "    e_role = G.edges[edge]['role'] \n",
    "    if e_role == 'Suspect':\n",
    "        edge_cmap.append('red')\n",
    "    if e_role == 'Victim':\n",
    "        edge_cmap.append('blue')\n",
    "    if e_role == 'Victim Suspect':\n",
    "        edge_cmap.append('orange')\n",
    "    if e_role == 'Witness':\n",
    "        edge_cmap.append('green')\n",
    "    \n",
    "\n",
    "\n",
    "\n",
    "nx.draw(G, pos, node_color=node_cmap, edge_color=edge_cmap, with_labels = False, node_size = 2, width = 0.5)\n",
    "plt.show()"
   ]
  },
  {
   "cell_type": "markdown",
   "metadata": {},
   "source": [
    "# Projection"
   ]
  },
  {
   "cell_type": "code",
   "execution_count": null,
   "metadata": {},
   "outputs": [],
   "source": [
    "weighted_person_graph = bipartite.weighted_projected_graph(G, people_nodes, ratio=True)\n",
    "list(weighted_person_graph.edges(data=True))[0:5]\n"
   ]
  },
  {
   "cell_type": "code",
   "execution_count": null,
   "metadata": {},
   "outputs": [],
   "source": [
    "weighted_crime_graph = bipartite.weighted_projected_graph(G, crime_nodes, ratio=True)\n",
    "list(weighted_crime_graph.edges(data=True))[0:5]"
   ]
  },
  {
   "cell_type": "markdown",
   "metadata": {},
   "source": [
    "## Newman collaboration"
   ]
  },
  {
   "cell_type": "code",
   "execution_count": null,
   "metadata": {},
   "outputs": [],
   "source": [
    "weighted_person_graph = bipartite.collaboration_weighted_projected_graph(G, people_nodes)\n",
    "list(weighted_person_graph.edges(data=True))[0:5]"
   ]
  },
  {
   "cell_type": "markdown",
   "metadata": {},
   "source": [
    "# Largest connected componenet"
   ]
  },
  {
   "cell_type": "code",
   "execution_count": null,
   "metadata": {},
   "outputs": [],
   "source": [
    "# components in the graph sorted in descendent order\n",
    "sorted_components = sorted(nx.connected_components(G), key=len, reverse=True)\n",
    "\n",
    "# selecting the biggest component\n",
    "BCC = G.subgraph(sorted_components[0])"
   ]
  },
  {
   "cell_type": "code",
   "execution_count": null,
   "metadata": {},
   "outputs": [],
   "source": [
    "BCC_people_nodes = nx.bipartite.sets(BCC)[0]\n",
    "\n",
    "# different layouts of graph\n",
    "lay_spring = nx.spring_layout(BCC)\n",
    "lay_bip = nx.bipartite_layout(BCC, BCC_people_nodes)"
   ]
  },
  {
   "cell_type": "code",
   "execution_count": null,
   "metadata": {},
   "outputs": [],
   "source": [
    "biggest_comp_graph = nx.draw(BCC, lay_spring, node_size=10)"
   ]
  },
  {
   "cell_type": "code",
   "execution_count": null,
   "metadata": {},
   "outputs": [],
   "source": [
    "# number of nodes in the all graph\n",
    "num_people = len(set(al_df['person']))\n",
    "num_crime = len(set(al_df['crime']))\n",
    "f'Number of people: {num_people} and number of crimes: {num_crime}'"
   ]
  },
  {
   "cell_type": "code",
   "execution_count": null,
   "metadata": {},
   "outputs": [],
   "source": [
    "for e in BCC.edges(data=True):\n",
    "    print(e)"
   ]
  },
  {
   "cell_type": "code",
   "execution_count": null,
   "metadata": {},
   "outputs": [],
   "source": [
    "print(\n",
    "    'Num. of nodes: {} \\nNum. of edges: {} \\nIs bipartite? {} \\nIs connected? {}'.format(\n",
    "        BCC.number_of_nodes(), \n",
    "        BCC.number_of_edges(), \n",
    "        nx.is_bipartite(BCC),\n",
    "        nx.is_connected(BCC)\n",
    "        )\n",
    "    )"
   ]
  },
  {
   "cell_type": "markdown",
   "metadata": {},
   "source": [
    "flatting - weights indicate how many layers a node has in common\n",
    "    - lose information about types of connections\n",
    "    - if types of nodes are different you can't even do this\n",
    "\n",
    "victim - out degree\n",
    "suspect - in degree"
   ]
  },
  {
   "cell_type": "code",
   "execution_count": null,
   "metadata": {},
   "outputs": [],
   "source": [
    "# plot only biggest component\n",
    "pos = nx.spring_layout(BCC)\n",
    "posB = nx.bipartite_layout(BCC, BCC_people_nodes)\n",
    "biggest_comp_graph = nx.draw_spring(BCC,node_size=10)"
   ]
  },
  {
   "cell_type": "code",
   "execution_count": null,
   "metadata": {},
   "outputs": [],
   "source": [
    "# Just the People from the LCC\n",
    "P = bipartite.weighted_projected_graph(BCC, BCC_people_nodes)\n",
    "nx.draw(P, node_size=10)"
   ]
  },
  {
   "cell_type": "code",
   "execution_count": null,
   "metadata": {},
   "outputs": [],
   "source": [
    "P.degree()"
   ]
  },
  {
   "cell_type": "code",
   "execution_count": null,
   "metadata": {},
   "outputs": [],
   "source": [
    "# node = G0.nodes['p271']\n",
    "x = list(BCC.neighbors('p715'))\n",
    "for i in x:\n",
    "    print(i, list(BCC.neighbors(i)))"
   ]
  },
  {
   "cell_type": "code",
   "execution_count": null,
   "metadata": {},
   "outputs": [],
   "source": []
  }
 ],
 "metadata": {
  "interpreter": {
   "hash": "82a91a22060084f3e8dbe72ba49a002eddd687e7ed0e7d249946fe1b995c1ddc"
  },
  "kernelspec": {
   "display_name": "Python 3.8.11 64-bit ('base': conda)",
   "name": "python3"
  },
  "language_info": {
   "codemirror_mode": {
    "name": "ipython",
    "version": 3
   },
   "file_extension": ".py",
   "mimetype": "text/x-python",
   "name": "python",
   "nbconvert_exporter": "python",
   "pygments_lexer": "ipython3",
   "version": "3.8.11"
  },
  "orig_nbformat": 4
 },
 "nbformat": 4,
 "nbformat_minor": 2
}
