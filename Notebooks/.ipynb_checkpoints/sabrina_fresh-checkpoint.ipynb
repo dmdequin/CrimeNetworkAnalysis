{
 "cells": [
  {
   "cell_type": "markdown",
   "metadata": {},
   "source": [
    "# Goal\n",
    "- Find false innocents, could be through:\n",
    "    - connections with many criminal nodes?\n",
    "    - connection to a big criminal hub?\n",
    "\n",
    "# Assumptions\n",
    "- People connected to a crime as suspect or suspect/victim will be considered as being guilty of the crime they are connected to\n",
    "- \n",
    "\n",
    "## Node categorisation\n",
    "- criminal nodes: nodes that have been a suspect in a acrime at least once\n",
    "- innocent nodes: nodes that have been only victims and/or witness\n",
    "\n",
    "## Suspect role\n"
   ]
  },
  {
   "cell_type": "markdown",
   "metadata": {},
   "source": [
    "# Work plan\n",
    "Research question: is it possible to detect criminals that were not previously caught? - \"criminal\" disguised as \"innocent\"\n",
    "\n",
    "- Does a strong link prediction between a criminal and an innocent suggests that the innocent might be a criminal in disguise?\n",
    "- Compare the results from link prediction and community detection\n",
    "- If they are in the same community? Is that an even stronger indication of a possible criminal?"
   ]
  },
  {
   "cell_type": "markdown",
   "metadata": {},
   "source": [
    "# Imports"
   ]
  },
  {
   "cell_type": "code",
   "execution_count": 1,
   "metadata": {},
   "outputs": [],
   "source": [
    "import pandas as pd\n",
    "import statistics as stats\n",
    "import numpy as np\n",
    "\n",
    "import networkx as nx\n",
    "from networkx.algorithms import bipartite\n",
    "\n",
    "%matplotlib inline\n",
    "import matplotlib.pyplot as plt\n",
    "import seaborn as sns"
   ]
  },
  {
   "cell_type": "code",
   "execution_count": 2,
   "metadata": {},
   "outputs": [
    {
     "name": "stdout",
     "output_type": "stream",
     "text": [
      "seaborn version 0.11.0\n",
      "pandas version 1.1.3\n"
     ]
    }
   ],
   "source": [
    "print('seaborn version', sns.__version__)\n",
    "print('pandas version', pd.__version__)"
   ]
  },
  {
   "cell_type": "markdown",
   "metadata": {},
   "source": [
    "# Read data"
   ]
  },
  {
   "cell_type": "code",
   "execution_count": 3,
   "metadata": {},
   "outputs": [],
   "source": [
    "al = '..//Data//out.moreno_crime_crime'\n",
    "gender = '..//Data//ent.moreno_crime_crime.person.sex'\n",
    "name = '..//Data//ent.moreno_crime_crime.person.name'\n",
    "role = '..//Data//rel.moreno_crime_crime.person.role'"
   ]
  },
  {
   "cell_type": "markdown",
   "metadata": {},
   "source": [
    "## Adjancency list as DataFrame"
   ]
  },
  {
   "cell_type": "code",
   "execution_count": 4,
   "metadata": {},
   "outputs": [
    {
     "data": {
      "text/plain": [
       "(1476, 2)"
      ]
     },
     "execution_count": 4,
     "metadata": {},
     "output_type": "execute_result"
    }
   ],
   "source": [
    "df_al = pd.read_csv(al, sep=\" \", names=['person', 'crime'], index_col=False)\n",
    "df_al['person'] = 'p' + df_al['person'].astype(str)\n",
    "df_al['crime'] = 'c' + df_al['crime'].astype(str)\n",
    "df_al.head(3)\n",
    "df_al.shape"
   ]
  },
  {
   "cell_type": "markdown",
   "metadata": {},
   "source": [
    "## Gender Dataframe"
   ]
  },
  {
   "cell_type": "code",
   "execution_count": 5,
   "metadata": {},
   "outputs": [
    {
     "data": {
      "text/html": [
       "<div>\n",
       "<style scoped>\n",
       "    .dataframe tbody tr th:only-of-type {\n",
       "        vertical-align: middle;\n",
       "    }\n",
       "\n",
       "    .dataframe tbody tr th {\n",
       "        vertical-align: top;\n",
       "    }\n",
       "\n",
       "    .dataframe thead th {\n",
       "        text-align: right;\n",
       "    }\n",
       "</style>\n",
       "<table border=\"1\" class=\"dataframe\">\n",
       "  <thead>\n",
       "    <tr style=\"text-align: right;\">\n",
       "      <th></th>\n",
       "      <th>gender</th>\n",
       "      <th>person</th>\n",
       "    </tr>\n",
       "  </thead>\n",
       "  <tbody>\n",
       "    <tr>\n",
       "      <th>0</th>\n",
       "      <td>1</td>\n",
       "      <td>p0</td>\n",
       "    </tr>\n",
       "    <tr>\n",
       "      <th>1</th>\n",
       "      <td>1</td>\n",
       "      <td>p1</td>\n",
       "    </tr>\n",
       "    <tr>\n",
       "      <th>2</th>\n",
       "      <td>1</td>\n",
       "      <td>p2</td>\n",
       "    </tr>\n",
       "  </tbody>\n",
       "</table>\n",
       "</div>"
      ],
      "text/plain": [
       "   gender person\n",
       "0       1     p0\n",
       "1       1     p1\n",
       "2       1     p2"
      ]
     },
     "execution_count": 5,
     "metadata": {},
     "output_type": "execute_result"
    }
   ],
   "source": [
    "df_gender = pd.read_csv(gender, sep=\" \", header=None, names=['gender'])\n",
    "df_gender['person'] = 'p' + df_gender.index.astype(str)\n",
    "df_gender.head(3)"
   ]
  },
  {
   "cell_type": "markdown",
   "metadata": {},
   "source": [
    "## Name DataFrame"
   ]
  },
  {
   "cell_type": "code",
   "execution_count": 6,
   "metadata": {},
   "outputs": [
    {
     "data": {
      "text/html": [
       "<div>\n",
       "<style scoped>\n",
       "    .dataframe tbody tr th:only-of-type {\n",
       "        vertical-align: middle;\n",
       "    }\n",
       "\n",
       "    .dataframe tbody tr th {\n",
       "        vertical-align: top;\n",
       "    }\n",
       "\n",
       "    .dataframe thead th {\n",
       "        text-align: right;\n",
       "    }\n",
       "</style>\n",
       "<table border=\"1\" class=\"dataframe\">\n",
       "  <thead>\n",
       "    <tr style=\"text-align: right;\">\n",
       "      <th></th>\n",
       "      <th>name</th>\n",
       "      <th>person</th>\n",
       "    </tr>\n",
       "  </thead>\n",
       "  <tbody>\n",
       "    <tr>\n",
       "      <th>0</th>\n",
       "      <td>AbelDennis</td>\n",
       "      <td>p0</td>\n",
       "    </tr>\n",
       "    <tr>\n",
       "      <th>1</th>\n",
       "      <td>AbramsChad</td>\n",
       "      <td>p1</td>\n",
       "    </tr>\n",
       "    <tr>\n",
       "      <th>2</th>\n",
       "      <td>AbramsDavid</td>\n",
       "      <td>p2</td>\n",
       "    </tr>\n",
       "  </tbody>\n",
       "</table>\n",
       "</div>"
      ],
      "text/plain": [
       "          name person\n",
       "0   AbelDennis     p0\n",
       "1   AbramsChad     p1\n",
       "2  AbramsDavid     p2"
      ]
     },
     "execution_count": 6,
     "metadata": {},
     "output_type": "execute_result"
    }
   ],
   "source": [
    "df_name = pd.read_csv(name, sep=\" \", header=None, names=['name'])\n",
    "df_name['person'] = 'p' + df_name.index.astype(str)\n",
    "df_name.head(3)"
   ]
  },
  {
   "cell_type": "markdown",
   "metadata": {},
   "source": [
    "## Role Dataframe"
   ]
  },
  {
   "cell_type": "code",
   "execution_count": 7,
   "metadata": {},
   "outputs": [
    {
     "data": {
      "text/plain": [
       "(1476, 1)"
      ]
     },
     "execution_count": 7,
     "metadata": {},
     "output_type": "execute_result"
    }
   ],
   "source": [
    "df_role = pd.read_csv(role, sep=\",\", header=None, names=['role'])\n",
    "# df_role.head(3)\n",
    "df_role.shape"
   ]
  },
  {
   "cell_type": "markdown",
   "metadata": {},
   "source": [
    "## Join adjancency list with role"
   ]
  },
  {
   "cell_type": "code",
   "execution_count": 8,
   "metadata": {},
   "outputs": [
    {
     "data": {
      "text/html": [
       "<div>\n",
       "<style scoped>\n",
       "    .dataframe tbody tr th:only-of-type {\n",
       "        vertical-align: middle;\n",
       "    }\n",
       "\n",
       "    .dataframe tbody tr th {\n",
       "        vertical-align: top;\n",
       "    }\n",
       "\n",
       "    .dataframe thead th {\n",
       "        text-align: right;\n",
       "    }\n",
       "</style>\n",
       "<table border=\"1\" class=\"dataframe\">\n",
       "  <thead>\n",
       "    <tr style=\"text-align: right;\">\n",
       "      <th></th>\n",
       "      <th>person</th>\n",
       "      <th>crime</th>\n",
       "      <th>role</th>\n",
       "    </tr>\n",
       "  </thead>\n",
       "  <tbody>\n",
       "    <tr>\n",
       "      <th>0</th>\n",
       "      <td>p1</td>\n",
       "      <td>c1</td>\n",
       "      <td>Suspect</td>\n",
       "    </tr>\n",
       "    <tr>\n",
       "      <th>1</th>\n",
       "      <td>p1</td>\n",
       "      <td>c2</td>\n",
       "      <td>Victim</td>\n",
       "    </tr>\n",
       "    <tr>\n",
       "      <th>2</th>\n",
       "      <td>p1</td>\n",
       "      <td>c3</td>\n",
       "      <td>Victim</td>\n",
       "    </tr>\n",
       "  </tbody>\n",
       "</table>\n",
       "</div>"
      ],
      "text/plain": [
       "  person crime     role\n",
       "0     p1    c1  Suspect\n",
       "1     p1    c2   Victim\n",
       "2     p1    c3   Victim"
      ]
     },
     "execution_count": 8,
     "metadata": {},
     "output_type": "execute_result"
    }
   ],
   "source": [
    "df_al_roles = df_al.join(df_role)\n",
    "df_al_roles.head(3)"
   ]
  },
  {
   "cell_type": "code",
   "execution_count": 9,
   "metadata": {},
   "outputs": [
    {
     "data": {
      "text/html": [
       "<div>\n",
       "<style scoped>\n",
       "    .dataframe tbody tr th:only-of-type {\n",
       "        vertical-align: middle;\n",
       "    }\n",
       "\n",
       "    .dataframe tbody tr th {\n",
       "        vertical-align: top;\n",
       "    }\n",
       "\n",
       "    .dataframe thead th {\n",
       "        text-align: right;\n",
       "    }\n",
       "</style>\n",
       "<table border=\"1\" class=\"dataframe\">\n",
       "  <thead>\n",
       "    <tr style=\"text-align: right;\">\n",
       "      <th></th>\n",
       "      <th>person</th>\n",
       "      <th>crime</th>\n",
       "      <th>role</th>\n",
       "    </tr>\n",
       "  </thead>\n",
       "  <tbody>\n",
       "    <tr>\n",
       "      <th>1434</th>\n",
       "      <td>p815</td>\n",
       "      <td>c511</td>\n",
       "      <td>Suspect</td>\n",
       "    </tr>\n",
       "    <tr>\n",
       "      <th>1435</th>\n",
       "      <td>p815</td>\n",
       "      <td>c513</td>\n",
       "      <td>Suspect</td>\n",
       "    </tr>\n",
       "    <tr>\n",
       "      <th>1436</th>\n",
       "      <td>p815</td>\n",
       "      <td>c529</td>\n",
       "      <td>Suspect</td>\n",
       "    </tr>\n",
       "    <tr>\n",
       "      <th>1437</th>\n",
       "      <td>p815</td>\n",
       "      <td>c546</td>\n",
       "      <td>Suspect</td>\n",
       "    </tr>\n",
       "    <tr>\n",
       "      <th>1438</th>\n",
       "      <td>p815</td>\n",
       "      <td>c308</td>\n",
       "      <td>Suspect</td>\n",
       "    </tr>\n",
       "    <tr>\n",
       "      <th>1439</th>\n",
       "      <td>p815</td>\n",
       "      <td>c489</td>\n",
       "      <td>Suspect</td>\n",
       "    </tr>\n",
       "    <tr>\n",
       "      <th>1440</th>\n",
       "      <td>p815</td>\n",
       "      <td>c473</td>\n",
       "      <td>Suspect</td>\n",
       "    </tr>\n",
       "    <tr>\n",
       "      <th>1441</th>\n",
       "      <td>p815</td>\n",
       "      <td>c525</td>\n",
       "      <td>Victim</td>\n",
       "    </tr>\n",
       "    <tr>\n",
       "      <th>1442</th>\n",
       "      <td>p815</td>\n",
       "      <td>c400</td>\n",
       "      <td>Suspect</td>\n",
       "    </tr>\n",
       "    <tr>\n",
       "      <th>1443</th>\n",
       "      <td>p815</td>\n",
       "      <td>c133</td>\n",
       "      <td>Suspect</td>\n",
       "    </tr>\n",
       "    <tr>\n",
       "      <th>1444</th>\n",
       "      <td>p815</td>\n",
       "      <td>c359</td>\n",
       "      <td>Suspect</td>\n",
       "    </tr>\n",
       "    <tr>\n",
       "      <th>1445</th>\n",
       "      <td>p815</td>\n",
       "      <td>c185</td>\n",
       "      <td>Suspect</td>\n",
       "    </tr>\n",
       "    <tr>\n",
       "      <th>1446</th>\n",
       "      <td>p815</td>\n",
       "      <td>c47</td>\n",
       "      <td>Suspect</td>\n",
       "    </tr>\n",
       "    <tr>\n",
       "      <th>1447</th>\n",
       "      <td>p815</td>\n",
       "      <td>c547</td>\n",
       "      <td>Suspect</td>\n",
       "    </tr>\n",
       "    <tr>\n",
       "      <th>1448</th>\n",
       "      <td>p815</td>\n",
       "      <td>c548</td>\n",
       "      <td>Suspect</td>\n",
       "    </tr>\n",
       "    <tr>\n",
       "      <th>1449</th>\n",
       "      <td>p815</td>\n",
       "      <td>c352</td>\n",
       "      <td>Suspect</td>\n",
       "    </tr>\n",
       "    <tr>\n",
       "      <th>1450</th>\n",
       "      <td>p815</td>\n",
       "      <td>c549</td>\n",
       "      <td>Suspect</td>\n",
       "    </tr>\n",
       "    <tr>\n",
       "      <th>1451</th>\n",
       "      <td>p815</td>\n",
       "      <td>c499</td>\n",
       "      <td>Suspect</td>\n",
       "    </tr>\n",
       "    <tr>\n",
       "      <th>1452</th>\n",
       "      <td>p815</td>\n",
       "      <td>c550</td>\n",
       "      <td>Victim</td>\n",
       "    </tr>\n",
       "    <tr>\n",
       "      <th>1453</th>\n",
       "      <td>p815</td>\n",
       "      <td>c551</td>\n",
       "      <td>Suspect</td>\n",
       "    </tr>\n",
       "    <tr>\n",
       "      <th>1454</th>\n",
       "      <td>p815</td>\n",
       "      <td>c404</td>\n",
       "      <td>Suspect</td>\n",
       "    </tr>\n",
       "    <tr>\n",
       "      <th>1455</th>\n",
       "      <td>p815</td>\n",
       "      <td>c512</td>\n",
       "      <td>Suspect</td>\n",
       "    </tr>\n",
       "    <tr>\n",
       "      <th>1456</th>\n",
       "      <td>p815</td>\n",
       "      <td>c160</td>\n",
       "      <td>Suspect</td>\n",
       "    </tr>\n",
       "    <tr>\n",
       "      <th>1457</th>\n",
       "      <td>p815</td>\n",
       "      <td>c415</td>\n",
       "      <td>Suspect</td>\n",
       "    </tr>\n",
       "    <tr>\n",
       "      <th>1458</th>\n",
       "      <td>p815</td>\n",
       "      <td>c256</td>\n",
       "      <td>Suspect</td>\n",
       "    </tr>\n",
       "  </tbody>\n",
       "</table>\n",
       "</div>"
      ],
      "text/plain": [
       "     person crime     role\n",
       "1434   p815  c511  Suspect\n",
       "1435   p815  c513  Suspect\n",
       "1436   p815  c529  Suspect\n",
       "1437   p815  c546  Suspect\n",
       "1438   p815  c308  Suspect\n",
       "1439   p815  c489  Suspect\n",
       "1440   p815  c473  Suspect\n",
       "1441   p815  c525   Victim\n",
       "1442   p815  c400  Suspect\n",
       "1443   p815  c133  Suspect\n",
       "1444   p815  c359  Suspect\n",
       "1445   p815  c185  Suspect\n",
       "1446   p815   c47  Suspect\n",
       "1447   p815  c547  Suspect\n",
       "1448   p815  c548  Suspect\n",
       "1449   p815  c352  Suspect\n",
       "1450   p815  c549  Suspect\n",
       "1451   p815  c499  Suspect\n",
       "1452   p815  c550   Victim\n",
       "1453   p815  c551  Suspect\n",
       "1454   p815  c404  Suspect\n",
       "1455   p815  c512  Suspect\n",
       "1456   p815  c160  Suspect\n",
       "1457   p815  c415  Suspect\n",
       "1458   p815  c256  Suspect"
      ]
     },
     "execution_count": 9,
     "metadata": {},
     "output_type": "execute_result"
    }
   ],
   "source": [
    "df_al_roles[df_al_roles['person'] == 'p815']"
   ]
  },
  {
   "cell_type": "code",
   "execution_count": 10,
   "metadata": {},
   "outputs": [],
   "source": [
    "# group bys gives us the same as degree distribution\n",
    "# df_al_roles.groupby(by='person', dropna=False).count()\n",
    "# df_al_roles.groupby(by=['crime', 'role'], dropna=False).count()"
   ]
  },
  {
   "cell_type": "markdown",
   "metadata": {},
   "source": [
    "## Basic data stats"
   ]
  },
  {
   "cell_type": "code",
   "execution_count": 11,
   "metadata": {},
   "outputs": [
    {
     "name": "stdout",
     "output_type": "stream",
     "text": [
      "Number of people: 829\n",
      "Number of crimes: 551\n",
      "Number of roles: 4\n",
      "Number of edges: 1476\n"
     ]
    }
   ],
   "source": [
    "# the following are used to create the graph\n",
    "people = df_al['person'].unique()\n",
    "crimes = df_al['crime'].unique()\n",
    "roles = df_role['role'].unique()\n",
    "\n",
    "# print stats\n",
    "print('Number of people:', len(people))\n",
    "print('Number of crimes:', len(crimes))\n",
    "print('Number of roles:', len(roles))\n",
    "print('Number of edges:', len(df_al_roles))\n"
   ]
  },
  {
   "cell_type": "markdown",
   "metadata": {},
   "source": [
    "Breakdown of roles"
   ]
  },
  {
   "cell_type": "code",
   "execution_count": 12,
   "metadata": {},
   "outputs": [
    {
     "data": {
      "text/plain": [
       "role          \n",
       "Suspect           682\n",
       "Victim            558\n",
       "Witness           195\n",
       "Victim Suspect     41\n",
       "dtype: int64"
      ]
     },
     "execution_count": 12,
     "metadata": {},
     "output_type": "execute_result"
    }
   ],
   "source": [
    "df_role.value_counts()"
   ]
  },
  {
   "cell_type": "markdown",
   "metadata": {},
   "source": [
    "# Make graph"
   ]
  },
  {
   "cell_type": "code",
   "execution_count": 13,
   "metadata": {},
   "outputs": [],
   "source": [
    "# G=nx.from_pandas_dataframe(df_al_roles, 0, 'b', ['weight', 'cost'])"
   ]
  },
  {
   "cell_type": "code",
   "execution_count": 14,
   "metadata": {},
   "outputs": [],
   "source": [
    "# create networkx graph\n",
    "G = nx.Graph()\n",
    "\n",
    "# # add nodes\n",
    "for i in range(len(people)):\n",
    "    G.add_node(people[i], name=df_name['name'][i], gender=df_gender['gender'][i], bipartite=0)\n",
    "\n",
    "for i in range(len(crimes)):\n",
    "    G.add_node(crimes[i], bipartite=1)\n",
    "\n",
    "# # add edges\n",
    "for i in range(len(df_al)):\n",
    "    G.add_edge(df_al_roles['person'][i], df_al_roles['crime'][i], role=df_al_roles['role'][i])"
   ]
  },
  {
   "cell_type": "markdown",
   "metadata": {},
   "source": [
    "## Assign node status"
   ]
  },
  {
   "cell_type": "code",
   "execution_count": 15,
   "metadata": {},
   "outputs": [
    {
     "name": "stdout",
     "output_type": "stream",
     "text": [
      "criminal\n"
     ]
    }
   ],
   "source": [
    "# Code from Dee\n",
    "# Initialize a dictionary based on people nodes to keep track of all roles per node\n",
    "p_nodes = {el:[] for el in people}\n",
    "\n",
    "# Add all the edge attributes to a dictionary of people nodes\n",
    "for key,value in nx.get_edge_attributes(G, 'role').items():\n",
    "    for part in key:\n",
    "        if part in people:\n",
    "            p_nodes[part].append(value)\n",
    "\n",
    "# print(p_nodes['p1']) # List of all roles from p1\n",
    "\n",
    "# Initialize a dictionary to keep track of who is a \"criminal\"\n",
    "status = {el:[] for el in people}\n",
    "    \n",
    "# Loop through all roles per node, and deem them criminals if ever they have been a suspect\n",
    "for key in p_nodes:\n",
    "    if 'Suspect' in p_nodes[key]:\n",
    "        status[key] = \"criminal\"\n",
    "    elif 'Victim Suspect' in p_nodes[key]:\n",
    "        status[key] = \"criminal\"\n",
    "    else:\n",
    "        status[key] = \"innocent\"\n",
    "\n",
    "print(status['p336']) # Verify that p1 is deemed \"criminal\"\n",
    "\n",
    "# Convert to pandas df\n",
    "criminals_df = pd.DataFrame(status.items(), columns=['node', 'criminal_status'])"
   ]
  },
  {
   "cell_type": "markdown",
   "metadata": {},
   "source": [
    "## Add node status"
   ]
  },
  {
   "cell_type": "code",
   "execution_count": 16,
   "metadata": {},
   "outputs": [
    {
     "name": "stdout",
     "output_type": "stream",
     "text": [
      "criminal\n"
     ]
    }
   ],
   "source": [
    "# loop through rows in the data frame and add the attribute of Criminal Status\n",
    "for index, row in criminals_df.iterrows():\n",
    "    #print(row['node'])\n",
    "    G.nodes[row['node']]['criminal_status'] = row['criminal_status']\n",
    "\n",
    "print(nx.get_node_attributes(G, 'criminal_status')['p1']) # check name of person 'p1' = 'Criminal'"
   ]
  },
  {
   "cell_type": "code",
   "execution_count": 17,
   "metadata": {},
   "outputs": [],
   "source": [
    "# get top and bottom nodes for projection and plotting\n",
    "people_nodes = {n for n, d in G.nodes(data=True) if d[\"bipartite\"] == 0}\n",
    "crime_nodes = set(G) - people_nodes"
   ]
  },
  {
   "cell_type": "code",
   "execution_count": 18,
   "metadata": {},
   "outputs": [
    {
     "data": {
      "image/png": "[encoded data removed]",
      "text/plain": [
       "<Figure size 432x288 with 1 Axes>"
      ]
     },
     "metadata": {},
     "output_type": "display_data"
    }
   ],
   "source": [
    "# plot only biggest component\n",
    "# pos = nx.spring_layout(G)\n",
    "# posB = nx.bipartite_layout(G, people_nodes)\n",
    "G_draw = nx.draw_spring(G,node_size=5)"
   ]
  },
  {
   "cell_type": "markdown",
   "metadata": {},
   "source": [
    "## Get degree of all nodes\n",
    "Node degreee of **people** nodes if the number of crimes they were involved in.  \n",
    "Node degree of **crime** nodes is the number of people involved in the crime."
   ]
  },
  {
   "cell_type": "code",
   "execution_count": 19,
   "metadata": {},
   "outputs": [],
   "source": [
    "# Creating dict with all node degrees to add as attribute\n",
    "node_degrees = dict()\n",
    "\n",
    "# Creating dict for each node type\n",
    "people_degrees = dict()\n",
    "crimes_degrees = dict()\n",
    "\n",
    "# for loop to populate dicts above\n",
    "for node in G.nodes:\n",
    "    # print(G.edges(node, data=True))\n",
    "    node_degrees[node] = G.degree(node)\n",
    "    if node.startswith('p') == True:\n",
    "        people_degrees[node] = G.degree(node)\n",
    "    else:\n",
    "        crimes_degrees[node] = G.degree(node)"
   ]
  },
  {
   "cell_type": "code",
   "execution_count": 20,
   "metadata": {},
   "outputs": [
    {
     "data": {
      "text/html": [
       "<div>\n",
       "<style scoped>\n",
       "    .dataframe tbody tr th:only-of-type {\n",
       "        vertical-align: middle;\n",
       "    }\n",
       "\n",
       "    .dataframe tbody tr th {\n",
       "        vertical-align: top;\n",
       "    }\n",
       "\n",
       "    .dataframe thead th {\n",
       "        text-align: right;\n",
       "    }\n",
       "</style>\n",
       "<table border=\"1\" class=\"dataframe\">\n",
       "  <thead>\n",
       "    <tr style=\"text-align: right;\">\n",
       "      <th></th>\n",
       "      <th>gender</th>\n",
       "      <th>person</th>\n",
       "    </tr>\n",
       "  </thead>\n",
       "  <tbody>\n",
       "    <tr>\n",
       "      <th>0</th>\n",
       "      <td>1</td>\n",
       "      <td>p0</td>\n",
       "    </tr>\n",
       "    <tr>\n",
       "      <th>1</th>\n",
       "      <td>1</td>\n",
       "      <td>p1</td>\n",
       "    </tr>\n",
       "    <tr>\n",
       "      <th>2</th>\n",
       "      <td>1</td>\n",
       "      <td>p2</td>\n",
       "    </tr>\n",
       "  </tbody>\n",
       "</table>\n",
       "</div>"
      ],
      "text/plain": [
       "   gender person\n",
       "0       1     p0\n",
       "1       1     p1\n",
       "2       1     p2"
      ]
     },
     "execution_count": 20,
     "metadata": {},
     "output_type": "execute_result"
    }
   ],
   "source": [
    "df_gender = pd.read_csv(gender, sep=\" \", header=None, names=['gender'])\n",
    "df_gender['person'] = 'p' + df_gender.index.astype(str)\n",
    "df_gender.head(3)"
   ]
  },
  {
   "cell_type": "code",
   "execution_count": 21,
   "metadata": {},
   "outputs": [],
   "source": [
    "# Add node degree as node attribute in graph G\n",
    "nx.set_node_attributes(G, node_degrees, \"node_degree\")\n",
    "\n",
    "# and check it worked\n",
    "# nx.get_node_attributes(G, 'node_degree')"
   ]
  },
  {
   "cell_type": "markdown",
   "metadata": {},
   "source": [
    "### Make a dataframe including all node attributes"
   ]
  },
  {
   "cell_type": "code",
   "execution_count": 22,
   "metadata": {},
   "outputs": [
    {
     "data": {
      "text/html": [
       "<div>\n",
       "<style scoped>\n",
       "    .dataframe tbody tr th:only-of-type {\n",
       "        vertical-align: middle;\n",
       "    }\n",
       "\n",
       "    .dataframe tbody tr th {\n",
       "        vertical-align: top;\n",
       "    }\n",
       "\n",
       "    .dataframe thead th {\n",
       "        text-align: right;\n",
       "    }\n",
       "</style>\n",
       "<table border=\"1\" class=\"dataframe\">\n",
       "  <thead>\n",
       "    <tr style=\"text-align: right;\">\n",
       "      <th></th>\n",
       "      <th>name</th>\n",
       "      <th>gender</th>\n",
       "      <th>bipartite</th>\n",
       "      <th>criminal_status</th>\n",
       "      <th>node_degree</th>\n",
       "    </tr>\n",
       "  </thead>\n",
       "  <tbody>\n",
       "    <tr>\n",
       "      <th>p1</th>\n",
       "      <td>AbelDennis</td>\n",
       "      <td>1.0</td>\n",
       "      <td>0</td>\n",
       "      <td>criminal</td>\n",
       "      <td>4</td>\n",
       "    </tr>\n",
       "    <tr>\n",
       "      <th>p2</th>\n",
       "      <td>AbramsChad</td>\n",
       "      <td>1.0</td>\n",
       "      <td>0</td>\n",
       "      <td>criminal</td>\n",
       "      <td>22</td>\n",
       "    </tr>\n",
       "    <tr>\n",
       "      <th>p3</th>\n",
       "      <td>AbramsDavid</td>\n",
       "      <td>1.0</td>\n",
       "      <td>0</td>\n",
       "      <td>criminal</td>\n",
       "      <td>1</td>\n",
       "    </tr>\n",
       "    <tr>\n",
       "      <th>p4</th>\n",
       "      <td>AbramsDon</td>\n",
       "      <td>1.0</td>\n",
       "      <td>0</td>\n",
       "      <td>criminal</td>\n",
       "      <td>1</td>\n",
       "    </tr>\n",
       "    <tr>\n",
       "      <th>p5</th>\n",
       "      <td>AbramsRichard</td>\n",
       "      <td>1.0</td>\n",
       "      <td>0</td>\n",
       "      <td>innocent</td>\n",
       "      <td>1</td>\n",
       "    </tr>\n",
       "    <tr>\n",
       "      <th>...</th>\n",
       "      <td>...</td>\n",
       "      <td>...</td>\n",
       "      <td>...</td>\n",
       "      <td>...</td>\n",
       "      <td>...</td>\n",
       "    </tr>\n",
       "    <tr>\n",
       "      <th>c547</th>\n",
       "      <td>NaN</td>\n",
       "      <td>NaN</td>\n",
       "      <td>1</td>\n",
       "      <td>NaN</td>\n",
       "      <td>1</td>\n",
       "    </tr>\n",
       "    <tr>\n",
       "      <th>c548</th>\n",
       "      <td>NaN</td>\n",
       "      <td>NaN</td>\n",
       "      <td>1</td>\n",
       "      <td>NaN</td>\n",
       "      <td>1</td>\n",
       "    </tr>\n",
       "    <tr>\n",
       "      <th>c549</th>\n",
       "      <td>NaN</td>\n",
       "      <td>NaN</td>\n",
       "      <td>1</td>\n",
       "      <td>NaN</td>\n",
       "      <td>1</td>\n",
       "    </tr>\n",
       "    <tr>\n",
       "      <th>c550</th>\n",
       "      <td>NaN</td>\n",
       "      <td>NaN</td>\n",
       "      <td>1</td>\n",
       "      <td>NaN</td>\n",
       "      <td>1</td>\n",
       "    </tr>\n",
       "    <tr>\n",
       "      <th>c551</th>\n",
       "      <td>NaN</td>\n",
       "      <td>NaN</td>\n",
       "      <td>1</td>\n",
       "      <td>NaN</td>\n",
       "      <td>1</td>\n",
       "    </tr>\n",
       "  </tbody>\n",
       "</table>\n",
       "<p>1380 rows × 5 columns</p>\n",
       "</div>"
      ],
      "text/plain": [
       "               name  gender  bipartite criminal_status  node_degree\n",
       "p1       AbelDennis     1.0          0        criminal            4\n",
       "p2       AbramsChad     1.0          0        criminal           22\n",
       "p3      AbramsDavid     1.0          0        criminal            1\n",
       "p4        AbramsDon     1.0          0        criminal            1\n",
       "p5    AbramsRichard     1.0          0        innocent            1\n",
       "...             ...     ...        ...             ...          ...\n",
       "c547            NaN     NaN          1             NaN            1\n",
       "c548            NaN     NaN          1             NaN            1\n",
       "c549            NaN     NaN          1             NaN            1\n",
       "c550            NaN     NaN          1             NaN            1\n",
       "c551            NaN     NaN          1             NaN            1\n",
       "\n",
       "[1380 rows x 5 columns]"
      ]
     },
     "execution_count": 22,
     "metadata": {},
     "output_type": "execute_result"
    }
   ],
   "source": [
    "# code from https://stackoverflow.com/a/50775962\n",
    "# make pandas dataframe from graph with node attributes\n",
    "df_G = pd.DataFrame.from_dict(dict(G.nodes(data=True)), orient='index')\n",
    "df_G\n"
   ]
  },
  {
   "cell_type": "code",
   "execution_count": 23,
   "metadata": {},
   "outputs": [
    {
     "data": {
      "text/html": [
       "<div>\n",
       "<style scoped>\n",
       "    .dataframe tbody tr th:only-of-type {\n",
       "        vertical-align: middle;\n",
       "    }\n",
       "\n",
       "    .dataframe tbody tr th {\n",
       "        vertical-align: top;\n",
       "    }\n",
       "\n",
       "    .dataframe thead th {\n",
       "        text-align: right;\n",
       "    }\n",
       "</style>\n",
       "<table border=\"1\" class=\"dataframe\">\n",
       "  <thead>\n",
       "    <tr style=\"text-align: right;\">\n",
       "      <th></th>\n",
       "      <th>name</th>\n",
       "      <th>gender</th>\n",
       "      <th>bipartite</th>\n",
       "      <th>criminal_status</th>\n",
       "      <th>node_degree</th>\n",
       "    </tr>\n",
       "  </thead>\n",
       "  <tbody>\n",
       "    <tr>\n",
       "      <th>p815</th>\n",
       "      <td>WillisJenny</td>\n",
       "      <td>0.0</td>\n",
       "      <td>0</td>\n",
       "      <td>criminal</td>\n",
       "      <td>25</td>\n",
       "    </tr>\n",
       "  </tbody>\n",
       "</table>\n",
       "</div>"
      ],
      "text/plain": [
       "             name  gender  bipartite criminal_status  node_degree\n",
       "p815  WillisJenny     0.0          0        criminal           25"
      ]
     },
     "execution_count": 23,
     "metadata": {},
     "output_type": "execute_result"
    }
   ],
   "source": [
    "df_G.loc[['p815']]"
   ]
  },
  {
   "cell_type": "code",
   "execution_count": 24,
   "metadata": {},
   "outputs": [
    {
     "data": {
      "text/plain": [
       "criminal    442\n",
       "innocent    387\n",
       "Name: criminal_status, dtype: int64"
      ]
     },
     "execution_count": 24,
     "metadata": {},
     "output_type": "execute_result"
    }
   ],
   "source": [
    "df_G['criminal_status'].value_counts()"
   ]
  },
  {
   "cell_type": "markdown",
   "metadata": {},
   "source": [
    "# Projection on people"
   ]
  },
  {
   "cell_type": "code",
   "execution_count": 25,
   "metadata": {},
   "outputs": [
    {
     "data": {
      "text/plain": [
       "[('p538', 'p681', {'weight': 1}),\n",
       " ('p538', 'p231', {'weight': 1}),\n",
       " ('p538', 'p232', {'weight': 1}),\n",
       " ('p81', 'p332', {'weight': 1}),\n",
       " ('p81', 'p225', {'weight': 1})]"
      ]
     },
     "execution_count": 25,
     "metadata": {},
     "output_type": "execute_result"
    }
   ],
   "source": [
    "G_proj = bipartite.weighted_projected_graph(G, people_nodes, ratio=False)\n",
    "list(G_proj.edges(data=True))[0:5]"
   ]
  },
  {
   "cell_type": "code",
   "execution_count": 26,
   "metadata": {},
   "outputs": [
    {
     "name": "stdout",
     "output_type": "stream",
     "text": [
      "Num. of nodes: 829 \n",
      "Num. of edges: 2253 \n",
      "Is bipartite? False \n",
      "Is connected? False\n"
     ]
    }
   ],
   "source": [
    "print(\n",
    "    'Num. of nodes: {} \\nNum. of edges: {} \\nIs bipartite? {} \\nIs connected? {}'.format(\n",
    "        G_proj.number_of_nodes(), \n",
    "        G_proj.number_of_edges(), \n",
    "        nx.is_bipartite(G_proj),\n",
    "        nx.is_connected(G_proj)\n",
    "        )\n",
    "    )"
   ]
  },
  {
   "cell_type": "code",
   "execution_count": 27,
   "metadata": {},
   "outputs": [
    {
     "data": {
      "image/png": "[encoded data removed]",
      "text/plain": [
       "<Figure size 432x288 with 1 Axes>"
      ]
     },
     "metadata": {
      "needs_background": "light"
     },
     "output_type": "display_data"
    }
   ],
   "source": [
    "weights = list(nx.get_edge_attributes(G_proj, 'weight').values())\n",
    "\n",
    "# plot weights\n",
    "plt.hist(weights, bins = 10, log=True)\n",
    "plt.show()"
   ]
  },
  {
   "cell_type": "markdown",
   "metadata": {},
   "source": [
    "People of interest. Pairs that are connected by 5 crimes."
   ]
  },
  {
   "cell_type": "code",
   "execution_count": 28,
   "metadata": {},
   "outputs": [
    {
     "name": "stdout",
     "output_type": "stream",
     "text": [
      "('p344', 'p696', {'weight': 3})\n",
      "('p572', 'p533', {'weight': 4})\n",
      "('p514', 'p17', {'weight': 4})\n",
      "('p815', 'p663', {'weight': 3})\n",
      "('p592', 'p333', {'weight': 3})\n",
      "('p396', 'p531', {'weight': 3})\n",
      "('p87', 'p659', {'weight': 4})\n",
      "('p37', 'p797', {'weight': 3})\n",
      "('p715', 'p425', {'weight': 5})\n",
      "('p715', 'p695', {'weight': 3})\n",
      "('p531', 'p128', {'weight': 5})\n",
      "('p425', 'p413', {'weight': 4})\n",
      "('p425', 'p54', {'weight': 3})\n",
      "('p425', 'p695', {'weight': 3})\n",
      "('p767', 'p79', {'weight': 5})\n",
      "('p413', 'p695', {'weight': 3})\n",
      "('p303', 'p56', {'weight': 3})\n",
      "('p67', 'p2', {'weight': 4})\n"
     ]
    }
   ],
   "source": [
    "edge_w = list(G_proj.edges(data=True))\n",
    "\n",
    "for i in edge_w:\n",
    "    if i[2]['weight'] > 2:\n",
    "        print(i)"
   ]
  },
  {
   "cell_type": "code",
   "execution_count": 29,
   "metadata": {},
   "outputs": [],
   "source": [
    "# get adjacency matrix\n",
    "A = nx.adjacency_matrix(G_proj, weight='weight')\n",
    "A = A.toarray()"
   ]
  },
  {
   "cell_type": "code",
   "execution_count": 30,
   "metadata": {},
   "outputs": [
    {
     "data": {
      "text/plain": [
       "array([3, 4, 4, 3, 3, 3, 4, 3, 4, 5, 3, 3, 5, 5, 4, 3, 3, 5, 3, 5, 4, 3,\n",
       "       3, 3, 4, 3, 3, 4, 4, 5, 3, 4, 3, 3, 3, 3], dtype=int32)"
      ]
     },
     "execution_count": 30,
     "metadata": {},
     "output_type": "execute_result"
    }
   ],
   "source": [
    "A[A > 2]"
   ]
  },
  {
   "cell_type": "code",
   "execution_count": 31,
   "metadata": {},
   "outputs": [
    {
     "data": {
      "image/png": "[encoded data removed]",
      "text/plain": [
       "<Figure size 432x288 with 1 Axes>"
      ]
     },
     "metadata": {
      "needs_background": "light"
     },
     "output_type": "display_data"
    }
   ],
   "source": [
    "# plot adjacency matrix\n",
    "plt.title('Adjacency Matrix')\n",
    "# plt.imshow(A, cmap='Greys', markersize = 3)\n",
    "# plt.show()\n",
    "# plt.figure(figsize=(8,8))\n",
    "plt.spy(A, markersize = 1)\n",
    "plt.show()"
   ]
  },
  {
   "cell_type": "code",
   "execution_count": 32,
   "metadata": {},
   "outputs": [
    {
     "data": {
      "text/plain": [
       "<AxesSubplot:>"
      ]
     },
     "execution_count": 32,
     "metadata": {},
     "output_type": "execute_result"
    },
    {
     "data": {
      "image/png": "[encoded data removed]",
      "text/plain": [
       "<Figure size 432x288 with 2 Axes>"
      ]
     },
     "metadata": {
      "needs_background": "light"
     },
     "output_type": "display_data"
    }
   ],
   "source": [
    "sns.heatmap(A)"
   ]
  },
  {
   "cell_type": "code",
   "execution_count": 33,
   "metadata": {},
   "outputs": [
    {
     "data": {
      "image/png": "[encoded data removed]",
      "text/plain": [
       "<Figure size 432x288 with 1 Axes>"
      ]
     },
     "metadata": {},
     "output_type": "display_data"
    }
   ],
   "source": [
    "# plot graph visualisation\n",
    "nx.draw_spring(G_proj, node_size=3)"
   ]
  },
  {
   "cell_type": "markdown",
   "metadata": {},
   "source": [
    "# Link prediction on projected graph\n",
    "from: https://www.networkatlas.eu/exercise.htm?c=20&e=1"
   ]
  },
  {
   "cell_type": "code",
   "execution_count": 34,
   "metadata": {},
   "outputs": [],
   "source": [
    "linkpred_pa = list(nx.preferential_attachment(G_proj))"
   ]
  },
  {
   "cell_type": "code",
   "execution_count": 35,
   "metadata": {},
   "outputs": [],
   "source": [
    "# Sort in decreasing score\n",
    "linkpred_pa.sort(key = lambda tup: tup[2], reverse = True)"
   ]
  },
  {
   "cell_type": "code",
   "execution_count": 36,
   "metadata": {},
   "outputs": [
    {
     "name": "stdout",
     "output_type": "stream",
     "text": [
      "('p425', 'p2', 2448)\n",
      "('p356', 'p425', 2244)\n",
      "('p2', 'p56', 1584)\n",
      "('p2', 'p695', 1584)\n",
      "('p356', 'p56', 1452)\n",
      "('p356', 'p695', 1452)\n",
      "('p497', 'p2', 1440)\n",
      "('p425', 'p10', 1428)\n",
      "('p715', 'p2', 1392)\n",
      "('p815', 'p425', 1377)\n"
     ]
    }
   ],
   "source": [
    "# Get the top 10\n",
    "for edge_score in linkpred_pa[:10]:\n",
    "   print(edge_score)"
   ]
  },
  {
   "cell_type": "markdown",
   "metadata": {},
   "source": [
    "### Compare different link prediction methods\n",
    "Code from: https://www.networkatlas.eu/exercise.htm?c=20&e=2"
   ]
  },
  {
   "cell_type": "code",
   "execution_count": 37,
   "metadata": {},
   "outputs": [],
   "source": [
    "# Run the other link prediction methods implemented in networkx\n",
    "linkpred_ja = list(nx.jaccard_coefficient(G_proj))\n",
    "linkpred_aa = list(nx.adamic_adar_index(G_proj))\n",
    "linkpred_ra = list(nx.resource_allocation_index(G_proj))\n",
    "\n",
    "linkpred_ja.sort(key = lambda tup: tup[2], reverse = True)\n",
    "linkpred_aa.sort(key = lambda tup: tup[2], reverse = True)\n",
    "linkpred_ra.sort(key = lambda tup: tup[2], reverse = True)"
   ]
  },
  {
   "cell_type": "code",
   "execution_count": 38,
   "metadata": {},
   "outputs": [
    {
     "name": "stdout",
     "output_type": "stream",
     "text": [
      "PrefAtt\tJaccard\tAdamAd\tResAll\n",
      "('p425', 'p2', 2448)\t('p87', 'p800', 1.0)\t('p336', 'p815', 2.326022992233796)\t('p336', 'p815', 0.7083333333333334)\n",
      "('p356', 'p425', 2244)\t('p645', 'p382', 1.0)\t('p365', 'p114', 1.6072172535335318)\t('p514', 'p228', 0.5)\n",
      "('p2', 'p56', 1584)\t('p645', 'p555', 1.0)\t('p680', 'p245', 1.461880214172278)\t('p815', 'p301', 0.5)\n",
      "('p2', 'p695', 1584)\t('p645', 'p383', 1.0)\t('p680', 'p466', 1.461880214172278)\t('p690', 'p132', 0.5)\n",
      "('p356', 'p56', 1452)\t('p819', 'p188', 1.0)\t('p805', 'p746', 1.461880214172278)\t('p214', 'p215', 0.5)\n"
     ]
    }
   ],
   "source": [
    "# Print top predictions\n",
    "print(\"PrefAtt\\tJaccard\\tAdamAd\\tResAll\")\n",
    "for i in range(5):\n",
    "   print(\"%s\\t%s\\t%s\\t%s\" % (linkpred_pa[i], linkpred_ja[i], linkpred_aa[i], linkpred_ra[i]))"
   ]
  },
  {
   "cell_type": "code",
   "execution_count": 39,
   "metadata": {},
   "outputs": [],
   "source": [
    "df_linkpred = pd.DataFrame(linkpred_ra, columns=['node1', 'node2', 'resource_allocation_score'])\n",
    "df_linkpred['node1_status'] = df_linkpred['node1'].map(status)\n",
    "df_linkpred['node2_status'] = df_linkpred['node2'].map(status)\n",
    "# df_linkpred\n"
   ]
  },
  {
   "cell_type": "code",
   "execution_count": 40,
   "metadata": {},
   "outputs": [
    {
     "data": {
      "text/html": [
       "<div>\n",
       "<style scoped>\n",
       "    .dataframe tbody tr th:only-of-type {\n",
       "        vertical-align: middle;\n",
       "    }\n",
       "\n",
       "    .dataframe tbody tr th {\n",
       "        vertical-align: top;\n",
       "    }\n",
       "\n",
       "    .dataframe thead th {\n",
       "        text-align: right;\n",
       "    }\n",
       "</style>\n",
       "<table border=\"1\" class=\"dataframe\">\n",
       "  <thead>\n",
       "    <tr style=\"text-align: right;\">\n",
       "      <th></th>\n",
       "      <th>node1</th>\n",
       "      <th>node2</th>\n",
       "      <th>resource_allocation_score</th>\n",
       "      <th>node1_status</th>\n",
       "      <th>node2_status</th>\n",
       "    </tr>\n",
       "  </thead>\n",
       "  <tbody>\n",
       "    <tr>\n",
       "      <th>0</th>\n",
       "      <td>p336</td>\n",
       "      <td>p815</td>\n",
       "      <td>0.708333</td>\n",
       "      <td>criminal</td>\n",
       "      <td>criminal</td>\n",
       "    </tr>\n",
       "    <tr>\n",
       "      <th>2</th>\n",
       "      <td>p815</td>\n",
       "      <td>p301</td>\n",
       "      <td>0.500000</td>\n",
       "      <td>criminal</td>\n",
       "      <td>innocent</td>\n",
       "    </tr>\n",
       "    <tr>\n",
       "      <th>3</th>\n",
       "      <td>p690</td>\n",
       "      <td>p132</td>\n",
       "      <td>0.500000</td>\n",
       "      <td>criminal</td>\n",
       "      <td>innocent</td>\n",
       "    </tr>\n",
       "    <tr>\n",
       "      <th>4</th>\n",
       "      <td>p214</td>\n",
       "      <td>p215</td>\n",
       "      <td>0.500000</td>\n",
       "      <td>criminal</td>\n",
       "      <td>criminal</td>\n",
       "    </tr>\n",
       "    <tr>\n",
       "      <th>5</th>\n",
       "      <td>p691</td>\n",
       "      <td>p695</td>\n",
       "      <td>0.500000</td>\n",
       "      <td>criminal</td>\n",
       "      <td>criminal</td>\n",
       "    </tr>\n",
       "    <tr>\n",
       "      <th>...</th>\n",
       "      <td>...</td>\n",
       "      <td>...</td>\n",
       "      <td>...</td>\n",
       "      <td>...</td>\n",
       "      <td>...</td>\n",
       "    </tr>\n",
       "    <tr>\n",
       "      <th>7833</th>\n",
       "      <td>p169</td>\n",
       "      <td>p637</td>\n",
       "      <td>0.019608</td>\n",
       "      <td>innocent</td>\n",
       "      <td>criminal</td>\n",
       "    </tr>\n",
       "    <tr>\n",
       "      <th>7832</th>\n",
       "      <td>p169</td>\n",
       "      <td>p490</td>\n",
       "      <td>0.019608</td>\n",
       "      <td>innocent</td>\n",
       "      <td>innocent</td>\n",
       "    </tr>\n",
       "    <tr>\n",
       "      <th>7831</th>\n",
       "      <td>p169</td>\n",
       "      <td>p185</td>\n",
       "      <td>0.019608</td>\n",
       "      <td>innocent</td>\n",
       "      <td>criminal</td>\n",
       "    </tr>\n",
       "    <tr>\n",
       "      <th>7830</th>\n",
       "      <td>p169</td>\n",
       "      <td>p729</td>\n",
       "      <td>0.019608</td>\n",
       "      <td>innocent</td>\n",
       "      <td>criminal</td>\n",
       "    </tr>\n",
       "    <tr>\n",
       "      <th>8164</th>\n",
       "      <td>p53</td>\n",
       "      <td>p178</td>\n",
       "      <td>0.019608</td>\n",
       "      <td>criminal</td>\n",
       "      <td>criminal</td>\n",
       "    </tr>\n",
       "  </tbody>\n",
       "</table>\n",
       "<p>8165 rows × 5 columns</p>\n",
       "</div>"
      ],
      "text/plain": [
       "     node1 node2  resource_allocation_score node1_status node2_status\n",
       "0     p336  p815                   0.708333     criminal     criminal\n",
       "2     p815  p301                   0.500000     criminal     innocent\n",
       "3     p690  p132                   0.500000     criminal     innocent\n",
       "4     p214  p215                   0.500000     criminal     criminal\n",
       "5     p691  p695                   0.500000     criminal     criminal\n",
       "...    ...   ...                        ...          ...          ...\n",
       "7833  p169  p637                   0.019608     innocent     criminal\n",
       "7832  p169  p490                   0.019608     innocent     innocent\n",
       "7831  p169  p185                   0.019608     innocent     criminal\n",
       "7830  p169  p729                   0.019608     innocent     criminal\n",
       "8164   p53  p178                   0.019608     criminal     criminal\n",
       "\n",
       "[8165 rows x 5 columns]"
      ]
     },
     "execution_count": 40,
     "metadata": {},
     "output_type": "execute_result"
    }
   ],
   "source": [
    "df_linkpred_status = df_linkpred[df_linkpred['resource_allocation_score'] != 0]\n",
    "df_linkpred_status.sort_values(by='resource_allocation_score', ascending=False)"
   ]
  },
  {
   "cell_type": "code",
   "execution_count": 41,
   "metadata": {},
   "outputs": [
    {
     "name": "stdout",
     "output_type": "stream",
     "text": [
      "name                HallLiz\n",
      "gender                    0\n",
      "bipartite                 0\n",
      "criminal_status    criminal\n",
      "node_degree               9\n",
      "Name: p336, dtype: object\n",
      "name               WillisJenny\n",
      "gender                       0\n",
      "bipartite                    0\n",
      "criminal_status       criminal\n",
      "node_degree                 25\n",
      "Name: p815, dtype: object\n"
     ]
    }
   ],
   "source": [
    "print(df_G.loc['p336'])\n",
    "print(df_G.loc['p815'])"
   ]
  },
  {
   "cell_type": "code",
   "execution_count": 42,
   "metadata": {},
   "outputs": [
    {
     "name": "stdout",
     "output_type": "stream",
     "text": [
      "name               DukeAmelia\n",
      "gender                      0\n",
      "bipartite                   0\n",
      "criminal_status      criminal\n",
      "node_degree                 1\n",
      "Name: p228, dtype: object\n",
      "name               MccannEddie\n",
      "gender                       1\n",
      "bipartite                    0\n",
      "criminal_status       criminal\n",
      "node_degree                 11\n",
      "Name: p514, dtype: object\n"
     ]
    }
   ],
   "source": [
    "print(df_G.loc['p228'])\n",
    "print(df_G.loc['p514'])"
   ]
  },
  {
   "cell_type": "code",
   "execution_count": 43,
   "metadata": {},
   "outputs": [
    {
     "name": "stdout",
     "output_type": "stream",
     "text": [
      "name               GodfreyBrian\n",
      "gender                        1\n",
      "bipartite                     0\n",
      "criminal_status        innocent\n",
      "node_degree                   1\n",
      "Name: p301, dtype: object\n",
      "name               WillisJenny\n",
      "gender                       0\n",
      "bipartite                    0\n",
      "criminal_status       criminal\n",
      "node_degree                 25\n",
      "Name: p815, dtype: object\n"
     ]
    }
   ],
   "source": [
    "print(df_G.loc['p301'])\n",
    "print(df_G.loc['p815'])"
   ]
  },
  {
   "cell_type": "code",
   "execution_count": 44,
   "metadata": {},
   "outputs": [
    {
     "name": "stdout",
     "output_type": "stream",
     "text": [
      "name               WethersMorrie\n",
      "gender                         1\n",
      "bipartite                      0\n",
      "criminal_status         criminal\n",
      "node_degree                    7\n",
      "Name: p797, dtype: object\n",
      "name               GillisJohnson\n",
      "gender                         1\n",
      "bipartite                      0\n",
      "criminal_status         innocent\n",
      "node_degree                    1\n",
      "Name: p293, dtype: object\n"
     ]
    }
   ],
   "source": [
    "print(df_G.loc['p797'])\n",
    "print(df_G.loc['p293'])"
   ]
  },
  {
   "cell_type": "code",
   "execution_count": 45,
   "metadata": {},
   "outputs": [
    {
     "name": "stdout",
     "output_type": "stream",
     "text": [
      "name               ChandlerSusie\n",
      "gender                         0\n",
      "bipartite                      0\n",
      "criminal_status         innocent\n",
      "node_degree                    5\n",
      "Name: p155, dtype: object\n",
      "name               ForesterCarol\n",
      "gender                         0\n",
      "bipartite                      0\n",
      "criminal_status         criminal\n",
      "node_degree                    2\n",
      "Name: p269, dtype: object\n"
     ]
    }
   ],
   "source": [
    "print(df_G.loc['p155'])\n",
    "print(df_G.loc['p269'])"
   ]
  },
  {
   "cell_type": "code",
   "execution_count": 46,
   "metadata": {},
   "outputs": [
    {
     "data": {
      "text/html": [
       "<div>\n",
       "<style scoped>\n",
       "    .dataframe tbody tr th:only-of-type {\n",
       "        vertical-align: middle;\n",
       "    }\n",
       "\n",
       "    .dataframe tbody tr th {\n",
       "        vertical-align: top;\n",
       "    }\n",
       "\n",
       "    .dataframe thead th {\n",
       "        text-align: right;\n",
       "    }\n",
       "</style>\n",
       "<table border=\"1\" class=\"dataframe\">\n",
       "  <thead>\n",
       "    <tr style=\"text-align: right;\">\n",
       "      <th></th>\n",
       "      <th>node1</th>\n",
       "      <th>node2</th>\n",
       "      <th>resource_allocation_score</th>\n",
       "      <th>node1_status</th>\n",
       "      <th>node2_status</th>\n",
       "    </tr>\n",
       "  </thead>\n",
       "  <tbody>\n",
       "    <tr>\n",
       "      <th>0</th>\n",
       "      <td>p336</td>\n",
       "      <td>p815</td>\n",
       "      <td>0.708333</td>\n",
       "      <td>criminal</td>\n",
       "      <td>criminal</td>\n",
       "    </tr>\n",
       "    <tr>\n",
       "      <th>1</th>\n",
       "      <td>p514</td>\n",
       "      <td>p228</td>\n",
       "      <td>0.500000</td>\n",
       "      <td>criminal</td>\n",
       "      <td>criminal</td>\n",
       "    </tr>\n",
       "    <tr>\n",
       "      <th>2</th>\n",
       "      <td>p815</td>\n",
       "      <td>p301</td>\n",
       "      <td>0.500000</td>\n",
       "      <td>criminal</td>\n",
       "      <td>innocent</td>\n",
       "    </tr>\n",
       "    <tr>\n",
       "      <th>3</th>\n",
       "      <td>p690</td>\n",
       "      <td>p132</td>\n",
       "      <td>0.500000</td>\n",
       "      <td>criminal</td>\n",
       "      <td>innocent</td>\n",
       "    </tr>\n",
       "    <tr>\n",
       "      <th>4</th>\n",
       "      <td>p214</td>\n",
       "      <td>p215</td>\n",
       "      <td>0.500000</td>\n",
       "      <td>criminal</td>\n",
       "      <td>criminal</td>\n",
       "    </tr>\n",
       "    <tr>\n",
       "      <th>5</th>\n",
       "      <td>p691</td>\n",
       "      <td>p695</td>\n",
       "      <td>0.500000</td>\n",
       "      <td>criminal</td>\n",
       "      <td>criminal</td>\n",
       "    </tr>\n",
       "    <tr>\n",
       "      <th>6</th>\n",
       "      <td>p237</td>\n",
       "      <td>p74</td>\n",
       "      <td>0.500000</td>\n",
       "      <td>innocent</td>\n",
       "      <td>criminal</td>\n",
       "    </tr>\n",
       "    <tr>\n",
       "      <th>7</th>\n",
       "      <td>p797</td>\n",
       "      <td>p293</td>\n",
       "      <td>0.500000</td>\n",
       "      <td>criminal</td>\n",
       "      <td>innocent</td>\n",
       "    </tr>\n",
       "    <tr>\n",
       "      <th>8</th>\n",
       "      <td>p155</td>\n",
       "      <td>p269</td>\n",
       "      <td>0.500000</td>\n",
       "      <td>innocent</td>\n",
       "      <td>criminal</td>\n",
       "    </tr>\n",
       "  </tbody>\n",
       "</table>\n",
       "</div>"
      ],
      "text/plain": [
       "  node1 node2  resource_allocation_score node1_status node2_status\n",
       "0  p336  p815                   0.708333     criminal     criminal\n",
       "1  p514  p228                   0.500000     criminal     criminal\n",
       "2  p815  p301                   0.500000     criminal     innocent\n",
       "3  p690  p132                   0.500000     criminal     innocent\n",
       "4  p214  p215                   0.500000     criminal     criminal\n",
       "5  p691  p695                   0.500000     criminal     criminal\n",
       "6  p237   p74                   0.500000     innocent     criminal\n",
       "7  p797  p293                   0.500000     criminal     innocent\n",
       "8  p155  p269                   0.500000     innocent     criminal"
      ]
     },
     "execution_count": 46,
     "metadata": {},
     "output_type": "execute_result"
    }
   ],
   "source": [
    "df_linkpred[df_linkpred['resource_allocation_score'] >= .5]"
   ]
  },
  {
   "cell_type": "code",
   "execution_count": 47,
   "metadata": {},
   "outputs": [
    {
     "data": {
      "image/png": "[encoded data removed]",
      "text/plain": [
       "<Figure size 524.5x360 with 1 Axes>"
      ]
     },
     "metadata": {
      "needs_background": "light"
     },
     "output_type": "display_data"
    }
   ],
   "source": [
    "sns.displot(df_linkpred[df_linkpred['resource_allocation_score'] > 0]);"
   ]
  },
  {
   "cell_type": "code",
   "execution_count": 48,
   "metadata": {},
   "outputs": [
    {
     "data": {
      "text/plain": [
       "<seaborn.axisgrid.FacetGrid at 0x1724c5394c0>"
      ]
     },
     "execution_count": 48,
     "metadata": {},
     "output_type": "execute_result"
    },
    {
     "data": {
      "image/png": "[encoded data removed]",
      "text/plain": [
       "<Figure size 524.5x360 with 1 Axes>"
      ]
     },
     "metadata": {
      "needs_background": "light"
     },
     "output_type": "display_data"
    }
   ],
   "source": [
    "sns.displot(df_linkpred)"
   ]
  },
  {
   "cell_type": "code",
   "execution_count": 49,
   "metadata": {},
   "outputs": [
    {
     "data": {
      "text/plain": [
       "name               JohnsonDennis\n",
       "gender                         1\n",
       "bipartite                      0\n",
       "criminal_status         criminal\n",
       "node_degree                    3\n",
       "Name: p411, dtype: object"
      ]
     },
     "execution_count": 49,
     "metadata": {},
     "output_type": "execute_result"
    }
   ],
   "source": [
    "df_G.iloc[410,:]"
   ]
  },
  {
   "cell_type": "code",
   "execution_count": 50,
   "metadata": {},
   "outputs": [
    {
     "data": {
      "text/plain": [
       "name               GellarLindsay\n",
       "gender                         0\n",
       "bipartite                      0\n",
       "criminal_status         criminal\n",
       "node_degree                    2\n",
       "Name: p283, dtype: object"
      ]
     },
     "execution_count": 50,
     "metadata": {},
     "output_type": "execute_result"
    }
   ],
   "source": [
    "df_G.iloc[282,:]"
   ]
  },
  {
   "cell_type": "markdown",
   "metadata": {},
   "source": [
    "## Link prediction experiment\n",
    "from: https://www.networkatlas.eu/exercise.htm?c=22&e=1\n",
    "\n",
    "Divide this network into train and test sets using a ten-fold cross validation scheme. Draw its confusion matrix after applying a jaccard link prediction to it. Use 0.5 as you cutoff score: scores equal to or higher than 0.5 are predicted to be an edge, anything lower is predicted to be a non-edge."
   ]
  },
  {
   "cell_type": "code",
   "execution_count": 51,
   "metadata": {},
   "outputs": [],
   "source": [
    "import pandas as pd\n",
    "import networkx as nx\n",
    "from sklearn.model_selection import KFold\n",
    "from sklearn.metrics import confusion_matrix"
   ]
  },
  {
   "cell_type": "code",
   "execution_count": 52,
   "metadata": {},
   "outputs": [],
   "source": [
    "# Load the data as a pandas dataframe\n",
    "# df1 = pd.read_csv(\"data.txt\", sep = \" \", header = None, names = (\"src\", \"trg\"))\n",
    "# df1[\"target\"] = 1\n",
    "# df1"
   ]
  },
  {
   "cell_type": "code",
   "execution_count": 53,
   "metadata": {},
   "outputs": [
    {
     "data": {
      "text/html": [
       "<div>\n",
       "<style scoped>\n",
       "    .dataframe tbody tr th:only-of-type {\n",
       "        vertical-align: middle;\n",
       "    }\n",
       "\n",
       "    .dataframe tbody tr th {\n",
       "        vertical-align: top;\n",
       "    }\n",
       "\n",
       "    .dataframe thead th {\n",
       "        text-align: right;\n",
       "    }\n",
       "</style>\n",
       "<table border=\"1\" class=\"dataframe\">\n",
       "  <thead>\n",
       "    <tr style=\"text-align: right;\">\n",
       "      <th></th>\n",
       "      <th>source</th>\n",
       "      <th>target</th>\n",
       "      <th>weight</th>\n",
       "      <th>target2</th>\n",
       "    </tr>\n",
       "  </thead>\n",
       "  <tbody>\n",
       "    <tr>\n",
       "      <th>0</th>\n",
       "      <td>p538</td>\n",
       "      <td>p681</td>\n",
       "      <td>1</td>\n",
       "      <td>1</td>\n",
       "    </tr>\n",
       "    <tr>\n",
       "      <th>1</th>\n",
       "      <td>p538</td>\n",
       "      <td>p231</td>\n",
       "      <td>1</td>\n",
       "      <td>1</td>\n",
       "    </tr>\n",
       "    <tr>\n",
       "      <th>2</th>\n",
       "      <td>p538</td>\n",
       "      <td>p232</td>\n",
       "      <td>1</td>\n",
       "      <td>1</td>\n",
       "    </tr>\n",
       "    <tr>\n",
       "      <th>3</th>\n",
       "      <td>p81</td>\n",
       "      <td>p332</td>\n",
       "      <td>1</td>\n",
       "      <td>1</td>\n",
       "    </tr>\n",
       "    <tr>\n",
       "      <th>4</th>\n",
       "      <td>p81</td>\n",
       "      <td>p225</td>\n",
       "      <td>1</td>\n",
       "      <td>1</td>\n",
       "    </tr>\n",
       "    <tr>\n",
       "      <th>...</th>\n",
       "      <td>...</td>\n",
       "      <td>...</td>\n",
       "      <td>...</td>\n",
       "      <td>...</td>\n",
       "    </tr>\n",
       "    <tr>\n",
       "      <th>2248</th>\n",
       "      <td>p584</td>\n",
       "      <td>p353</td>\n",
       "      <td>1</td>\n",
       "      <td>1</td>\n",
       "    </tr>\n",
       "    <tr>\n",
       "      <th>2249</th>\n",
       "      <td>p436</td>\n",
       "      <td>p256</td>\n",
       "      <td>1</td>\n",
       "      <td>1</td>\n",
       "    </tr>\n",
       "    <tr>\n",
       "      <th>2250</th>\n",
       "      <td>p614</td>\n",
       "      <td>p54</td>\n",
       "      <td>1</td>\n",
       "      <td>1</td>\n",
       "    </tr>\n",
       "    <tr>\n",
       "      <th>2251</th>\n",
       "      <td>p681</td>\n",
       "      <td>p466</td>\n",
       "      <td>1</td>\n",
       "      <td>1</td>\n",
       "    </tr>\n",
       "    <tr>\n",
       "      <th>2252</th>\n",
       "      <td>p426</td>\n",
       "      <td>p784</td>\n",
       "      <td>1</td>\n",
       "      <td>1</td>\n",
       "    </tr>\n",
       "  </tbody>\n",
       "</table>\n",
       "<p>2253 rows × 4 columns</p>\n",
       "</div>"
      ],
      "text/plain": [
       "     source target  weight  target2\n",
       "0      p538   p681       1        1\n",
       "1      p538   p231       1        1\n",
       "2      p538   p232       1        1\n",
       "3       p81   p332       1        1\n",
       "4       p81   p225       1        1\n",
       "...     ...    ...     ...      ...\n",
       "2248   p584   p353       1        1\n",
       "2249   p436   p256       1        1\n",
       "2250   p614    p54       1        1\n",
       "2251   p681   p466       1        1\n",
       "2252   p426   p784       1        1\n",
       "\n",
       "[2253 rows x 4 columns]"
      ]
     },
     "execution_count": 53,
     "metadata": {},
     "output_type": "execute_result"
    }
   ],
   "source": [
    "df = nx.to_pandas_edgelist(G_proj)\n",
    "df[\"target2\"] = 1\n",
    "df"
   ]
  },
  {
   "cell_type": "code",
   "execution_count": 54,
   "metadata": {},
   "outputs": [],
   "source": [
    "# Let's make a ten fold split\n",
    "kf = KFold(n_splits = 10, shuffle = True)"
   ]
  },
  {
   "cell_type": "code",
   "execution_count": 55,
   "metadata": {},
   "outputs": [],
   "source": [
    "# Each fold generates the graph we need for training link prediction and the dataframe\n",
    "# we use to test it.\n",
    "y_true = []\n",
    "y_pred = []\n",
    "for train_index, test_index in kf.split(df):\n",
    "   # Generate the train graph\n",
    "   G_train = nx.from_pandas_edgelist(df.loc[train_index], source = \"source\", target = \"target\")\n",
    "   # Make a dataframe with the results of the jaccard prediction\n",
    "   score = pd.DataFrame(list(nx.jaccard_coefficient(G_train)), columns = (\"source\", \"target\", \"score\"))\n",
    "   # Merge with the test set\n",
    "   df_test = df.loc[test_index].merge(score, on = [\"source\", \"target\"], how = \"outer\").fillna(0)\n",
    "   # Threshold the results with the cutoff\n",
    "   df_test[\"prediction\"] = df_test[\"score\"] >= 0.5\n",
    "   y_true += list(df_test[\"target2\"])\n",
    "   y_pred += list(df_test[\"prediction\"])"
   ]
  },
  {
   "cell_type": "code",
   "execution_count": 56,
   "metadata": {},
   "outputs": [
    {
     "data": {
      "text/plain": [
       "array([[3222082,    2193],\n",
       "       [   1116,    1137]], dtype=int64)"
      ]
     },
     "execution_count": 56,
     "metadata": {},
     "output_type": "execute_result"
    }
   ],
   "source": [
    "# Make the confusion matrix, which has this shape:\n",
    "# [[ TN, FN ],\n",
    "#  [ FP, TP ]]\n",
    "confusion_matrix(y_true, y_pred)"
   ]
  },
  {
   "cell_type": "markdown",
   "metadata": {},
   "source": [
    "### Compare the methods\n",
    "from: https://www.networkatlas.eu/exercise.htm?c=22&e=2"
   ]
  },
  {
   "cell_type": "code",
   "execution_count": 57,
   "metadata": {},
   "outputs": [],
   "source": [
    "import pandas as pd\n",
    "import networkx as nx\n",
    "import matplotlib.pyplot as plt\n",
    "from sklearn.model_selection import KFold\n",
    "from sklearn.metrics import roc_curve, auc"
   ]
  },
  {
   "cell_type": "code",
   "execution_count": 58,
   "metadata": {},
   "outputs": [
    {
     "data": {
      "text/html": [
       "<div>\n",
       "<style scoped>\n",
       "    .dataframe tbody tr th:only-of-type {\n",
       "        vertical-align: middle;\n",
       "    }\n",
       "\n",
       "    .dataframe tbody tr th {\n",
       "        vertical-align: top;\n",
       "    }\n",
       "\n",
       "    .dataframe thead th {\n",
       "        text-align: right;\n",
       "    }\n",
       "</style>\n",
       "<table border=\"1\" class=\"dataframe\">\n",
       "  <thead>\n",
       "    <tr style=\"text-align: right;\">\n",
       "      <th></th>\n",
       "      <th>source</th>\n",
       "      <th>target</th>\n",
       "      <th>weight</th>\n",
       "      <th>target2</th>\n",
       "    </tr>\n",
       "  </thead>\n",
       "  <tbody>\n",
       "    <tr>\n",
       "      <th>1</th>\n",
       "      <td>p538</td>\n",
       "      <td>p231</td>\n",
       "      <td>1</td>\n",
       "      <td>1</td>\n",
       "    </tr>\n",
       "    <tr>\n",
       "      <th>2</th>\n",
       "      <td>p538</td>\n",
       "      <td>p232</td>\n",
       "      <td>1</td>\n",
       "      <td>1</td>\n",
       "    </tr>\n",
       "    <tr>\n",
       "      <th>3</th>\n",
       "      <td>p81</td>\n",
       "      <td>p332</td>\n",
       "      <td>1</td>\n",
       "      <td>1</td>\n",
       "    </tr>\n",
       "    <tr>\n",
       "      <th>5</th>\n",
       "      <td>p81</td>\n",
       "      <td>p162</td>\n",
       "      <td>1</td>\n",
       "      <td>1</td>\n",
       "    </tr>\n",
       "    <tr>\n",
       "      <th>6</th>\n",
       "      <td>p81</td>\n",
       "      <td>p435</td>\n",
       "      <td>1</td>\n",
       "      <td>1</td>\n",
       "    </tr>\n",
       "    <tr>\n",
       "      <th>...</th>\n",
       "      <td>...</td>\n",
       "      <td>...</td>\n",
       "      <td>...</td>\n",
       "      <td>...</td>\n",
       "    </tr>\n",
       "    <tr>\n",
       "      <th>2248</th>\n",
       "      <td>p584</td>\n",
       "      <td>p353</td>\n",
       "      <td>1</td>\n",
       "      <td>1</td>\n",
       "    </tr>\n",
       "    <tr>\n",
       "      <th>2249</th>\n",
       "      <td>p436</td>\n",
       "      <td>p256</td>\n",
       "      <td>1</td>\n",
       "      <td>1</td>\n",
       "    </tr>\n",
       "    <tr>\n",
       "      <th>2250</th>\n",
       "      <td>p614</td>\n",
       "      <td>p54</td>\n",
       "      <td>1</td>\n",
       "      <td>1</td>\n",
       "    </tr>\n",
       "    <tr>\n",
       "      <th>2251</th>\n",
       "      <td>p681</td>\n",
       "      <td>p466</td>\n",
       "      <td>1</td>\n",
       "      <td>1</td>\n",
       "    </tr>\n",
       "    <tr>\n",
       "      <th>2252</th>\n",
       "      <td>p426</td>\n",
       "      <td>p784</td>\n",
       "      <td>1</td>\n",
       "      <td>1</td>\n",
       "    </tr>\n",
       "  </tbody>\n",
       "</table>\n",
       "<p>2028 rows × 4 columns</p>\n",
       "</div>"
      ],
      "text/plain": [
       "     source target  weight  target2\n",
       "1      p538   p231       1        1\n",
       "2      p538   p232       1        1\n",
       "3       p81   p332       1        1\n",
       "5       p81   p162       1        1\n",
       "6       p81   p435       1        1\n",
       "...     ...    ...     ...      ...\n",
       "2248   p584   p353       1        1\n",
       "2249   p436   p256       1        1\n",
       "2250   p614    p54       1        1\n",
       "2251   p681   p466       1        1\n",
       "2252   p426   p784       1        1\n",
       "\n",
       "[2028 rows x 4 columns]"
      ]
     },
     "execution_count": 58,
     "metadata": {},
     "output_type": "execute_result"
    }
   ],
   "source": [
    "df.loc[train_index]"
   ]
  },
  {
   "cell_type": "code",
   "execution_count": 59,
   "metadata": {},
   "outputs": [],
   "source": [
    "pas = pd.DataFrame()\n",
    "jas = pd.DataFrame()\n",
    "aas = pd.DataFrame()\n",
    "ras = pd.DataFrame()\n",
    "\n",
    "for train_index, test_index in kf.split(df):\n",
    "   G = nx.from_pandas_edgelist(df.loc[train_index], source = \"source\", target = \"target\")\n",
    "   pa = pd.DataFrame(list(nx.preferential_attachment(G)), columns = (\"source\", \"target\", \"score\"))\n",
    "   ja = pd.DataFrame(list(nx.jaccard_coefficient(G)), columns = (\"source\", \"target\", \"score\"))\n",
    "   aa = pd.DataFrame(list(nx.adamic_adar_index(G)), columns = (\"source\", \"target\", \"score\"))\n",
    "   ra = pd.DataFrame(list(nx.resource_allocation_index(G)), columns = (\"source\", \"target\", \"score\"))\n",
    "   # Now we keep all scores, because we want to plot the full ROC curve rather than a simple confusion matrix\n",
    "   pas = pd.concat([pas, df.loc[test_index].merge(pa, on = [\"source\", \"target\"], how = \"outer\").fillna(0)])\n",
    "   jas = pd.concat([jas, df.loc[test_index].merge(ja, on = [\"source\", \"target\"], how = \"outer\").fillna(0)])\n",
    "   aas = pd.concat([aas, df.loc[test_index].merge(aa, on = [\"source\", \"target\"], how = \"outer\").fillna(0)])\n",
    "   ras = pd.concat([ras, df.loc[test_index].merge(ra, on = [\"source\", \"target\"], how = \"outer\").fillna(0)])"
   ]
  },
  {
   "cell_type": "code",
   "execution_count": 60,
   "metadata": {},
   "outputs": [],
   "source": [
    "# to look at specific people\n",
    "# ras[ras['source'] == 'p425']"
   ]
  },
  {
   "cell_type": "code",
   "execution_count": 66,
   "metadata": {},
   "outputs": [
    {
     "data": {
      "text/html": [
       "<div>\n",
       "<style scoped>\n",
       "    .dataframe tbody tr th:only-of-type {\n",
       "        vertical-align: middle;\n",
       "    }\n",
       "\n",
       "    .dataframe tbody tr th {\n",
       "        vertical-align: top;\n",
       "    }\n",
       "\n",
       "    .dataframe thead th {\n",
       "        text-align: right;\n",
       "    }\n",
       "</style>\n",
       "<table border=\"1\" class=\"dataframe\">\n",
       "  <thead>\n",
       "    <tr style=\"text-align: right;\">\n",
       "      <th></th>\n",
       "      <th>source</th>\n",
       "      <th>target</th>\n",
       "      <th>weight</th>\n",
       "      <th>target2</th>\n",
       "      <th>score</th>\n",
       "    </tr>\n",
       "  </thead>\n",
       "  <tbody>\n",
       "    <tr>\n",
       "      <th>19880</th>\n",
       "      <td>p815</td>\n",
       "      <td>p336</td>\n",
       "      <td>0.0</td>\n",
       "      <td>0.0</td>\n",
       "      <td>0.742857</td>\n",
       "    </tr>\n",
       "    <tr>\n",
       "      <th>19855</th>\n",
       "      <td>p815</td>\n",
       "      <td>p336</td>\n",
       "      <td>0.0</td>\n",
       "      <td>0.0</td>\n",
       "      <td>0.733766</td>\n",
       "    </tr>\n",
       "    <tr>\n",
       "      <th>20007</th>\n",
       "      <td>p815</td>\n",
       "      <td>p336</td>\n",
       "      <td>0.0</td>\n",
       "      <td>0.0</td>\n",
       "      <td>0.726190</td>\n",
       "    </tr>\n",
       "    <tr>\n",
       "      <th>19930</th>\n",
       "      <td>p815</td>\n",
       "      <td>p336</td>\n",
       "      <td>0.0</td>\n",
       "      <td>0.0</td>\n",
       "      <td>0.726190</td>\n",
       "    </tr>\n",
       "    <tr>\n",
       "      <th>18933</th>\n",
       "      <td>p815</td>\n",
       "      <td>p336</td>\n",
       "      <td>0.0</td>\n",
       "      <td>0.0</td>\n",
       "      <td>0.708333</td>\n",
       "    </tr>\n",
       "    <tr>\n",
       "      <th>67609</th>\n",
       "      <td>p51</td>\n",
       "      <td>p151</td>\n",
       "      <td>0.0</td>\n",
       "      <td>0.0</td>\n",
       "      <td>0.666667</td>\n",
       "    </tr>\n",
       "    <tr>\n",
       "      <th>292180</th>\n",
       "      <td>p74</td>\n",
       "      <td>p151</td>\n",
       "      <td>0.0</td>\n",
       "      <td>0.0</td>\n",
       "      <td>0.666667</td>\n",
       "    </tr>\n",
       "    <tr>\n",
       "      <th>51315</th>\n",
       "      <td>p411</td>\n",
       "      <td>p283</td>\n",
       "      <td>0.0</td>\n",
       "      <td>0.0</td>\n",
       "      <td>0.642857</td>\n",
       "    </tr>\n",
       "    <tr>\n",
       "      <th>19955</th>\n",
       "      <td>p815</td>\n",
       "      <td>p336</td>\n",
       "      <td>0.0</td>\n",
       "      <td>0.0</td>\n",
       "      <td>0.625000</td>\n",
       "    </tr>\n",
       "    <tr>\n",
       "      <th>19759</th>\n",
       "      <td>p815</td>\n",
       "      <td>p336</td>\n",
       "      <td>0.0</td>\n",
       "      <td>0.0</td>\n",
       "      <td>0.611111</td>\n",
       "    </tr>\n",
       "    <tr>\n",
       "      <th>62748</th>\n",
       "      <td>p652</td>\n",
       "      <td>p634</td>\n",
       "      <td>0.0</td>\n",
       "      <td>0.0</td>\n",
       "      <td>0.590909</td>\n",
       "    </tr>\n",
       "    <tr>\n",
       "      <th>70930</th>\n",
       "      <td>p304</td>\n",
       "      <td>p305</td>\n",
       "      <td>0.0</td>\n",
       "      <td>0.0</td>\n",
       "      <td>0.549390</td>\n",
       "    </tr>\n",
       "    <tr>\n",
       "      <th>298829</th>\n",
       "      <td>p74</td>\n",
       "      <td>p151</td>\n",
       "      <td>0.0</td>\n",
       "      <td>0.0</td>\n",
       "      <td>0.533333</td>\n",
       "    </tr>\n",
       "    <tr>\n",
       "      <th>69315</th>\n",
       "      <td>p51</td>\n",
       "      <td>p151</td>\n",
       "      <td>0.0</td>\n",
       "      <td>0.0</td>\n",
       "      <td>0.533333</td>\n",
       "    </tr>\n",
       "    <tr>\n",
       "      <th>277104</th>\n",
       "      <td>p237</td>\n",
       "      <td>p74</td>\n",
       "      <td>0.0</td>\n",
       "      <td>0.0</td>\n",
       "      <td>0.500000</td>\n",
       "    </tr>\n",
       "  </tbody>\n",
       "</table>\n",
       "</div>"
      ],
      "text/plain": [
       "       source target  weight  target2     score\n",
       "19880    p815   p336     0.0      0.0  0.742857\n",
       "19855    p815   p336     0.0      0.0  0.733766\n",
       "20007    p815   p336     0.0      0.0  0.726190\n",
       "19930    p815   p336     0.0      0.0  0.726190\n",
       "18933    p815   p336     0.0      0.0  0.708333\n",
       "67609     p51   p151     0.0      0.0  0.666667\n",
       "292180    p74   p151     0.0      0.0  0.666667\n",
       "51315    p411   p283     0.0      0.0  0.642857\n",
       "19955    p815   p336     0.0      0.0  0.625000\n",
       "19759    p815   p336     0.0      0.0  0.611111\n",
       "62748    p652   p634     0.0      0.0  0.590909\n",
       "70930    p304   p305     0.0      0.0  0.549390\n",
       "298829    p74   p151     0.0      0.0  0.533333\n",
       "69315     p51   p151     0.0      0.0  0.533333\n",
       "277104   p237    p74     0.0      0.0  0.500000"
      ]
     },
     "execution_count": 66,
     "metadata": {},
     "output_type": "execute_result"
    }
   ],
   "source": [
    "mod = ras\n",
    "mod[mod['score'] > 0].sort_values(by='score', ascending=False).head(15) #these have existing edges?\n",
    "\n",
    "mod[mod['weight'] == 0].sort_values(by='score', ascending=False).head(15) #eliminating existing edges shows multiple edges for the same pairs of nodes."
   ]
  },
  {
   "cell_type": "code",
   "execution_count": 65,
   "metadata": {},
   "outputs": [],
   "source": [
    "# And now we draw the ROCs\n",
    "fpr_pa, tpr_pa, thresholds = roc_curve(pas[\"target2\"], pas[\"score\"])\n",
    "fpr_ja, tpr_ja, thresholds = roc_curve(jas[\"target2\"], jas[\"score\"])\n",
    "fpr_aa, tpr_aa, thresholds = roc_curve(aas[\"target2\"], aas[\"score\"])\n",
    "fpr_ra, tpr_ra, thresholds = roc_curve(ras[\"target2\"], ras[\"score\"])"
   ]
  },
  {
   "cell_type": "code",
   "execution_count": 111,
   "metadata": {},
   "outputs": [
    {
     "data": {
      "image/png": "[encoded data removed]",
      "text/plain": [
       "<Figure size 432x288 with 1 Axes>"
      ]
     },
     "metadata": {
      "needs_background": "light"
     },
     "output_type": "display_data"
    }
   ],
   "source": [
    "# First we plot the random classifier performance\n",
    "plt.plot([0, 1], [0, 1], color = 'gray', lw = 1)\n",
    "# Then the actual classifiers\n",
    "plt.plot(fpr_pa, tpr_pa, label = \"PA\")\n",
    "plt.plot(fpr_ja, tpr_ja, label = \"JA\")\n",
    "plt.plot(fpr_aa, tpr_aa, label = \"AA\")\n",
    "plt.plot(fpr_ra, tpr_ra, label = \"RA\", alpha=.5)\n",
    "plt.legend(loc = \"lower right\")\n",
    "plt.show()"
   ]
  },
  {
   "cell_type": "code",
   "execution_count": 112,
   "metadata": {},
   "outputs": [
    {
     "name": "stdout",
     "output_type": "stream",
     "text": [
      "PA's AUC: 0.6824\n",
      "JA's AUC: 0.9505\n",
      "AA's AUC: 0.9521\n",
      "RA's AUC: 0.9522\n"
     ]
    }
   ],
   "source": [
    "# Let's print the AUCs\n",
    "print(\"PA's AUC: %1.4f\" % auc(fpr_pa, tpr_pa))\n",
    "print(\"JA's AUC: %1.4f\" % auc(fpr_ja, tpr_ja))\n",
    "print(\"AA's AUC: %1.4f\" % auc(fpr_aa, tpr_aa))\n",
    "print(\"RA's AUC: %1.4f\" % auc(fpr_ra, tpr_ra))\n",
    "\n",
    "# Resource allocation works best!"
   ]
  },
  {
   "cell_type": "markdown",
   "metadata": {},
   "source": [
    "### Calculate precision, recall, and F1-score for the four link predictors\n",
    "from: https://www.networkatlas.eu/exercise.htm?c=22&e=3"
   ]
  },
  {
   "cell_type": "code",
   "execution_count": 113,
   "metadata": {},
   "outputs": [],
   "source": [
    "from sklearn.metrics import precision_recall_fscore_support"
   ]
  },
  {
   "cell_type": "code",
   "execution_count": 123,
   "metadata": {},
   "outputs": [],
   "source": [
    "# Get only top 10% of scores as actual predictions\n",
    "pas[\"prediction\"] = pas[\"score\"].rank(pct = True) >= 0.9\n",
    "jas[\"prediction\"] = jas[\"score\"].rank(pct = True) >= 0.9\n",
    "aas[\"prediction\"] = aas[\"score\"].rank(pct = True) >= 0.9\n",
    "ras[\"prediction\"] = ras[\"score\"].rank(pct = True) >= 0.9"
   ]
  },
  {
   "cell_type": "code",
   "execution_count": 124,
   "metadata": {},
   "outputs": [],
   "source": [
    "# And now we calculate our quality measures\n",
    "prec_pa, recall_pa, f1_pa, _ = precision_recall_fscore_support(pas[\"target2\"], pas[\"prediction\"], average = \"binary\")\n",
    "prec_ja, recall_ja, f1_ja, _ = precision_recall_fscore_support(jas[\"target2\"], jas[\"prediction\"], average = \"binary\")\n",
    "prec_aa, recall_aa, f1_aa, _ = precision_recall_fscore_support(aas[\"target2\"], aas[\"prediction\"], average = \"binary\")\n",
    "prec_ra, recall_ra, f1_ra, _ = precision_recall_fscore_support(ras[\"target2\"], ras[\"prediction\"], average = \"binary\")"
   ]
  },
  {
   "cell_type": "code",
   "execution_count": 125,
   "metadata": {},
   "outputs": [
    {
     "name": "stdout",
     "output_type": "stream",
     "text": [
      "PA's precision = 0.0027, recall = 0.3879, F1 = 0.0054\n",
      "JA's precision = 0.0293, recall = 0.9072, F1 = 0.0568\n",
      "AA's precision = 0.0293, recall = 0.9072, F1 = 0.0568\n",
      "RA's precision = 0.0293, recall = 0.9072, F1 = 0.0568\n"
     ]
    }
   ],
   "source": [
    "\n",
    "# Let's figure out who performs best:\n",
    "print(\"PA's precision = %1.4f, recall = %1.4f, F1 = %1.4f\" % (prec_pa, recall_pa, f1_pa))\n",
    "print(\"JA's precision = %1.4f, recall = %1.4f, F1 = %1.4f\" % (prec_ja, recall_ja, f1_ja))\n",
    "print(\"AA's precision = %1.4f, recall = %1.4f, F1 = %1.4f\" % (prec_aa, recall_aa, f1_aa))\n",
    "print(\"RA's precision = %1.4f, recall = %1.4f, F1 = %1.4f\" % (prec_ra, recall_ra, f1_ra))\n",
    "\n",
    "# Resource allocation is both the most precise and complete, and thus has also the highest F1 score"
   ]
  },
  {
   "cell_type": "markdown",
   "metadata": {},
   "source": [
    "### Draw the precision-recall curves of the four link predictors\n",
    "from: https://www.networkatlas.eu/exercise.htm?c=22&e=4"
   ]
  },
  {
   "cell_type": "code",
   "execution_count": 117,
   "metadata": {},
   "outputs": [],
   "source": [
    "from sklearn.metrics import precision_recall_curve, auc"
   ]
  },
  {
   "cell_type": "code",
   "execution_count": 118,
   "metadata": {},
   "outputs": [],
   "source": [
    "# Let's draw the precision-recall curve! Not much different from ROC\n",
    "pr_pa, rec_pa, thresholds = precision_recall_curve(pas[\"target2\"], pas[\"score\"])\n",
    "pr_ja, rec_ja, thresholds = precision_recall_curve(jas[\"target2\"], jas[\"score\"])\n",
    "pr_aa, rec_aa, thresholds = precision_recall_curve(aas[\"target2\"], aas[\"score\"])\n",
    "pr_ra, rec_ra, thresholds = precision_recall_curve(ras[\"target2\"], ras[\"score\"])"
   ]
  },
  {
   "cell_type": "code",
   "execution_count": 119,
   "metadata": {},
   "outputs": [
    {
     "data": {
      "image/png": "[encoded data removed]",
      "text/plain": [
       "<Figure size 432x288 with 1 Axes>"
      ]
     },
     "metadata": {
      "needs_background": "light"
     },
     "output_type": "display_data"
    }
   ],
   "source": [
    "# Remember that here the random classifier is not the 45 degree line, so let's just plot the curves\n",
    "# I use a logarithmic x axis for convenience.\n",
    "plt.plot(rec_pa, pr_pa, label = \"PA\")\n",
    "plt.plot(rec_ja, pr_ja, label = \"JA\")\n",
    "plt.plot(rec_aa, pr_aa, label = \"AA\")\n",
    "plt.plot(rec_ra, pr_ra, label = \"RA\")\n",
    "plt.legend(loc = \"lower right\")\n",
    "plt.show()"
   ]
  },
  {
   "cell_type": "code",
   "execution_count": 120,
   "metadata": {},
   "outputs": [
    {
     "name": "stdout",
     "output_type": "stream",
     "text": [
      "PA's AUC: 0.0049\n",
      "JA's AUC: 0.3478\n",
      "AA's AUC: 0.8073\n",
      "RA's AUC: 0.8130\n"
     ]
    }
   ],
   "source": [
    "# Let's print the AUCs\n",
    "print(\"PA's AUC: %1.4f\" % auc(rec_pa, pr_pa))\n",
    "print(\"JA's AUC: %1.4f\" % auc(rec_ja, pr_ja))\n",
    "print(\"AA's AUC: %1.4f\" % auc(rec_aa, pr_aa))\n",
    "print(\"RA's AUC: %1.4f\" % auc(rec_ra, pr_ra))\n",
    "\n",
    "# We already knew that resource allocation works best."
   ]
  },
  {
   "cell_type": "code",
   "execution_count": null,
   "metadata": {},
   "outputs": [],
   "source": []
  }
 ],
 "metadata": {
  "interpreter": {
   "hash": "82a91a22060084f3e8dbe72ba49a002eddd687e7ed0e7d249946fe1b995c1ddc"
  },
  "kernelspec": {
   "display_name": "Python 3",
   "language": "python",
   "name": "python3"
  },
  "language_info": {
   "codemirror_mode": {
    "name": "ipython",
    "version": 3
   },
   "file_extension": ".py",
   "mimetype": "text/x-python",
   "name": "python",
   "nbconvert_exporter": "python",
   "pygments_lexer": "ipython3",
   "version": "3.8.5"
  }
 },
 "nbformat": 4,
 "nbformat_minor": 2
}
