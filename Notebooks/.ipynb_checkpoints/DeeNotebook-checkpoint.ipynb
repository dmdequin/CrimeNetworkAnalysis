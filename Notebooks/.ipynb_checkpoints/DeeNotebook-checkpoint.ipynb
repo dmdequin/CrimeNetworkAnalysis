{
 "cells": [
  {
   "cell_type": "markdown",
   "id": "intelligent-instrument",
   "metadata": {},
   "source": [
    "# Network Analysis Project\n",
    "## Crime Network Analysis\n",
    "Professor: Michele Coscia\n",
    "\n",
    "This notebook contains all of the code developed for the Network Analysis Course at ITU. We will be using...**finish**\n",
    "\n",
    "**Add Description**\n",
    "\n",
    "Group 10:  \n",
    "Carl August Wismer ([cwis@itu.dk](mailto:cwis@itu.dk))  \n",
    "Crisanna Cornish ([ccor@itu.dk](mailto:ccor@itu.dk))  \n",
    "Danielle Dequin ([ddeq@itu.dk](mailto:ddeq@itu.dk))  \n",
    "Maria Do Carmo Madeira Santos Silva Passos de Sousa ([mdom@itu.dk](mailto:mdom@itu.dk))  \n",
    "Moneeca Abru Iftikhar Latif ([abml@itu.dk](mailto:abml@itu.dk))  \n",
    "Sabrina Fonseca Pereira ([sabf@itu.dk](mailto:sabf@itu.dk))  \n",
    "\n",
    "Created: 27-09-2021  \n",
    "Last Modified: 27-09-2021"
   ]
  },
  {
   "cell_type": "markdown",
   "id": "vanilla-digest",
   "metadata": {},
   "source": [
    "# Data Source\n",
    "\n",
    "The data are a network of associations among suspects, victims, and/or witnesses involved in crimes in St. Louis in the 1990s. Data are derived from police records, via snowball sampling from five initial homicides. Left nodes are people, right nodes are crime events, and edges connect people to particular crimes events they were associated with. Metadata includes names, genders, and roles (suspects, victims, and/or witnesses).\n",
    "\n",
    "This is an undirected, unweighted, bipartite network with 1380 nodes and 1476 edges.\n",
    "\n",
    "Data can be downloaded [here](http://konect.cc/networks/moreno_crime/) or [here](https://networks.skewed.de/net/crime)."
   ]
  },
  {
   "cell_type": "markdown",
   "id": "still-sailing",
   "metadata": {},
   "source": [
    "# Imports"
   ]
  },
  {
   "cell_type": "code",
   "execution_count": 1,
   "id": "sound-replacement",
   "metadata": {},
   "outputs": [],
   "source": [
    "import numpy as np\n",
    "import networkx as nx\n",
    "from networkx.algorithms import bipartite\n",
    "import matplotlib.pyplot as plt\n",
    "from collections import Counter"
   ]
  },
  {
   "cell_type": "markdown",
   "id": "executed-stationery",
   "metadata": {},
   "source": [
    "# PATHS"
   ]
  },
  {
   "cell_type": "code",
   "execution_count": 2,
   "id": "simple-booking",
   "metadata": {},
   "outputs": [],
   "source": [
    "DATA = '../Data/out.moreno_crime_crime'\n",
    "ROLE = '../Data/rel.moreno_crime_crime.person.role'\n",
    "NAME = '../Data/ent.moreno_crime_crime.person.name'\n",
    "SEX =  '../Data/ent.moreno_crime_crime.person.sex'"
   ]
  },
  {
   "cell_type": "markdown",
   "id": "mighty-three",
   "metadata": {},
   "source": [
    "# Constants"
   ]
  },
  {
   "cell_type": "markdown",
   "id": "cubic-penguin",
   "metadata": {},
   "source": [
    "# Functions"
   ]
  },
  {
   "cell_type": "markdown",
   "id": "restricted-complex",
   "metadata": {},
   "source": [
    "# Load Data"
   ]
  },
  {
   "cell_type": "code",
   "execution_count": 3,
   "id": "worth-helen",
   "metadata": {},
   "outputs": [],
   "source": [
    "with open(DATA) as f:\n",
    "    data = f.read().splitlines()\n",
    "    \n",
    "with open(ROLE) as f:\n",
    "    role = f.read().splitlines()\n",
    "    \n",
    "with open(NAME) as f:\n",
    "    name = f.read().splitlines()\n",
    "    \n",
    "with open(SEX) as f:\n",
    "    sex = f.read().splitlines()\n",
    "    \n",
    "for i in range(len(data)):\n",
    "    data[i] = 'p' + data[i] #adds 'p' to the People nodes to differentiate them"
   ]
  },
  {
   "cell_type": "code",
   "execution_count": 4,
   "id": "weighted-portable",
   "metadata": {},
   "outputs": [
    {
     "name": "stdout",
     "output_type": "stream",
     "text": [
      "1380 1476\n"
     ]
    }
   ],
   "source": [
    "B = nx.read_edgelist(data) #read edgelist in\n",
    "print(len(B.nodes()), len(B.edges())) #sanity check (1380, 1476)"
   ]
  },
  {
   "cell_type": "code",
   "execution_count": 28,
   "id": "pacific-shepherd",
   "metadata": {},
   "outputs": [
    {
     "name": "stdout",
     "output_type": "stream",
     "text": [
      "There are 829 unique people and 551 unique crime events.\n"
     ]
    }
   ],
   "source": [
    "graph = np.loadtxt(DATA, dtype=str)\n",
    "a = np.unique(graph[:,0]) #people nodes\n",
    "b = np.unique(graph[:,1]) #crime nodes\n",
    "a = ['p' + a for a in a] #add string to differentiate\n",
    "print(f\"There are {len(a)} unique people and {len(b)} unique crime events.\")"
   ]
  },
  {
   "cell_type": "markdown",
   "id": "great-demographic",
   "metadata": {},
   "source": [
    "# Exploratory Data Analysis"
   ]
  },
  {
   "cell_type": "markdown",
   "id": "living-groove",
   "metadata": {},
   "source": [
    "## Create Graph"
   ]
  },
  {
   "cell_type": "code",
   "execution_count": 6,
   "id": "forward-crowd",
   "metadata": {},
   "outputs": [],
   "source": [
    "G = nx.Graph()\n",
    "\n",
    "# add nodes\n",
    "for j in range(len(a)):\n",
    "    G.add_node(a[j], bipartite=0, data=True, name=name[j], sex=sex[j]) #Add attributes name and sex\n",
    "\n",
    "G.add_nodes_from(b, bipartite=1, data=True)\n",
    "\n",
    "#add edges\n",
    "i = 0\n",
    "for edge in B.edges():\n",
    "    G.add_edge(edge[0], edge[1], role= [role[i]])\n",
    "    i+=1"
   ]
  },
  {
   "cell_type": "code",
   "execution_count": 7,
   "id": "still-situation",
   "metadata": {},
   "outputs": [
    {
     "name": "stdout",
     "output_type": "stream",
     "text": [
      "Num. of nodes: 1380 \n",
      "Num. of edges: 1476 \n",
      "Is bipartite? True \n",
      "Is connected? False\n"
     ]
    }
   ],
   "source": [
    "# sanity check\n",
    "print(\n",
    "    'Num. of nodes: {} \\nNum. of edges: {} \\nIs bipartite? {} \\nIs connected? {}'.format(\n",
    "        G.number_of_nodes(), \n",
    "        G.number_of_edges(), \n",
    "        nx.is_bipartite(G),\n",
    "        nx.is_connected(G)\n",
    "        )\n",
    "    )"
   ]
  },
  {
   "cell_type": "markdown",
   "id": "critical-competition",
   "metadata": {},
   "source": [
    "From the [official Networkx docs](https://networkx.org/documentation/stable/reference/algorithms/bipartite.html):\n",
    "\n",
    "Many algorithms of the bipartite module of NetworkX require, as an argument, a container with all the nodes that belong to one set, in addition to the bipartite graph B. The functions in the bipartite package do not check that the node set is actually correct nor that the input graph is actually bipartite. If B is connected, you can find the two node sets using a two-coloring algorithm:\n",
    "\n",
    "```py\n",
    ">>> nx.is_connected(B)\n",
    "True\n",
    ">>> bottom_nodes, top_nodes = bipartite.sets(B)\n",
    "```\n",
    "However, if the input graph is not connected, there are more than one possible colorations. This is the reason why we require the user to pass a container with all nodes of one bipartite node set as an argument to most bipartite functions. In the face of ambiguity, we refuse the temptation to guess and raise an AmbiguousSolution Exception if the input graph for bipartite.sets is disconnected.\n",
    "\n",
    "Using the bipartite node attribute, you can easily get the two node sets:"
   ]
  },
  {
   "cell_type": "code",
   "execution_count": 8,
   "id": "recorded-fruit",
   "metadata": {},
   "outputs": [],
   "source": [
    "top_nodes = {n for n, d in G.nodes(data=True) if d[\"bipartite\"] == 0}\n",
    "bottom_nodes = set(G) - top_nodes"
   ]
  },
  {
   "cell_type": "markdown",
   "id": "pleased-discrimination",
   "metadata": {},
   "source": [
    "## Fetching data"
   ]
  },
  {
   "cell_type": "code",
   "execution_count": 9,
   "id": "vulnerable-retention",
   "metadata": {},
   "outputs": [
    {
     "name": "stdout",
     "output_type": "stream",
     "text": [
      "AbelDennis\n",
      "1\n"
     ]
    }
   ],
   "source": [
    "print(nx.get_node_attributes(G, 'name')['p1']) #check name of person 'p1' = 'AbelDennis'\n",
    "print(nx.get_node_attributes(G, 'sex')['p1']) #check sex of person 'p1' = '1'"
   ]
  },
  {
   "cell_type": "code",
   "execution_count": 10,
   "id": "antique-appreciation",
   "metadata": {},
   "outputs": [
    {
     "data": {
      "text/plain": [
       "['Suspect']"
      ]
     },
     "execution_count": 10,
     "metadata": {},
     "output_type": "execute_result"
    }
   ],
   "source": [
    "nx.get_edge_attributes(G, 'role')['p1', '1']\n",
    "#check role of edge between person p1 and crime 1 = 'Suspect'"
   ]
  },
  {
   "cell_type": "markdown",
   "id": "proved-hacker",
   "metadata": {},
   "source": [
    "## Graph stats"
   ]
  },
  {
   "cell_type": "code",
   "execution_count": 11,
   "id": "generic-arizona",
   "metadata": {},
   "outputs": [
    {
     "name": "stdout",
     "output_type": "stream",
     "text": [
      "Density: 0.0032313219302988975 \n",
      "Avarage clustering: 0.42747513026061823\n"
     ]
    }
   ],
   "source": [
    "print(\n",
    "    'Density: {} \\nAvarage clustering: {}'.format(\n",
    "        bipartite.density(G, bottom_nodes), \n",
    "        bipartite.average_clustering(G)\n",
    "        )\n",
    "    )"
   ]
  },
  {
   "cell_type": "code",
   "execution_count": 12,
   "id": "classical-harris",
   "metadata": {},
   "outputs": [
    {
     "data": {
      "text/plain": [
       "0.4274751302606178"
      ]
     },
     "execution_count": 12,
     "metadata": {},
     "output_type": "execute_result"
    }
   ],
   "source": [
    "cluster = bipartite.clustering(B)\n",
    "sum(cluster.values())/len(cluster.values())"
   ]
  },
  {
   "cell_type": "markdown",
   "id": "compliant-pulse",
   "metadata": {},
   "source": [
    "## Nodes stats"
   ]
  },
  {
   "cell_type": "code",
   "execution_count": 13,
   "id": "facial-integer",
   "metadata": {},
   "outputs": [],
   "source": [
    "# dicts with stats for each node\n",
    "clustering = bipartite.clustering(G)\n",
    "betweenness_centrality = bipartite.betweenness_centrality(G, top_nodes)\n",
    "closeness_centrality = bipartite.closeness_centrality(G, top_nodes)"
   ]
  },
  {
   "cell_type": "markdown",
   "id": "annual-surgery",
   "metadata": {},
   "source": [
    "## Plots"
   ]
  },
  {
   "cell_type": "code",
   "execution_count": 14,
   "id": "infinite-sunset",
   "metadata": {},
   "outputs": [
    {
     "data": {
      "image/png": "[encoded data removed]",
      "text/plain": [
       "<Figure size 432x288 with 1 Axes>"
      ]
     },
     "metadata": {
      "needs_background": "light"
     },
     "output_type": "display_data"
    }
   ],
   "source": [
    "e_p = []\n",
    "e_c = []\n",
    "for k in G.nodes():\n",
    "    if G.nodes[k][\"bipartite\"] == 0:\n",
    "        e_p.append(len(G.edges(k)))\n",
    "    else:\n",
    "        e_c.append(len(G.edges(k)))\n",
    "\n",
    "e_cc = Counter(e_c)\n",
    "plt.scatter(e_cc.keys(), e_cc.values())\n",
    "plt.title('number of people involved in each crime')\n",
    "plt.xlabel('Number of people')\n",
    "plt.ylabel('Count');"
   ]
  },
  {
   "cell_type": "code",
   "execution_count": 15,
   "id": "metric-reunion",
   "metadata": {},
   "outputs": [
    {
     "data": {
      "image/png": "[encoded data removed]",
      "text/plain": [
       "<Figure size 432x288 with 1 Axes>"
      ]
     },
     "metadata": {
      "needs_background": "light"
     },
     "output_type": "display_data"
    }
   ],
   "source": [
    "e_pc = Counter(e_p)\n",
    "plt.scatter(e_pc.keys(), e_pc.values())\n",
    "plt.title('number of crimes each person has any involvement in')\n",
    "plt.xlabel('Number of crimes')\n",
    "plt.ylabel('Count');"
   ]
  },
  {
   "cell_type": "code",
   "execution_count": 16,
   "id": "opening-measure",
   "metadata": {},
   "outputs": [
    {
     "data": {
      "image/png": "[encoded data removed]",
      "text/plain": [
       "<Figure size 432x288 with 1 Axes>"
      ]
     },
     "metadata": {},
     "output_type": "display_data"
    }
   ],
   "source": [
    "P = bipartite.weighted_projected_graph(G, top_nodes)\n",
    "nx.draw(P, node_size=20)"
   ]
  },
  {
   "cell_type": "code",
   "execution_count": 17,
   "id": "detailed-allergy",
   "metadata": {},
   "outputs": [
    {
     "data": {
      "image/png": "[encoded data removed]",
      "text/plain": [
       "<Figure size 432x288 with 1 Axes>"
      ]
     },
     "metadata": {},
     "output_type": "display_data"
    }
   ],
   "source": [
    "C = bipartite.weighted_projected_graph(G, bottom_nodes)\n",
    "nx.draw(C, node_size=20)"
   ]
  }
 ],
 "metadata": {
  "interpreter": {
   "hash": "82a91a22060084f3e8dbe72ba49a002eddd687e7ed0e7d249946fe1b995c1ddc"
  },
  "kernelspec": {
   "display_name": "Python 3",
   "language": "python",
   "name": "python3"
  },
  "language_info": {
   "codemirror_mode": {
    "name": "ipython",
    "version": 3
   },
   "file_extension": ".py",
   "mimetype": "text/x-python",
   "name": "python",
   "nbconvert_exporter": "python",
   "pygments_lexer": "ipython3",
   "version": "3.8.5"
  }
 },
 "nbformat": 4,
 "nbformat_minor": 5
}
