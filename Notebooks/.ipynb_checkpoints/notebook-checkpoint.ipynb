{
 "cells": [
  {
   "cell_type": "markdown",
   "id": "cloudy-favorite",
   "metadata": {},
   "source": [
    "# Network Analysis\n",
    "## Crime Network Analysis\n",
    "### Professor - Michele Coscia\n",
    "\n",
    "This notebook contains all of the code developed for the Network Analysis Course at ITU. We will be using...**finish**\n",
    "\n",
    "**Add Description**\n",
    "\n",
    "Group 10:<br>\n",
    "Crisanna Cornish (ccor@itu.dk)<br>\n",
    "Danielle Dequin (ddeq@itu.dk)<br>\n",
    "Moneeca Abru Iftikhar Latif (abml@itu.dk)<br>\n",
    "Carl August Wismer (cwis@itu.dk)<br>\n",
    "Sabrina Fonseca Pereira (sabf@itu.dk)<br>\n",
    "Maria Do Carmo Madeira Santos Silva Passos de Sousa (mdom@itu.dk)\n",
    "\n",
    "Created: 27-09-2021<br>\n",
    "Last Modified: 27-09-2021"
   ]
  },
  {
   "cell_type": "markdown",
   "id": "secure-crime",
   "metadata": {},
   "source": [
    "# Data Source\n",
    "\n",
    "The data are a network of associations among suspects, victims, and/or witnesses involved in crimes in St. Louis in the 1990s. Data are derived from police records, via snowball sampling from five initial homicides. Left nodes are people, right nodes are crime events, and edges connect people to particular crimes events they were associated with. Metadata includes names, genders, and roles (suspects, victims, and/or witnesses).\n",
    "\n",
    "There are 1380 nodes and 1476 edges.\n",
    "\n",
    "Data can be downloaded here: http://konect.cc/networks/moreno_crime/ or https://networks.skewed.de/net/crime ."
   ]
  },
  {
   "cell_type": "markdown",
   "id": "constitutional-patent",
   "metadata": {},
   "source": [
    "# Imports"
   ]
  },
  {
   "cell_type": "code",
   "execution_count": 1,
   "id": "numerous-balloon",
   "metadata": {},
   "outputs": [],
   "source": [
    "import numpy as np\n",
    "import networkx as nx\n",
    "from networkx.algorithms import bipartite"
   ]
  },
  {
   "cell_type": "markdown",
   "id": "ethical-continuity",
   "metadata": {},
   "source": [
    "# Constants"
   ]
  },
  {
   "cell_type": "markdown",
   "id": "focused-identifier",
   "metadata": {},
   "source": [
    "# Functions"
   ]
  },
  {
   "cell_type": "markdown",
   "id": "vanilla-shift",
   "metadata": {},
   "source": [
    "# Load Data"
   ]
  },
  {
   "cell_type": "code",
   "execution_count": 6,
   "id": "circular-guest",
   "metadata": {},
   "outputs": [],
   "source": [
    "DATA = '../Data/out.moreno_crime_crime'"
   ]
  },
  {
   "cell_type": "code",
   "execution_count": 12,
   "id": "pending-cleaner",
   "metadata": {},
   "outputs": [
    {
     "data": {
      "text/plain": [
       "1475"
      ]
     },
     "execution_count": 12,
     "metadata": {},
     "output_type": "execute_result"
    }
   ],
   "source": [
    "B = nx.read_edgelist(DATA)\n",
    "# The list of edges\n",
    "aux = B.edges()\n",
    "len(aux)"
   ]
  },
  {
   "cell_type": "code",
   "execution_count": 10,
   "id": "elegant-rescue",
   "metadata": {},
   "outputs": [
    {
     "name": "stdout",
     "output_type": "stream",
     "text": [
      "There are 829 unique people and 551 unique crime events\n"
     ]
    }
   ],
   "source": [
    "graph = np.loadtxt(DATA)\n",
    "a = np.unique(graph[:,0]) # Nodes on the left\n",
    "b = np.unique(graph[:,1]) # Nodes on the right\n",
    "b = b*1000 # Multiply nodes on the right by 1000 to get unique node id's\n",
    "print(f\"There are {a.shape[0]} unique people and {b.shape[0]} unique crime events\")"
   ]
  },
  {
   "cell_type": "markdown",
   "id": "fixed-convenience",
   "metadata": {},
   "source": [
    "# Exploratory Data Analysis"
   ]
  },
  {
   "cell_type": "code",
   "execution_count": 4,
   "id": "still-trance",
   "metadata": {},
   "outputs": [
    {
     "name": "stdout",
     "output_type": "stream",
     "text": [
      "829\n",
      "551\n"
     ]
    }
   ],
   "source": [
    "G = nx.Graph()\n",
    "G.add_nodes_from(list(a), bipartite=0, data=True)\n",
    "print(len(G.nodes()))\n",
    "G.add_nodes_from(list(b), bipartite=1, data=True)\n",
    "print(len(G.nodes())-829)"
   ]
  },
  {
   "cell_type": "code",
   "execution_count": 5,
   "id": "vanilla-python",
   "metadata": {},
   "outputs": [
    {
     "data": {
      "text/plain": [
       "1380"
      ]
     },
     "execution_count": 5,
     "metadata": {},
     "output_type": "execute_result"
    }
   ],
   "source": [
    "len(G.nodes())"
   ]
  },
  {
   "cell_type": "code",
   "execution_count": null,
   "id": "intensive-calculation",
   "metadata": {},
   "outputs": [],
   "source": []
  },
  {
   "cell_type": "code",
   "execution_count": null,
   "id": "cardiac-replica",
   "metadata": {},
   "outputs": [],
   "source": []
  },
  {
   "cell_type": "code",
   "execution_count": null,
   "id": "hybrid-scanner",
   "metadata": {},
   "outputs": [],
   "source": []
  }
 ],
 "metadata": {
  "kernelspec": {
   "display_name": "Python 3",
   "language": "python",
   "name": "python3"
  },
  "language_info": {
   "codemirror_mode": {
    "name": "ipython",
    "version": 3
   },
   "file_extension": ".py",
   "mimetype": "text/x-python",
   "name": "python",
   "nbconvert_exporter": "python",
   "pygments_lexer": "ipython3",
   "version": "3.8.5"
  }
 },
 "nbformat": 4,
 "nbformat_minor": 5
}
